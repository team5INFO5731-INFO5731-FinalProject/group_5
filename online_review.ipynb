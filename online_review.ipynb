{
  "nbformat": 4,
  "nbformat_minor": 0,
  "metadata": {
    "colab": {
      "name": "online_review.ipynb",
      "provenance": []
    },
    "kernelspec": {
      "name": "python3",
      "display_name": "Python 3"
    },
    "language_info": {
      "name": "python"
    }
  },
  "cells": [
    {
      "cell_type": "code",
      "metadata": {
        "colab": {
          "base_uri": "https://localhost:8080/",
          "height": 1000
        },
        "id": "CflMnHmOyJCL",
        "outputId": "0b899050-1f9e-4515-a97b-e98fdabba5d7"
      },
      "source": [
        "import pandas as pd\n",
        "df=pd.read_csv('movie_review_cleaned.csv')\n",
        "input_df= df.head(100)\n",
        "print(input_df.head())\n",
        "input_df"
      ],
      "execution_count": null,
      "outputs": [
        {
          "output_type": "stream",
          "text": [
            "  reviews.title  ...                                      Lemmatization\n",
            "0  Just Awesome  ...  love album good hip hop side current pop sound...\n",
            "1          Good  ...             good flavor review collect part promot\n",
            "2          Good  ...                                        good flavor\n",
            "3  Disappointed  ...  read review look buy one coupl lubric ultim di...\n",
            "4    Irritation  ...  husband bought gel u gel caus irrit felt like ...\n",
            "\n",
            "[5 rows x 8 columns]\n"
          ],
          "name": "stdout"
        },
        {
          "output_type": "execute_result",
          "data": {
            "text/html": [
              "<div>\n",
              "<style scoped>\n",
              "    .dataframe tbody tr th:only-of-type {\n",
              "        vertical-align: middle;\n",
              "    }\n",
              "\n",
              "    .dataframe tbody tr th {\n",
              "        vertical-align: top;\n",
              "    }\n",
              "\n",
              "    .dataframe thead th {\n",
              "        text-align: right;\n",
              "    }\n",
              "</style>\n",
              "<table border=\"1\" class=\"dataframe\">\n",
              "  <thead>\n",
              "    <tr style=\"text-align: right;\">\n",
              "      <th></th>\n",
              "      <th>reviews.title</th>\n",
              "      <th>reviews.text</th>\n",
              "      <th>Lower Case</th>\n",
              "      <th>Removal of Punctuation</th>\n",
              "      <th>Removal of Special Characters</th>\n",
              "      <th>Stopwords Removal</th>\n",
              "      <th>Stemmingg</th>\n",
              "      <th>Lemmatization</th>\n",
              "    </tr>\n",
              "  </thead>\n",
              "  <tbody>\n",
              "    <tr>\n",
              "      <th>0</th>\n",
              "      <td>Just Awesome</td>\n",
              "      <td>i love this album. it's very good. more to the...</td>\n",
              "      <td>i love this album. it's very good. more to the...</td>\n",
              "      <td>i love this album its very good more to the hi...</td>\n",
              "      <td>i love this album its very good more to the hi...</td>\n",
              "      <td>love album good hip hop side current pop sound...</td>\n",
              "      <td>love album good hip hop side current pop sound...</td>\n",
              "      <td>love album good hip hop side current pop sound...</td>\n",
              "    </tr>\n",
              "    <tr>\n",
              "      <th>1</th>\n",
              "      <td>Good</td>\n",
              "      <td>Good flavor. This review was collected as part...</td>\n",
              "      <td>good flavor. this review was collected as part...</td>\n",
              "      <td>good flavor this review was collected as part ...</td>\n",
              "      <td>good flavor this review was collected as part ...</td>\n",
              "      <td>good flavor review collected part promotion</td>\n",
              "      <td>good flavor review collect part promot</td>\n",
              "      <td>good flavor review collect part promot</td>\n",
              "    </tr>\n",
              "    <tr>\n",
              "      <th>2</th>\n",
              "      <td>Good</td>\n",
              "      <td>Good flavor.</td>\n",
              "      <td>good flavor.</td>\n",
              "      <td>good flavor</td>\n",
              "      <td>good flavor</td>\n",
              "      <td>good flavor</td>\n",
              "      <td>good flavor</td>\n",
              "      <td>good flavor</td>\n",
              "    </tr>\n",
              "    <tr>\n",
              "      <th>3</th>\n",
              "      <td>Disappointed</td>\n",
              "      <td>I read through the reviews on here before look...</td>\n",
              "      <td>i read through the reviews on here before look...</td>\n",
              "      <td>i read through the reviews on here before look...</td>\n",
              "      <td>i read through the reviews on here before look...</td>\n",
              "      <td>read reviews looking buying one couples lubric...</td>\n",
              "      <td>read review look buy one coupl lubric ultim di...</td>\n",
              "      <td>read review look buy one coupl lubric ultim di...</td>\n",
              "    </tr>\n",
              "    <tr>\n",
              "      <th>4</th>\n",
              "      <td>Irritation</td>\n",
              "      <td>My husband bought this gel for us. The gel cau...</td>\n",
              "      <td>my husband bought this gel for us. the gel cau...</td>\n",
              "      <td>my husband bought this gel for us the gel caus...</td>\n",
              "      <td>my husband bought this gel for us the gel caus...</td>\n",
              "      <td>husband bought gel us gel caused irritation fe...</td>\n",
              "      <td>husband bought gel us gel caus irrit felt like...</td>\n",
              "      <td>husband bought gel u gel caus irrit felt like ...</td>\n",
              "    </tr>\n",
              "    <tr>\n",
              "      <th>...</th>\n",
              "      <td>...</td>\n",
              "      <td>...</td>\n",
              "      <td>...</td>\n",
              "      <td>...</td>\n",
              "      <td>...</td>\n",
              "      <td>...</td>\n",
              "      <td>...</td>\n",
              "      <td>...</td>\n",
              "    </tr>\n",
              "    <tr>\n",
              "      <th>95</th>\n",
              "      <td>hydrating but not too heavy</td>\n",
              "      <td>It hydrates my skin. It is not too thick and h...</td>\n",
              "      <td>it hydrates my skin. it is not too thick and h...</td>\n",
              "      <td>it hydrates my skin it is not too thick and he...</td>\n",
              "      <td>it hydrates my skin it is not too thick and he...</td>\n",
              "      <td>hydrates skin thick heavy put review collected...</td>\n",
              "      <td>hydrat skin thick heavi put review collect par...</td>\n",
              "      <td>hydrat skin thick heavi put review collect par...</td>\n",
              "    </tr>\n",
              "    <tr>\n",
              "      <th>96</th>\n",
              "      <td>Super!</td>\n",
              "      <td>This product goes on smooth and makes your ski...</td>\n",
              "      <td>this product goes on smooth and makes your ski...</td>\n",
              "      <td>this product goes on smooth and makes your ski...</td>\n",
              "      <td>this product goes on smooth and makes your ski...</td>\n",
              "      <td>product goes smooth makes skin feel great inst...</td>\n",
              "      <td>product goe smooth make skin feel great instan...</td>\n",
              "      <td>product goe smooth make skin feel great instan...</td>\n",
              "    </tr>\n",
              "    <tr>\n",
              "      <th>97</th>\n",
              "      <td>Regenerist</td>\n",
              "      <td>I have tried other products and the Regenerist...</td>\n",
              "      <td>i have tried other products and the regenerist...</td>\n",
              "      <td>i have tried other products and the regenerist...</td>\n",
              "      <td>i have tried other products and the regenerist...</td>\n",
              "      <td>tried products regenerist seems best review co...</td>\n",
              "      <td>tri product regenerist seem best review collec...</td>\n",
              "      <td>tri product regenerist seem best review collec...</td>\n",
              "    </tr>\n",
              "    <tr>\n",
              "      <th>98</th>\n",
              "      <td>really hydrats</td>\n",
              "      <td>Really like the feel of the product and smooth...</td>\n",
              "      <td>really like the feel of the product and smooth...</td>\n",
              "      <td>really like the feel of the product and smooth...</td>\n",
              "      <td>really like the feel of the product and smooth...</td>\n",
              "      <td>really like feel product smooths well review c...</td>\n",
              "      <td>realli like feel product smooth well review co...</td>\n",
              "      <td>realli like feel product smooth well review co...</td>\n",
              "    </tr>\n",
              "    <tr>\n",
              "      <th>99</th>\n",
              "      <td>This product has made a real difference on my ...</td>\n",
              "      <td>In only a week I can see the difference in my ...</td>\n",
              "      <td>in only a week i can see the difference in my ...</td>\n",
              "      <td>in only a week i can see the difference in my ...</td>\n",
              "      <td>in only a week i can see the difference in my ...</td>\n",
              "      <td>week see difference skin face review collected...</td>\n",
              "      <td>week see differ skin face review collect part ...</td>\n",
              "      <td>week see differ skin face review collect part ...</td>\n",
              "    </tr>\n",
              "  </tbody>\n",
              "</table>\n",
              "<p>100 rows × 8 columns</p>\n",
              "</div>"
            ],
            "text/plain": [
              "                                        reviews.title  ...                                      Lemmatization\n",
              "0                                        Just Awesome  ...  love album good hip hop side current pop sound...\n",
              "1                                                Good  ...             good flavor review collect part promot\n",
              "2                                                Good  ...                                        good flavor\n",
              "3                                        Disappointed  ...  read review look buy one coupl lubric ultim di...\n",
              "4                                          Irritation  ...  husband bought gel u gel caus irrit felt like ...\n",
              "..                                                ...  ...                                                ...\n",
              "95                        hydrating but not too heavy  ...  hydrat skin thick heavi put review collect par...\n",
              "96                                             Super!  ...  product goe smooth make skin feel great instan...\n",
              "97                                         Regenerist  ...  tri product regenerist seem best review collec...\n",
              "98                                     really hydrats  ...  realli like feel product smooth well review co...\n",
              "99  This product has made a real difference on my ...  ...  week see differ skin face review collect part ...\n",
              "\n",
              "[100 rows x 8 columns]"
            ]
          },
          "metadata": {
            "tags": []
          },
          "execution_count": 1
        }
      ]
    },
    {
      "cell_type": "code",
      "metadata": {
        "id": "oYQBeLoKyowy"
      },
      "source": [
        "from sklearn.feature_extraction.text import CountVectorizer\n",
        "\n",
        "# the vectorizer object will be used to transform text to vector form\n",
        "vectorizer = CountVectorizer(max_df=0.9, min_df=25, token_pattern='\\w+|\\$[\\d\\.]+|\\S+')\n",
        "\n",
        "# apply transformation\n",
        "tf = vectorizer.fit_transform(input_df['Lemmatization']).toarray()\n",
        "\n",
        "# tf_feature_names tells us what word each column in the matric represents\n",
        "tf_feature_names = vectorizer.get_feature_names()"
      ],
      "execution_count": null,
      "outputs": []
    },
    {
      "cell_type": "code",
      "metadata": {
        "id": "BNfAo-lIyvGK"
      },
      "source": [
        "import sys\n",
        "sys.path.insert(1,'/content/')"
      ],
      "execution_count": null,
      "outputs": []
    },
    {
      "cell_type": "code",
      "metadata": {
        "id": "HeJ5ApiryzpD"
      },
      "source": [
        "from sklearn.decomposition import LatentDirichletAllocation\n",
        "import pandas as pd\n",
        "def LDA_MODEL(number_of_topics,tf,feature_names, no_top_words):\n",
        "  number_of_topics = 10\n",
        "  model = LatentDirichletAllocation(n_components=number_of_topics, random_state=0)\n",
        "  model.fit(tf)\n",
        "  return display_topics(model,feature_names, no_top_words)\n",
        "  pass\n",
        "\n",
        "def display_topics(model, feature_names, no_top_words):\n",
        "  topic_dict = {}\n",
        "  for topic_idx, topic in enumerate(model.components_):\n",
        "    topic_dict[\"Topic %d words\" % (topic_idx)]= ['{}'.format(feature_names[i]) for i in topic.argsort()[:-no_top_words - 1:-1]]\n",
        "    topic_dict[\"Topic %d weights\" % (topic_idx)]= ['{:.1f}'.format(topic[i]) for i in topic.argsort()[:-no_top_words - 1:-1]]\n",
        "  return pd.DataFrame.from_dict(topic_dict)"
      ],
      "execution_count": null,
      "outputs": []
    },
    {
      "cell_type": "code",
      "metadata": {
        "colab": {
          "base_uri": "https://localhost:8080/",
          "height": 414
        },
        "id": "ZBONOeemy2hu",
        "outputId": "f891f3ff-7650-4767-f2de-af50279bfae1"
      },
      "source": [
        "import time\n",
        "# starting time\n",
        "start = time.time()\n",
        "for i in range(10):\n",
        "    print(i)\n",
        "# sleeping for 1 sec to get 10 sec runtime\n",
        "time.sleep(1)\n",
        "#import AlgorithmLDA as lda_ul\n",
        "result = LDA_MODEL(10,tf,tf_feature_names,10)\n",
        "# end time\n",
        "end = time.time()\n",
        "\n",
        "# total time taken\n",
        "print(f\"Runtime of the program is {end - start}\")\n",
        "result\n"
      ],
      "execution_count": null,
      "outputs": [
        {
          "output_type": "stream",
          "text": [
            "0\n",
            "1\n",
            "2\n",
            "3\n",
            "4\n",
            "5\n",
            "6\n",
            "7\n",
            "8\n",
            "9\n",
            "Runtime of the program is 1.1071913242340088\n"
          ],
          "name": "stdout"
        },
        {
          "output_type": "execute_result",
          "data": {
            "text/html": [
              "<div>\n",
              "<style scoped>\n",
              "    .dataframe tbody tr th:only-of-type {\n",
              "        vertical-align: middle;\n",
              "    }\n",
              "\n",
              "    .dataframe tbody tr th {\n",
              "        vertical-align: top;\n",
              "    }\n",
              "\n",
              "    .dataframe thead th {\n",
              "        text-align: right;\n",
              "    }\n",
              "</style>\n",
              "<table border=\"1\" class=\"dataframe\">\n",
              "  <thead>\n",
              "    <tr style=\"text-align: right;\">\n",
              "      <th></th>\n",
              "      <th>Topic 0 words</th>\n",
              "      <th>Topic 0 weights</th>\n",
              "      <th>Topic 1 words</th>\n",
              "      <th>Topic 1 weights</th>\n",
              "      <th>Topic 2 words</th>\n",
              "      <th>Topic 2 weights</th>\n",
              "      <th>Topic 3 words</th>\n",
              "      <th>Topic 3 weights</th>\n",
              "      <th>Topic 4 words</th>\n",
              "      <th>Topic 4 weights</th>\n",
              "      <th>Topic 5 words</th>\n",
              "      <th>Topic 5 weights</th>\n",
              "      <th>Topic 6 words</th>\n",
              "      <th>Topic 6 weights</th>\n",
              "      <th>Topic 7 words</th>\n",
              "      <th>Topic 7 weights</th>\n",
              "      <th>Topic 8 words</th>\n",
              "      <th>Topic 8 weights</th>\n",
              "      <th>Topic 9 words</th>\n",
              "      <th>Topic 9 weights</th>\n",
              "    </tr>\n",
              "  </thead>\n",
              "  <tbody>\n",
              "    <tr>\n",
              "      <th>0</th>\n",
              "      <td>product</td>\n",
              "      <td>0.1</td>\n",
              "      <td>product</td>\n",
              "      <td>0.1</td>\n",
              "      <td>product</td>\n",
              "      <td>0.1</td>\n",
              "      <td>skin</td>\n",
              "      <td>38.1</td>\n",
              "      <td>product</td>\n",
              "      <td>46.9</td>\n",
              "      <td>love</td>\n",
              "      <td>30.1</td>\n",
              "      <td>love</td>\n",
              "      <td>0.1</td>\n",
              "      <td>use</td>\n",
              "      <td>29.9</td>\n",
              "      <td>product</td>\n",
              "      <td>0.1</td>\n",
              "      <td>product</td>\n",
              "      <td>0.1</td>\n",
              "    </tr>\n",
              "    <tr>\n",
              "      <th>1</th>\n",
              "      <td>use</td>\n",
              "      <td>0.1</td>\n",
              "      <td>use</td>\n",
              "      <td>0.1</td>\n",
              "      <td>use</td>\n",
              "      <td>0.1</td>\n",
              "      <td>product</td>\n",
              "      <td>15.3</td>\n",
              "      <td>use</td>\n",
              "      <td>0.1</td>\n",
              "      <td>use</td>\n",
              "      <td>0.1</td>\n",
              "      <td>use</td>\n",
              "      <td>0.1</td>\n",
              "      <td>love</td>\n",
              "      <td>0.1</td>\n",
              "      <td>use</td>\n",
              "      <td>0.1</td>\n",
              "      <td>use</td>\n",
              "      <td>0.1</td>\n",
              "    </tr>\n",
              "    <tr>\n",
              "      <th>2</th>\n",
              "      <td>love</td>\n",
              "      <td>0.1</td>\n",
              "      <td>love</td>\n",
              "      <td>0.1</td>\n",
              "      <td>love</td>\n",
              "      <td>0.1</td>\n",
              "      <td>use</td>\n",
              "      <td>14.3</td>\n",
              "      <td>love</td>\n",
              "      <td>0.1</td>\n",
              "      <td>product</td>\n",
              "      <td>0.1</td>\n",
              "      <td>product</td>\n",
              "      <td>0.1</td>\n",
              "      <td>product</td>\n",
              "      <td>0.1</td>\n",
              "      <td>love</td>\n",
              "      <td>0.1</td>\n",
              "      <td>love</td>\n",
              "      <td>0.1</td>\n",
              "    </tr>\n",
              "    <tr>\n",
              "      <th>3</th>\n",
              "      <td>skin</td>\n",
              "      <td>0.1</td>\n",
              "      <td>skin</td>\n",
              "      <td>0.1</td>\n",
              "      <td>skin</td>\n",
              "      <td>0.1</td>\n",
              "      <td>love</td>\n",
              "      <td>0.1</td>\n",
              "      <td>skin</td>\n",
              "      <td>0.1</td>\n",
              "      <td>skin</td>\n",
              "      <td>0.1</td>\n",
              "      <td>skin</td>\n",
              "      <td>0.1</td>\n",
              "      <td>skin</td>\n",
              "      <td>0.1</td>\n",
              "      <td>skin</td>\n",
              "      <td>0.1</td>\n",
              "      <td>skin</td>\n",
              "      <td>0.1</td>\n",
              "    </tr>\n",
              "  </tbody>\n",
              "</table>\n",
              "</div>"
            ],
            "text/plain": [
              "  Topic 0 words Topic 0 weights  ... Topic 9 words Topic 9 weights\n",
              "0       product             0.1  ...       product             0.1\n",
              "1           use             0.1  ...           use             0.1\n",
              "2          love             0.1  ...          love             0.1\n",
              "3          skin             0.1  ...          skin             0.1\n",
              "\n",
              "[4 rows x 20 columns]"
            ]
          },
          "metadata": {
            "tags": []
          },
          "execution_count": 8
        }
      ]
    },
    {
      "cell_type": "code",
      "metadata": {
        "colab": {
          "base_uri": "https://localhost:8080/",
          "height": 607
        },
        "id": "Vb-iePsQy6S1",
        "outputId": "7d0771ca-a8fb-4984-ad4d-4f704b2a0f31"
      },
      "source": [
        "import matplotlib.pyplot as plt\n",
        "columns_list = [\"Topic \"+str(i)+\" weights\" for i in range(0,10)]\n",
        "for i in columns_list:\n",
        "  result[i] = pd.to_numeric(result[i])\n",
        "result.hist(figsize=(10,10),color = 'Purple')\n",
        "plt.show(block=False)"
      ],
      "execution_count": null,
      "outputs": [
        {
          "output_type": "display_data",
          "data": {
            "image/png": "[encoded data removed]",
            "text/plain": [
              "<Figure size 720x720 with 12 Axes>"
            ]
          },
          "metadata": {
            "tags": [],
            "needs_background": "light"
          }
        }
      ]
    },
    {
      "cell_type": "code",
      "metadata": {
        "colab": {
          "base_uri": "https://localhost:8080/"
        },
        "id": "MQxXyO8SzxFi",
        "outputId": "a3dff66b-b9d8-452e-ce3b-3f8db41c5c66"
      },
      "source": [
        "import nltk\n",
        "nltk.download('words')"
      ],
      "execution_count": null,
      "outputs": [
        {
          "output_type": "stream",
          "text": [
            "[nltk_data] Downloading package words to /root/nltk_data...\n",
            "[nltk_data]   Unzipping corpora/words.zip.\n"
          ],
          "name": "stdout"
        },
        {
          "output_type": "execute_result",
          "data": {
            "text/plain": [
              "True"
            ]
          },
          "metadata": {
            "tags": []
          },
          "execution_count": 10
        }
      ]
    },
    {
      "cell_type": "code",
      "metadata": {
        "colab": {
          "base_uri": "https://localhost:8080/",
          "height": 1000
        },
        "id": "gXyKnADrzRsr",
        "outputId": "4445e6d8-87ec-4c20-f7c6-b7bad05ca129"
      },
      "source": [
        "\n",
        "# Wordcloud of Top N words in each topic\n",
        "from wordcloud import WordCloud, STOPWORDS\n",
        "import matplotlib.colors as mcolors\n",
        "my_stopwords = nltk.download('words')\n",
        "\n",
        "cols = [color for name, color in mcolors.TABLEAU_COLORS.items()]  # more colors: 'mcolors.XKCD_COLORS'\n",
        "\n",
        "cloud = WordCloud(stopwords=my_stopwords,\n",
        "                  background_color='white',\n",
        "                  width=2500,\n",
        "                  height=1800,\n",
        "                  max_words=10,\n",
        "                  colormap='tab10',\n",
        "                  color_func=lambda *args, **kwargs: cols[i],\n",
        "                  prefer_horizontal=1.0)\n",
        "\n",
        "columns_list = [\"Topic \"+str(i)+\" words\" for i in range(0,10)]\n",
        "topics = list()\n",
        "\n",
        "for i in columns_list:\n",
        "  topics.append(result[i].values)\n",
        "\n",
        "frequencies = list()\n",
        "columns_list = [\"Topic \"+str(i)+\" weights\" for i in range(0,10)]\n",
        "\n",
        "for i in columns_list:\n",
        "  frequencies.append(result[i].values)\n",
        "\n",
        "\n",
        "fig, axes = plt.subplots(5,2, figsize=(15,15), sharex=True, sharey=True)\n",
        "\n",
        "for i, ax in enumerate(axes.flatten()):\n",
        "    fig.add_subplot(ax)\n",
        "    size_of_array = len(topics[i])\n",
        "    topic_words = dict()\n",
        "    for j in range(size_of_array):\n",
        "      topic_words[topics[i][j]] = frequencies[i][j]\n",
        "    cloud.generate_from_frequencies(topic_words, max_font_size=300)\n",
        "    plt.gca().imshow(cloud)\n",
        "    plt.gca().set_title('Topic ' + str(i), fontdict=dict(size=16))\n",
        "    plt.gca().axis('off')\n",
        "\n",
        "\n",
        "plt.subplots_adjust(wspace=0, hspace=0)\n",
        "plt.axis('off')\n",
        "plt.margins(x=0, y=0)\n",
        "plt.tight_layout()\n",
        "plt.show()\n"
      ],
      "execution_count": null,
      "outputs": [
        {
          "output_type": "stream",
          "text": [
            "[nltk_data] Downloading package words to /root/nltk_data...\n",
            "[nltk_data]   Package words is already up-to-date!\n"
          ],
          "name": "stdout"
        },
        {
          "output_type": "display_data",
          "data": {
            "image/png": "[encoded data removed]",
            "text/plain": [
              "<Figure size 1080x1080 with 10 Axes>"
            ]
          },
          "metadata": {
            "tags": [],
            "needs_background": "light"
          }
        }
      ]
    },
    {
      "cell_type": "markdown",
      "metadata": {
        "id": "H8_i7hAq0ZNa"
      },
      "source": [
        "LSA TOPIC MODELLING\n",
        "\n"
      ]
    },
    {
      "cell_type": "code",
      "metadata": {
        "id": "Py8R2lTQzcT_"
      },
      "source": [
        "from sklearn.decomposition import TruncatedSVD\n",
        "import pandas as pd\n",
        "\n",
        "def LSA_MODEL(tf,vectorizer):\n",
        "  svd_model = TruncatedSVD(n_components=1, algorithm ='randomized', n_iter=100, random_state=122)\n",
        "  svd_model.fit(tf)\n",
        "  terms = vectorizer.get_feature_names()\n",
        "  df = pd.DataFrame()\n",
        "  for i, comp in enumerate(svd_model.components_):\n",
        "    term_comp = zip(terms,comp)\n",
        "    sorted_terms = sorted(term_comp, key = lambda x:x[1], reverse = True)[:7]\n",
        "    str1 = \"Topic \"+str(i)\n",
        "    str2 = str1 + \" weights\"\n",
        "    str1_list = list()\n",
        "    str2_list = list()\n",
        "    for j in sorted_terms:\n",
        "      str1_list.append(j[0])\n",
        "      str2_list.append(j[1])\n",
        "    df[str1] = str1_list\n",
        "    df[str2] = str2_list\n",
        "  return df"
      ],
      "execution_count": null,
      "outputs": []
    },
    {
      "cell_type": "code",
      "metadata": {
        "colab": {
          "base_uri": "https://localhost:8080/",
          "height": 360
        },
        "id": "lToS0jXO0maA",
        "outputId": "a251d5ee-dc0c-4fe2-95de-2893db73b10f"
      },
      "source": [
        "import time\n",
        "# starting time\n",
        "start = time.time()\n",
        "for i in range(10):\n",
        "    print(i)\n",
        "# sleeping for 1 sec to get 10 sec runtime\n",
        "time.sleep(1)\n",
        "#import AlgorithmLSA as lsa\n",
        "lsa_result=LSA_MODEL(tf,vectorizer)\n",
        "# end time\n",
        "end = time.time()\n",
        "\n",
        "# total time taken\n",
        "print(f\"Runtime of the program is {end - start}\")\n",
        "\n",
        "lsa_result\n"
      ],
      "execution_count": null,
      "outputs": [
        {
          "output_type": "stream",
          "text": [
            "0\n",
            "1\n",
            "2\n",
            "3\n",
            "4\n",
            "5\n",
            "6\n",
            "7\n",
            "8\n",
            "9\n",
            "Runtime of the program is 1.0144176483154297\n"
          ],
          "name": "stdout"
        },
        {
          "output_type": "execute_result",
          "data": {
            "text/html": [
              "<div>\n",
              "<style scoped>\n",
              "    .dataframe tbody tr th:only-of-type {\n",
              "        vertical-align: middle;\n",
              "    }\n",
              "\n",
              "    .dataframe tbody tr th {\n",
              "        vertical-align: top;\n",
              "    }\n",
              "\n",
              "    .dataframe thead th {\n",
              "        text-align: right;\n",
              "    }\n",
              "</style>\n",
              "<table border=\"1\" class=\"dataframe\">\n",
              "  <thead>\n",
              "    <tr style=\"text-align: right;\">\n",
              "      <th></th>\n",
              "      <th>Topic 0</th>\n",
              "      <th>Topic 0 weights</th>\n",
              "    </tr>\n",
              "  </thead>\n",
              "  <tbody>\n",
              "    <tr>\n",
              "      <th>0</th>\n",
              "      <td>product</td>\n",
              "      <td>0.745282</td>\n",
              "    </tr>\n",
              "    <tr>\n",
              "      <th>1</th>\n",
              "      <td>skin</td>\n",
              "      <td>0.456232</td>\n",
              "    </tr>\n",
              "    <tr>\n",
              "      <th>2</th>\n",
              "      <td>use</td>\n",
              "      <td>0.430631</td>\n",
              "    </tr>\n",
              "    <tr>\n",
              "      <th>3</th>\n",
              "      <td>love</td>\n",
              "      <td>0.225755</td>\n",
              "    </tr>\n",
              "  </tbody>\n",
              "</table>\n",
              "</div>"
            ],
            "text/plain": [
              "   Topic 0  Topic 0 weights\n",
              "0  product         0.745282\n",
              "1     skin         0.456232\n",
              "2      use         0.430631\n",
              "3     love         0.225755"
            ]
          },
          "metadata": {
            "tags": []
          },
          "execution_count": 12
        }
      ]
    },
    {
      "cell_type": "code",
      "metadata": {
        "colab": {
          "base_uri": "https://localhost:8080/",
          "height": 879
        },
        "id": "-NXhNkor0zlI",
        "outputId": "20e1ebd1-31d0-4fba-d522-8ef1e6f51be0"
      },
      "source": [
        "columns_list = [\"Topic \"+str(i)+\" weights\" for i in range(0,1)]\n",
        "for i in columns_list:\n",
        "  lsa_result[i] = pd.to_numeric(lsa_result[i])\n",
        "lsa_result.hist(figsize=(15,15),color = 'purple')\n",
        "plt.show(block=False)"
      ],
      "execution_count": null,
      "outputs": [
        {
          "output_type": "display_data",
          "data": {
            "image/png": "[encoded data removed]",
            "text/plain": [
              "<Figure size 1080x1080 with 1 Axes>"
            ]
          },
          "metadata": {
            "tags": [],
            "needs_background": "light"
          }
        }
      ]
    },
    {
      "cell_type": "code",
      "metadata": {
        "colab": {
          "base_uri": "https://localhost:8080/",
          "height": 179
        },
        "id": "ZZrzxlul1UQO",
        "outputId": "e7be2bb3-f70b-4ffc-890f-b8a51c903142"
      },
      "source": [
        "lsa_result.plot(kind='density', subplots=True,layout = (5,5),sharex=False, legend=True, fontsize=1,figsize=(15,15))\n",
        "plt.show(block=False)"
      ],
      "execution_count": null,
      "outputs": [
        {
          "output_type": "display_data",
          "data": {
            "image/png": "[encoded data removed]",
            "text/plain": [
              "<Figure size 1080x1080 with 25 Axes>"
            ]
          },
          "metadata": {
            "tags": [],
            "needs_background": "light"
          }
        }
      ]
    },
    {
      "cell_type": "code",
      "metadata": {
        "colab": {
          "base_uri": "https://localhost:8080/",
          "height": 1000
        },
        "id": "1loRSWIB1g0d",
        "outputId": "50c4c58f-cf2e-4a6a-8fad-d59bf1507842"
      },
      "source": [
        "# 1. Wordcloud of Top N words in each topic\n",
        "from matplotlib import pyplot as plt\n",
        "from wordcloud import WordCloud, STOPWORDS\n",
        "import matplotlib.colors as mcolors\n",
        "\n",
        "cols = [color for name, color in mcolors.TABLEAU_COLORS.items()]  # more colors: 'mcolors.XKCD_COLORS'\n",
        "cols = cols*2\n",
        "cloud = WordCloud(stopwords=my_stopwords,\n",
        "                  background_color='white',\n",
        "                  width=2500,\n",
        "                  height=1800,\n",
        "                  max_words=10,\n",
        "                  colormap='tab10',\n",
        "                  color_func=lambda *args, **kwargs: cols[i],\n",
        "                  prefer_horizontal=1.0)\n",
        "\n",
        "columns_list = [\"Topic \"+str(i) for i in range(0,1)]\n",
        "topics = list()\n",
        "\n",
        "for i in columns_list:\n",
        "  topics.append(lsa_result[i].values)\n",
        "\n",
        "frequencies = list()\n",
        "columns_list = [\"Topic \"+str(i)+\" weights\" for i in range(0,1)]\n",
        "\n",
        "for i in columns_list:\n",
        "  frequencies.append(lsa_result[i].values)\n",
        "\n",
        "\n",
        "fig, axes = plt.subplots(2,0, figsize=(15,15), sharex=True, sharey=True)\n",
        "\n",
        "for i, ax in enumerate(axes.flatten()):\n",
        "    fig.add_subplot(ax)\n",
        "    size_of_array = len(topics[i])\n",
        "    topic_words = dict()\n",
        "    for j in range(size_of_array):\n",
        "      topic_words[topics[i][j]] = frequencies[i][j]\n",
        "    cloud.generate_from_frequencies(topic_words, max_font_size=300)\n",
        "    plt.gca().imshow(cloud)\n",
        "    plt.gca().set_title('Topic ' + str(i), fontdict=dict(size=16))\n",
        "    plt.gca().axis('off')\n",
        "\n",
        "\n",
        "plt.subplots_adjust(wspace=0, hspace=0)\n",
        "plt.axis('off')\n",
        "plt.margins(x=0, y=0)\n",
        "plt.tight_layout()\n",
        "plt.show()"
      ],
      "execution_count": null,
      "outputs": [
        {
          "output_type": "display_data",
          "data": {
            "image/png": "[encoded data removed]",
            "text/plain": [
              "<Figure size 1080x1080 with 1 Axes>"
            ]
          },
          "metadata": {
            "tags": [],
            "needs_background": "light"
          }
        }
      ]
    },
    {
      "cell_type": "markdown",
      "metadata": {
        "id": "X6pQNMZE3jFp"
      },
      "source": [
        "HMM LDA"
      ]
    },
    {
      "cell_type": "code",
      "metadata": {
        "colab": {
          "base_uri": "https://localhost:8080/"
        },
        "id": "gV82Ygec1us7",
        "outputId": "ba11d449-c8b5-4778-c67e-46736f85ccdb"
      },
      "source": [
        "#import AlgorithmHMMLDA as HMMLDA\n",
        "import nltk\n",
        "nltk.download('words')"
      ],
      "execution_count": null,
      "outputs": [
        {
          "output_type": "stream",
          "text": [
            "[nltk_data] Downloading package words to /root/nltk_data...\n",
            "[nltk_data]   Package words is already up-to-date!\n"
          ],
          "name": "stdout"
        },
        {
          "output_type": "execute_result",
          "data": {
            "text/plain": [
              "True"
            ]
          },
          "metadata": {
            "tags": []
          },
          "execution_count": 25
        }
      ]
    },
    {
      "cell_type": "code",
      "metadata": {
        "id": "87wVOjT-3hLd"
      },
      "source": [
        "from __future__ import print_function\n",
        "import time\n",
        "\n",
        "from six.moves import xrange\n",
        "import numpy as np\n",
        "from scipy.special import gammaln\n",
        "\n",
        "class BaseTopicModel(object):\n",
        "    def __init__(self, n_doc, n_voca, **kwargs):\n",
        "        self.n_doc = n_doc\n",
        "        self.n_voca = n_voca\n",
        "        self.verbose = kwargs.pop('verbose', True)\n",
        "\n",
        "class BaseGibbsParamTopicModel(BaseTopicModel):\n",
        "\n",
        "\n",
        "    def __init__(self, n_doc, n_voca, n_topic, alpha, beta, **kwargs):\n",
        "        super(BaseGibbsParamTopicModel, self).__init__(n_doc=n_doc, n_voca=n_voca, **kwargs)\n",
        "        self.n_topic = n_topic\n",
        "        self.TW = np.zeros([self.n_topic, self.n_voca])\n",
        "        self.DT = np.zeros([self.n_doc, self.n_topic])\n",
        "        self.sum_T = np.zeros(self.n_topic)\n",
        "\n",
        "        self.alpha = alpha\n",
        "        self.beta = beta\n",
        "\n",
        "        self.topic_assignment = list()\n",
        "\n",
        "        self.TW += self.beta\n",
        "        self.sum_T += self.beta * self.n_voca\n",
        "        self.DT += self.alpha\n",
        "\n",
        "class HMM_LDA(BaseGibbsParamTopicModel):\n",
        "\n",
        "    def __init__(self, n_docs, n_voca, n_topic, n_class, alpha=0.1, beta=0.01, gamma=0.1, eta=0.1, **kwargs):\n",
        "        super(HMM_LDA, self).__init__(n_docs, n_voca, n_topic, alpha, beta, **kwargs)\n",
        "        self.n_class = n_class\n",
        "\n",
        "        self.gamma = gamma\n",
        "        self.eta = eta\n",
        "\n",
        "        self.CW = np.zeros([self.n_class, self.n_voca]) + self.gamma  # class x word\n",
        "        self.sum_C = np.zeros([self.n_class]) + self.n_voca * self.gamma\n",
        "\n",
        "        self.T = np.zeros([self.n_class + 2, self.n_class + 2]) + self.eta\n",
        "\n",
        "        self.word_class = list()\n",
        "        self.word_topic = list()\n",
        "\n",
        "    def fit(self, docs, max_iter=100):\n",
        "        self.random_init(docs)\n",
        "        self.gibbs_sampling(docs, max_iter)\n",
        "\n",
        "    # randomly initialize \n",
        "    def random_init(self, docs):\n",
        "\n",
        "        for di in xrange(self.n_doc):\n",
        "            doc = docs[di]\n",
        "            num_sentence = len(doc)\n",
        "\n",
        "            doc_class = list()\n",
        "            doc_topic = list()\n",
        "\n",
        "            for si in xrange(num_sentence):\n",
        "                sentence_class = list()\n",
        "                sentence_topic = list()\n",
        "\n",
        "                sentence = doc[si]\n",
        "                len_sentence = len(sentence)\n",
        "\n",
        "                for wi in xrange(len_sentence):\n",
        "                    word = sentence[wi]\n",
        "                    c = np.random.randint(self.n_class)\n",
        "\n",
        "                    sentence_class.append(c)\n",
        "                    self.CW[c, word] += 1\n",
        "                    self.sum_C[c] += 1\n",
        "                    if wi == 0:  # if the first word\n",
        "                        self.T[self.n_class, c] += 1\n",
        "                    else:\n",
        "                        self.T[sentence_class[wi - 1], c] += 1\n",
        "\n",
        "                    if wi == len_sentence - 1:  # the last word\n",
        "                        self.T[c, self.n_class + 1] += 1\n",
        "\n",
        "                    k = np.random.randint(self.n_topic)\n",
        "                    sentence_topic.append(k)\n",
        "                    self.DT[di, k] += 1\n",
        "                    if c == 0:\n",
        "                        self.TW[k, word] += 1\n",
        "                        self.sum_T[k] += 1\n",
        "\n",
        "                doc_class.append(sentence_class)\n",
        "                doc_topic.append(sentence_topic)\n",
        "\n",
        "            self.word_class.append(doc_class)\n",
        "            self.word_topic.append(doc_topic)\n",
        "\n",
        "    def gibbs_sampling(self, docs, max_iter):\n",
        "\n",
        "        for iter in xrange(max_iter):\n",
        "            tic = time.time()\n",
        "            for di, doc in enumerate(docs):\n",
        "                doc_topic = self.word_topic[di]\n",
        "                doc_class = self.word_class[di]\n",
        "\n",
        "                for si, sentence in enumerate(doc):\n",
        "                    len_sentence = len(sentence)\n",
        "\n",
        "                    sentence_topic = doc_topic[si]\n",
        "                    sentence_class = doc_class[si]\n",
        "\n",
        "                    for wi, word in enumerate(sentence):\n",
        "\n",
        "                        if wi == 0:\n",
        "                            prev_c = self.n_class\n",
        "                        else:\n",
        "                            prev_c = sentence_class[wi - 1]\n",
        "\n",
        "                        if wi == len_sentence - 1:\n",
        "                            next_c = self.n_class + 1\n",
        "                        else:\n",
        "                            next_c = sentence_class[wi + 1]\n",
        "\n",
        "                        old_c = sentence_class[wi]\n",
        "                        old_t = sentence_topic[wi]\n",
        "\n",
        "                        # remove previous state\n",
        "                        self.CW[old_c, word] -= 1\n",
        "                        self.sum_C[old_c] -= 1\n",
        "                        self.T[prev_c, old_c] -= 1\n",
        "                        self.T[old_c, next_c] -= 1\n",
        "\n",
        "                        # sample class\n",
        "                        prob = (self.T[prev_c, :self.n_class] / self.T[prev_c].sum()) \\\n",
        "                                * (self.T[:self.n_class, next_c] / np.sum(self.T[:self.n_class], 1))\n",
        "                        prob[0] *= (self.TW[old_t, word] / self.sum_T[old_t])\n",
        "                        prob[1:] *= self.CW[1:, word] / self.sum_C[1:]\n",
        "\n",
        "                        new_c = np.random.multinomial(1, prob).argmax()\n",
        "\n",
        "                        sentence_class[wi] = new_c\n",
        "                        self.CW[new_c, word] += 1\n",
        "                        self.sum_C[new_c] += 1\n",
        "                        self.T[prev_c, new_c] += 1\n",
        "                        self.T[new_c, next_c] += 1\n",
        "\n",
        "                        # remove previous topic state\n",
        "                        self.DT[di, old_t] -= 1\n",
        "                        if old_c == 0:\n",
        "                            self.TW[old_t, word] -= 1\n",
        "                            self.sum_T[old_t] -= 1\n",
        "\n",
        "                        # sample topic\n",
        "                        prob = self.DT[di].copy()\n",
        "                        if new_c == 0:\n",
        "                            prob *= self.TW[:, word] / self.sum_T\n",
        "                        prob /= np.sum(prob)\n",
        "\n",
        "                        new_topic = np.random.multinomial(1, prob).argmax()\n",
        "                        self.DT[di, new_topic] += 1\n",
        "                        if new_c == 0:\n",
        "                            self.TW[new_topic, word] += 1\n",
        "                            self.sum_T[new_topic] += 1\n",
        "                        sentence_topic[wi] = new_topic\n",
        "\n",
        "            if self.verbose:\n",
        "                ll = self.log_likelihood()\n",
        "                logger.info('[ITER] %d,\\telapsed time: %.2f\\tlog-likelihood:%.2f', iter, time.time() - tic, ll)\n",
        "\n",
        "    def log_likelihood(self):\n",
        "\n",
        "        ll = self.n_doc * gammaln(self.alpha * self.n_topic)\n",
        "        ll -= self.n_doc * self.n_topic * gammaln(self.alpha)\n",
        "        ll += self.n_topic * gammaln(self.beta * self.n_voca)\n",
        "        ll -= self.n_topic * self.n_voca * gammaln(self.beta)\n",
        "\n",
        "        for di in xrange(self.n_doc):\n",
        "            ll += gammaln(self.DT[di]).sum() - gammaln(self.DT[di].sum())\n",
        "        for ki in xrange(self.n_topic):\n",
        "            ll += gammaln(self.TW[ki]).sum() - gammaln(self.sum_T[ki])\n",
        "\n",
        "        if self.n_class != 1:\n",
        "            ll += (self.n_class - 1) * gammaln(self.gamma * (self.n_class - 1))\n",
        "            ll -= (self.n_class - 1) * self.n_voca * gammaln(self.gamma)\n",
        "            ll += (self.n_class + 2) * gammaln(self.eta * (self.n_class + 2))\n",
        "            ll -= (self.n_class + 2) * (self.n_class + 2) * gammaln(self.eta)\n",
        "\n",
        "            for ci in xrange(1, self.n_class):\n",
        "                ll += gammaln(self.CW[ci]).sum() - gammaln(self.sum_C[ci])\n",
        "            for ci in xrange(self.n_class + 2):\n",
        "                ll += gammaln(self.T[ci]).sum() - gammaln(self.T[ci].sum())\n",
        "\n",
        "        return ll"
      ],
      "execution_count": null,
      "outputs": []
    },
    {
      "cell_type": "code",
      "metadata": {
        "id": "7TBtyr1C3pst"
      },
      "source": [
        "def get_reuters_token_list_by_sentence(num_doc,ip):\n",
        "    corpus = [[i.split() for i in ip ]]\n",
        "    print(corpus)\n",
        "    valid_voca = set(w.lower() for w in nltk.corpus.words.words())\n",
        "    stop = stopwords.words('english')\n",
        "    valid_voca = valid_voca.union(stop)\n",
        "\n",
        "    tmp_corpus = list()\n",
        "    voca_dic = dict()\n",
        "    voca = list()\n",
        "    for doc in corpus:\n",
        "        tmp_doc = list()\n",
        "        for sent in doc:\n",
        "            tmp_sent = list()\n",
        "            for word in sent:\n",
        "                if word in valid_voca:\n",
        "                    tmp_sent.append(word)\n",
        "                    if word not in voca_dic:\n",
        "                        voca_dic[word] = len(voca_dic)\n",
        "                        voca.append(word)\n",
        "            if len(tmp_sent) > 0:\n",
        "                tmp_doc.append(tmp_sent)\n",
        "        if len(tmp_doc) > 0:\n",
        "            tmp_corpus.append(tmp_doc)\n",
        "\n",
        "    # convert token list to word index list\n",
        "    corpus = list()\n",
        "    for doc in tmp_corpus:\n",
        "        new_doc = list()\n",
        "        for sent in doc:\n",
        "            new_sent = list()\n",
        "            for word in sent:\n",
        "                new_sent.append(voca_dic[word])\n",
        "            new_doc.append(new_sent)\n",
        "        corpus.append(new_doc)\n",
        "\n",
        "    return np.array(voca), corpus"
      ],
      "execution_count": null,
      "outputs": []
    },
    {
      "cell_type": "code",
      "metadata": {
        "colab": {
          "base_uri": "https://localhost:8080/",
          "height": 336
        },
        "id": "gu4AvveF3ssH",
        "outputId": "81e6662b-47ec-4aa4-d94c-eaa92ff2bb09"
      },
      "source": [
        "n_docs = 1000\n",
        "voca, corpus = get_reuters_token_list_by_sentence(n_docs,input_df[\"Lemmatization\"].values)"
      ],
      "execution_count": null,
      "outputs": [
        {
          "output_type": "stream",
          "text": [
            "[[['love', 'album', 'good', 'hip', 'hop', 'side', 'current', 'pop', 'sound', 'hype', 'listen', 'everyday', 'gym', 'give', '5star', 'rate', 'way', 'metaphor', 'crazi'], ['good', 'flavor', 'review', 'collect', 'part', 'promot'], ['good', 'flavor'], ['read', 'review', 'look', 'buy', 'one', 'coupl', 'lubric', 'ultim', 'disappoint', 'didnt', 'even', 'live', 'review', 'read', 'starter', 'neither', 'boyfriend', 'could', 'notic', 'sort', 'enhanc', 'captiv', 'sensat', 'notic', 'howev', 'messi', 'consist', 'reminisc', 'liquidi', 'vaselin', 'difficult', 'clean', 'pleasant', 'especi', 'sinc', 'lack', 'captiv', 'sensat', 'expect', 'im', 'disappoint', 'paid', 'much', 'lube', 'wont', 'use', 'could', 'use', 'normal', 'person', 'lubric', '1', 'le', 'money', '2', 'le', 'mess'], ['husband', 'bought', 'gel', 'u', 'gel', 'caus', 'irrit', 'felt', 'like', 'burn', 'skin', 'wouldnt', 'recommend', 'gel'], ['boyfriend', 'bought', 'spice', 'thing', 'bedroom', 'highli', 'disappoint', 'product', 'bought', 'one', 'absolut', 'love', 'ky', 'mine', 'thought', 'would', 'similar', 'affect', 'absolut', 'noth', 'buy'], ['bought', 'earlier', 'today', 'excit', 'check', 'base', 'product', 'descript', 'expect', 'someth', 'like', 'regular', 'ky', 'fan', 'expect', 'left', 'littl', 'disappoint'], ['bought', 'product', 'husband', 'tri', 'impress', 'tingl', 'warm', 'left', 'u', 'sticki', 'use', 'ky', 'product', 'past', 'love', 'ky', 'one', 'disappoint'], ['husband', 'bought', 'extra', 'fun', 'werevboth', 'extrem', 'disappoint', 'especi', 'price', 'wast', 'money', 'product', 'felt', 'noth', 'sticki', 'mess'], ['got', 'surpris', 'husband', 'noth', 'special', 'lube', 'save', 'money', 'get', 'plain', 'ky', 'need', 'lube', 'wish', 'could', 'return', 'refund'], ['tri', 'husband', 'felt', 'differ', 'effect', 'chang', 'first', 'te', 'use', 'ky', 'gel', 'sure', 'want', 'tri', 'other'], ['purchas', 'think', 'would', 'sort', 'warm', 'effect', 'origin', 'dont', 'wast', 'money'], ['bought', 'enhanc', 'time', 'bit', 'abslut', 'noth', 'disappoint', 'especi', 'almost', '20'], ['bought', 'realli', 'like', 'n', 'varieti', 'noth', 'like', 'disappoint', 'product'], ['first', 'time', 'purchas', 'type', 'product', 'mayb', 'expect', 'much', 'think', 'warm', 'feel', 'left', 'u', 'sticki', 'even', 'tri'], ['bought', 'tri', 'wife', 'enjoy', 'feel', 'anyth', 'enhanc', 'product', 'hisher', 'product'], ['bought', 'product', 'spice', 'thing', 'fianc', 'didnt', 'anyth', 'passion', 'buy'], ['bought', 'tri', 'spice', 'thing', 'felt', 'noth', 'disappoint', 'honest'], ['bought', 'better', 'review', 'jelli', 'feel', 'like', 'didnt', 'work', 'well', 'u', 'kind', 'warmfeel', 'that', 'guess', 'dont', 'know', 'what', 'suppos', 'happen', 'lol'], ['first', 'time', 'use', 'ky', 'didnt', 'anyth', 'opinion', 'felt', 'like', 'everi', 'time', 'anyth', 'first', 'time', 'probabl', 'somth', 'wrong'], ['notic', 'product', 'clearanc', 'store', 'shop', 'frequent', 'decid', 'give', 'tri', 'husband', 'love', 'went', 'back', 'bought', 'everi', 'box', 'left', 'like', 'other', 'mention', 'sure', 'suppos', 'lubric', 'purpos', 'like', 'much', 'better', 'regular', 'ky', 'jelli', 'tend', 'dri', 'disappear', 'u', 'product', 'stay', 'awhil', 'make', 'pleasur', 'experi', 'drawback', 'find', 'bit', 'sticki', 'appli', 'hand', 'your', 'left', 'sticki', 'hand', 'agre', 'littl', 'goe', 'long', 'way', 'person', 'care', 'product', 'due', 'skin', 'irrit', 'surprisingli', 'actual', 'seem', 'help', 'receiv', 'sampl', 'never'], ['use', 'product', 'coupl', 'time', 'sinc', 'reciv', 'free', 'tri', 'good', 'experi', 'feel', 'warm', 'pretti', 'good', 'sensat', 'recomend'], ['use', 'time', 'stay', 'bit', 'sticki', 'bad', 'better', 'product'], ['love', 'review', 'collect', 'part', 'promot'], ['good', 'product', 'give', 'great', 'feel'], ['realli', 'enjoy', 'use', 'product', 'husband', '20', 'year', 'marriag', 'thing', 'tend', 'get', 'littl', 'tire', 'bore', 'thing', 'need', 'shake', 'thing', 'bit', 'packag', 'pump', 'dispens', 'awesom', 'product', 'disappoint', 'littl', 'goe', 'long', 'way', 'provid', 'slight', 'warm', 'sensat', 'use', 'becom', 'sticki', 'tacki', 'anyway', 'excel', 'choic', 'intim', 'lubric', 'receiv', 'free', 'product', 'purpos', 'review', 'opinion', '100'], ['awesom', 'product', 'coupl', 'warm', 'feel', 'lubric', 'sticki', 'like', 'lot', 'lubricantsit', 'easi', 'clean', 'usei', 'absolut', 'purchas', 'futur', 'receiv', 'product', 'free', 'purpos', 'give', 'reviewopinion', '100'], ['except', 'product', 'smooth', 'slimi', 'warm', 'sensat', 'experi', 'partner', 'share', 'least', 'lifetim', 'great', 'way', 'shake', 'thing'], ['use', 'first', 'time', 'boyfriend', 'love', 'much', 'didnt', 'get', 'sticki', 'felt', 'great', 'entir', 'time'], ['great', 'product', 'exactli', 'say', 'work', 'well'], ['ye', 'scent', 'best', 'like', 'lemon', 'frost', 'wont', 'abl', 'get', 'enough', 'lotion', 'also', 'almost', '100', 'natur', 'none', 'yucki', 'ingredi', 'like', 'major', 'brand', 'lotion', 'miner', 'oil', 'petroleum', 'etc', 'also', 'complet', 'work', 'know', 'sometim', 'opt', 'organ', 'choic', 'good', 'good', 'popular', 'nastier', 'brand', 'jr', 'watkin', 'deliv', 'lotion', 'soften', 'hand', 'bodi', 'leav', 'ungreasi', 'smell', 'perfect', 'even', 'fianc', 'like', 'use', 'he', 'pretti', 'much', 'antilot', 'regard', 'price', 'absolut', 'right', 'tooget'], ['handcreamlemoncream', 'refresh', 'fragranc', 'wish', 'would', 'last', 'day', 'sooth', 'hand', 'get', 'compliment', 'use', 'especi', 'daughter', 'granddaught', 'want', 'get', 'one', 'favorit', 'hand', 'cream', 'wish', 'watkin', 'still', 'vanilla', 'bodi', 'cream', 'favorit'], ['smell', 'like', 'lemon', 'cooki', 'absolut', 'love', 'kid', 'love'], ['love', 'lotion', 'smile', 'everi', 'time', 'put'], ['hand', 'cream', 'nice', 'desk', 'work', 'someon', 'stole', 'two', 'day', 'broke', 'heart', 'littl'], ['love', 'lotion', 'nice', 'thick', 'great', 'fragranc', 'use', 'hand', 'foot'], ['sure', 'work', 'clear', 'complexion', 'use', '2', 'week', 'keep', 'skin', 'smooth', 'clean'], ['make', 'skin', 'feel', 'clean', 'super', 'dri', 'ashi', 'dont', 'follow', 'moisturis', 'soon', 'im', 'done', 'skin', 'doesnt', 'feel', 'oili', 'tacki', 'make', 'skin', 'radiant', 'use', 'foundat', 'conceal', 'need', 'make', 'skin', 'look', 'even', 'hydrat'], ['make', 'face', 'feel', 'nice', 'fresh', '3', 'day', 'get', 'slight', 'acn', 'clear', 'right', 'back', 'deff', 'use', 'everi', 'day'], ['use', 'soap', 'year', 'consid', 'walmart', 'best', 'kept', 'secret', 'disappoint', 'stop', 'carri', 'store', 'locat', 'delight', 'see', 'could', 'get', 'onlin', 'end', 'bless', 'dont', 'go', 'walmart', 'often', 'im', 'save', 'money', 'sorri', 'walmart', 'deliveri', 'prompt', 'stockpil', 'never', 'left', 'hous'], ['wont', 'recommend', 'product', 'anyon'], ['8', 'month', 'old', 'babi', 'got', 'extrem', 'irrit', 'product', 'use', 'le', 'week', 'would', 'like', 'get', 'money', 'back'], ['receiv', '1', 'bottl', 'order', 'said', 'pack', '6', 'disappoint', 'review', 'collect', 'part', 'promot'], ['would', 'think', 'conveni', 'bubbl', 'bath', 'wash', 'contain', 'mean', 'buy', 'twice', 'amount', 'son', 'love', 'bubbl', 'though', 'complaint'], ['well', 'johnson', 'need', 'say', 'know', 'right', 'ok', 'use', 'johnson', 'sinc', 'babi', 'ye', 'long', 'time', 'let', 'get', 'chase', '2', '1', 'come', 'doesnt', 'like', '2', '1', 'hard', 'enough', 'get', 'littl', 'love', 'clean', 'help', 'alway', 'bless', 'johnson', 'bubbl', 'bath', 'wash', 'must', 'hous'], ['well', 'johnson', 'need', 'say', 'know', 'right', 'ok', 'use', 'johnson', 'sinc', 'babi', 'ye', 'long', 'time', 'let', 'get', 'chase', '2', '1', 'come', 'doesnt', 'like', '2', '1', 'hard', 'enough', 'get', 'littl', 'love', 'clean', 'help', 'alway', 'bless', 'johnson', 'bubbl', 'bath', 'wash', 'must', 'hous'], ['bubbl', 'arent', 'top', 'fabul', 'smell', 'good', 'make', 'kid', 'happi'], ['use', 'babi', 'one', 'month', 'old', 'dont', 'like', 'much', 'fragnanac', 'henc', 'love', 'dont', 'feel', 'like', 'use', 'anoth', 'one'], ['lot', 'fun', 'bath', 'use', 'lot', 'make', 'bubbl', 'nice', 'addit', 'kid', 'dont', 'want', 'take', 'bath'], ['amaz', 'product', '3', 'year', 'old', 'love', 'bubbl', 'bath'], ['absolut', 'love', 'bubblebath', 'smell', 'good', 'bodi', 'wash', 'littl', 'one', 'sensit', 'skin', 'great', 'option', 'still', 'enjoy', 'bubbl', 'break'], ['bought', 'small', 'sampl', 'size', 'coupl', 'month', 'back', 'love', 'smell', 'wonder', 'recent', 'bought', 'new', 'bottl', 'think', 'may', 'keep', 'shower', 'buy', 'kid', 'anoth', 'one'], ['pleasant', 'smell', 'need', 'littl', 'whole', 'lot', 'bubbl'], ['babi', 'love', 'bubbl', 'mom', 'love', 'tear', 'free', 'fragranc'], ['son', 'love', 'product', 'make', 'bath', 'time', 'fun', 'look', 'forward', 'bubbl', 'also', 'bodi', 'wash', '2', 'in1', 'make', 'conveni'], ['realli', 'like', 'fresh', 'smell'], ['cream', 'much', 'face', 'throat', 'area', 'gone', 'back', 'gener', 'brand', 'work', 'better', 'expens', 'review', 'collect', 'part', 'promot'], ['use', 'love', 'product', 'sever', 'year', 'chang', 'use', 'moistur', 'skin', 'left', 'feel', 'soft', 'sit', 'top', 'skin', 'never', 'absorb', 'leav', 'slimi', 'film', 'skin', 'longer', 'purchas', 'product'], ['use', 'oil', 'olay', '20', 'year', 'product', 'work', 'well', 'new', 'formula', 'horribl', 'cannot', 'find', 'anyth', 'work', 'skin', 'like', 'smell', 'floweri', 'thick', 'old', 'formula', 'light'], ['disappoint', 'use', 'product', 'year', 'soft', 'smell', 'great', 'result', 'new', 'formula', 'feel', 'greasi', 'smell', 'aw', 'dont', 'feel', 'like', 'skin', 'look', 'tone', 'wrinkl', 'free', 'anymor', 'five', 'star', 'product', 'mani', 'yearswhi', 'chang', 'plea', 'bring', 'back', 'old', 'formula'], ['ive', 'use', 'product', 'year', 'terrif', 'improv', 'formula', 'terribl', 'doesnt', 'hydrat', 'power', 'much', 'thinner', 'stickier', 'heaven', 'help', 'get', 'lip', 'tast', 'terribl', 'plea', 'dump', 'improv', 'formula', 'im', 'shop', 'new', 'moistur', 'ala'], ['took', 'long', 'find', 'moistur', 'work', 'well', 'love', 'product', 'howev', 'new', 'formula', 'smell', 'strong', 'feel', 'greasi', 'appli', 'unfortun', 'longer', 'purchas', 'product', 'search', 'anoth', 'moistur', 'plea', 'olay', 'bring', 'back', 'old', 'formula', 'much', 'better'], ['use', 'swear', 'product', 'daili', 'moistur', 'love', 'felt', 'thick', 'creami', 'great', 'job', 'without', 'greasi', 'feel', 'heavi', 'howev', 'bought', 'first', 'contain', 'new', 'formula', 'terribl', 'leav', 'greasi', 'feel', 'go', 'away', 'make', 'imposs', 'appli', 'makeup', 'even', '10', 'minut', 'skin', 'feel', 'slimi', 'touch', 'slipperi', 'scent', 'way', 'stronger', 'plea', 'olay', 'give', 'u', 'old', 'formula', 'back', 'ill', 'purchas', 'someth', 'el'], ['olay', 'dont', 'work', 'overli', 'dri', 'skin', 'havent', 'found', 'anyth', 'work', 'skin', 'im', 'hope', 'abl', 'find', 'someth', 'work', 'im', 'affrid', 'wont', 'abl', 'find', 'anyth', 'help', 'skin', 'dri', 'get', 'bad', 'dig', 'leg', 'time'], ['use', 'sever', 'day', 'row', 'felt', 'like', 'wear', 'mask', 'skin', 'felt', 'unnatur', 'dri', 'skin', 'felt', 'coat', 'instead', 'hydrat', 'purchas', 'product'], ['buy', 'olay', 'regenerist', 'time', 'cv', 'rite', 'aid', 'time', 'around', 'purchas', 'wal', 'mart', 'onlin', 'store', 'receiv', 'formula', 'slightli', 'differ', 'lotion', 'smell', 'like', 'cheaper', 'product', 'olay', 'make', 'disappoint', 'order', 'walmart', 'onlin'], ['mother', 'vow', 'product', 'year', 'year', 'first', 'start', 'pay', 'attent', 'skincar', 'gave', 'bottl', 'olay', 'regenerist', 'ive', 'ever', 'need', 'thing', 'work', 'spent', 'much', 'money', 'explor', 'highend', 'brand', 'understand', 'im', 'upset', 'formula', 'tamper', 'new', 'improv', 'cream', 'smell', 'aw', 'scent', 'way', 'strong', 'appear', 'theyv', 'water', 'mushi', 'face', 'touch', 'face', 'point', 'day', 'start', 'peel', 'greasi', 'work', 'well', 'makeup', 'mom', 'forc', 'look', 'whole', 'new', 'line', 'product', 'weve', 'stay', 'olay', 'whole', 'live', 'sad', 'sad', 'sad', 'bring', 'back', 'old', 'formula'], ['product', 'probabl', 'leav', 'face', 'feel', 'nourish', 'would', 'recommend', 'use', 'daili', 'moistur', 'makeup', 'left', 'face', 'full', 'crumbl', 'soon', 'brush', 'makeup', 'would', 'probabl', 'better', 'night', 'cream'], ['didnt', 'moistur', 'use', 'thought', 'would', 'tri', 'go', 'back', 'nutragena'], ['greatgreatmefeel', 'great', 'smell', 'great', 'succul', 'took', 'away', 'dri', 'skin', 'silki', 'smooth', 'enrich'], ['today', 'first', 'time', 'use', 'product', 'felt', 'great', 'go', 'immedi', 'felt', 'moistur', 'without', 'greasi', 'although', 'smell', 'great', 'would', 'love', 'formula', 'fragrancefre', 'option', 'skin', 'tend', 'littl', 'sensit', 'fragranc', 'give', 'final', 'review', 'coupl', 'week'], ['love', 'feel', 'result', 'day', 'recommend', 'friend', 'review', 'collect', 'part', 'promot'], ['use', 'night', 'wrinkl', 'face', 'good', 'job', 'reduc', 'wrinkl', 'take', 'coupl', 'year', 'face', 'review', 'collect', 'part', 'promot'], ['although', 'product', 'work', 'amazingli', 'well', 'fragranc', 'gave', 'headach', 'made', 'eye', 'water', 'dailyolay', 'plea', 'make', 'fragrancefre', 'product'], ['love', 'product', 'use', 'least', '10', 'year', 'prefer', 'old', 'formul', 'better', 'feel', 'new', 'one', 'doesnt', 'hydrat', 'well', 'leav', 'thin', 'film', 'skin', 'review', 'collect', 'part', 'promot'], ['want', 'tri', 'answer', 'question', 'sound', 'like', 'product', 'would', 'help', 'skin', 'face', 'dont', 'want', 'face', 'start', 'sag', 'alway', 'like', 'olay', 'product', 'review', 'collect', 'part', 'promot'], ['product', 'realli', 'help', 'keep', 'skin', 'moistur', 'winter', 'month', 'use', 'morn', 'night', 'good', 'result', 'littl', 'heavi', 'warmer', 'weather', 'though', 'skin', 'type', 'anyway', 'review', 'collect', 'part', 'promot'], ['product', 'smell', 'amaz', 'need', 'use', 'often', 'skin'], ['love', 'cleanser', 'cream', 'littl', 'thick', 'mei', 'troubl', 'go', 'bed', 'ona', 'bit', 'greasi', 'lot', 'fragranc', 'purchas', 'micro', 'sculp', 'cream', 'cant', 'wait', 'tri', 'tonight', 'one', 'point', 'though', 'cream', 'last', 'long', 'time', 'though', 'dont', 'use', 'everi', 'night', 'becuas', 'favorit'], ['like', 'product', 'dislik', 'dispens', 'hole', 'top', 'strang', 'dispens', 'leav', 'mess', 'top', 'contain', 'review', 'collect', 'part', 'promot'], ['wake', 'feel', 'moistur', 'face', 'honestli', 'cannot', 'tell', 'done', 'anyth', 'el', 'review', 'collect', 'part', 'promot'], ['im', 'avid', 'olay', 'girlthi', 'one', 'favorit', 'ib', 'would', 'buy'], ['today', 'first', 'time', 'use', 'product', 'felt', 'great', 'go', 'immedi', 'felt', 'moistur', 'without', 'greasi', 'although', 'smell', 'great', 'would', 'love', 'formula', 'fragrancefre', 'option', 'skin', 'tend', 'littl', 'sensit', 'fragranc', 'give', 'final', 'review', 'coupl', 'week'], ['love', 'smell', 'suppl', 'skin', 'feelsi', 'actual', 'wakeup', 'le', 'sleep', 'wrinkl', 'face', 'use', 'thee', 'night', 'time', 'moistur', 'cream', 'would', 'use', 'everyth', 'okay', 'make', 'could', 'afford', 'buy'], ['good', 'caus', 'work', 'that', 'matter'], ['product', 'seem', 'work', 'well', 'havent', 'notic', 'major', 'antiag', 'qualiti', 'seem', 'help', 'acn'], ['would', 'recommend', 'product', 'dont', 'money', 'spend', 'expens', 'lotion', 'daili', 'facial', 'product', 'know', 'older', 'get', 'start', 'show', 'sign', 'real', 'age', 'olay', 'product', 'everi', 'day', 'concern', 'care', 'ive', 'use', 'olay', 'product', 'year'], ['smell', 'good', 'good', 'smell', 'put', 'store', 'peopl', 'buy'], ['product', 'work', 'amaz', 'make', 'skin', 'smell', 'great', 'also', 'keep', 'skin', 'smooth', 'n', 'healti'], ['would', 'def', 'recommend', 'product', 'smell', 'good', 'leav', 'susi', 'skin', 'soft'], ['great', 'smell', 'feel', 'would', 'like', 'tri', 'futur', 'thank'], ['rate', 'olay', 'microsculpt', 'fragranc', 'free', 'one', 'absorb', 'made', 'foundat', 'glob', 'peel', 'rub', 'formula', 'much', 'better', 'day', 'use', 'absorb', 'quickli', 'greasi', 'hydrat', 'well', 'havent', 'seen', 'wrinkl', 'dissappear', 'yet'], ['like', 'way', 'felt', 'skin', 'felt', 'like', 'sort', 'skin', 'mask', 'may', 'ok', 'peopl', 'moistur', 'creami', 'textur'], ['today', 'first', 'time', 'use', 'product', 'felt', 'great', 'go', 'immedi', 'felt', 'moistur', 'without', 'greasi', 'although', 'smell', 'great', 'would', 'love', 'formula', 'fragrancefre', 'option', 'skin', 'tend', 'littl', 'sensit', 'fragranc', 'give', 'final', 'review', 'coupl', 'week'], ['keep', 'face', 'feel', 'moistur', 'soft', 'feel', 'light', 'weight', 'skin', 'review', 'collect', 'part', 'promot'], ['hydrat', 'skin', 'thick', 'heavi', 'put', 'review', 'collect', 'part', 'promot'], ['product', 'goe', 'smooth', 'make', 'skin', 'feel', 'great', 'instantli', 'review', 'collect', 'part', 'promot'], ['tri', 'product', 'regenerist', 'seem', 'best', 'review', 'collect', 'part', 'promot'], ['realli', 'like', 'feel', 'product', 'smooth', 'well', 'review', 'collect', 'part', 'promot'], ['week', 'see', 'differ', 'skin', 'face', 'review', 'collect', 'part', 'promot']]]\n"
          ],
          "name": "stdout"
        },
        {
          "output_type": "error",
          "ename": "NameError",
          "evalue": "ignored",
          "traceback": [
            "\u001b[0;31m---------------------------------------------------------------------------\u001b[0m",
            "\u001b[0;31mNameError\u001b[0m                                 Traceback (most recent call last)",
            "\u001b[0;32m<ipython-input-29-e9f38da88d9d>\u001b[0m in \u001b[0;36m<module>\u001b[0;34m()\u001b[0m\n\u001b[1;32m      1\u001b[0m \u001b[0mn_docs\u001b[0m \u001b[0;34m=\u001b[0m \u001b[0;36m1000\u001b[0m\u001b[0;34m\u001b[0m\u001b[0;34m\u001b[0m\u001b[0m\n\u001b[0;32m----> 2\u001b[0;31m \u001b[0mvoca\u001b[0m\u001b[0;34m,\u001b[0m \u001b[0mcorpus\u001b[0m \u001b[0;34m=\u001b[0m \u001b[0mget_reuters_token_list_by_sentence\u001b[0m\u001b[0;34m(\u001b[0m\u001b[0mn_docs\u001b[0m\u001b[0;34m,\u001b[0m\u001b[0minput_df\u001b[0m\u001b[0;34m[\u001b[0m\u001b[0;34m\"Lemmatization\"\u001b[0m\u001b[0;34m]\u001b[0m\u001b[0;34m.\u001b[0m\u001b[0mvalues\u001b[0m\u001b[0;34m)\u001b[0m\u001b[0;34m\u001b[0m\u001b[0;34m\u001b[0m\u001b[0m\n\u001b[0m",
            "\u001b[0;32m<ipython-input-27-1e6fdcc4dc01>\u001b[0m in \u001b[0;36mget_reuters_token_list_by_sentence\u001b[0;34m(num_doc, ip)\u001b[0m\n\u001b[1;32m      3\u001b[0m     \u001b[0mprint\u001b[0m\u001b[0;34m(\u001b[0m\u001b[0mcorpus\u001b[0m\u001b[0;34m)\u001b[0m\u001b[0;34m\u001b[0m\u001b[0;34m\u001b[0m\u001b[0m\n\u001b[1;32m      4\u001b[0m     \u001b[0mvalid_voca\u001b[0m \u001b[0;34m=\u001b[0m \u001b[0mset\u001b[0m\u001b[0;34m(\u001b[0m\u001b[0mw\u001b[0m\u001b[0;34m.\u001b[0m\u001b[0mlower\u001b[0m\u001b[0;34m(\u001b[0m\u001b[0;34m)\u001b[0m \u001b[0;32mfor\u001b[0m \u001b[0mw\u001b[0m \u001b[0;32min\u001b[0m \u001b[0mnltk\u001b[0m\u001b[0;34m.\u001b[0m\u001b[0mcorpus\u001b[0m\u001b[0;34m.\u001b[0m\u001b[0mwords\u001b[0m\u001b[0;34m.\u001b[0m\u001b[0mwords\u001b[0m\u001b[0;34m(\u001b[0m\u001b[0;34m)\u001b[0m\u001b[0;34m)\u001b[0m\u001b[0;34m\u001b[0m\u001b[0;34m\u001b[0m\u001b[0m\n\u001b[0;32m----> 5\u001b[0;31m     \u001b[0mstop\u001b[0m \u001b[0;34m=\u001b[0m \u001b[0mstopwords\u001b[0m\u001b[0;34m.\u001b[0m\u001b[0mwords\u001b[0m\u001b[0;34m(\u001b[0m\u001b[0;34m'english'\u001b[0m\u001b[0;34m)\u001b[0m\u001b[0;34m\u001b[0m\u001b[0;34m\u001b[0m\u001b[0m\n\u001b[0m\u001b[1;32m      6\u001b[0m     \u001b[0mvalid_voca\u001b[0m \u001b[0;34m=\u001b[0m \u001b[0mvalid_voca\u001b[0m\u001b[0;34m.\u001b[0m\u001b[0munion\u001b[0m\u001b[0;34m(\u001b[0m\u001b[0mstop\u001b[0m\u001b[0;34m)\u001b[0m\u001b[0;34m\u001b[0m\u001b[0;34m\u001b[0m\u001b[0m\n\u001b[1;32m      7\u001b[0m \u001b[0;34m\u001b[0m\u001b[0m\n",
            "\u001b[0;31mNameError\u001b[0m: name 'stopwords' is not defined"
          ]
        }
      ]
    },
    {
      "cell_type": "markdown",
      "metadata": {
        "id": "ETYXQ0h_4P3Y"
      },
      "source": [
        "Supervised LDA TOPIC MODELLING"
      ]
    },
    {
      "cell_type": "code",
      "metadata": {
        "colab": {
          "base_uri": "https://localhost:8080/"
        },
        "id": "a8FesWSX39Ic",
        "outputId": "bb59e51a-e227-44f3-b8eb-0da99377755a"
      },
      "source": [
        "!pip install pymc"
      ],
      "execution_count": null,
      "outputs": [
        {
          "output_type": "stream",
          "text": [
            "Collecting pymc\n",
            "\u001b[?25l  Downloading https://files.pythonhosted.org/packages/37/81/9a222c38c65019de9ad5a1ee2448cc4a9b5f7a64eeaf246c77f81c0e6f94/pymc-2.3.8.tar.gz (385kB)\n",
            "\r\u001b[K     |▉                               | 10kB 15.6MB/s eta 0:00:01\r\u001b[K     |█▊                              | 20kB 20.3MB/s eta 0:00:01\r\u001b[K     |██▌                             | 30kB 23.6MB/s eta 0:00:01\r\u001b[K     |███▍                            | 40kB 26.7MB/s eta 0:00:01\r\u001b[K     |████▎                           | 51kB 25.2MB/s eta 0:00:01\r\u001b[K     |█████                           | 61kB 22.3MB/s eta 0:00:01\r\u001b[K     |██████                          | 71kB 22.9MB/s eta 0:00:01\r\u001b[K     |██████▉                         | 81kB 20.5MB/s eta 0:00:01\r\u001b[K     |███████▋                        | 92kB 21.8MB/s eta 0:00:01\r\u001b[K     |████████▌                       | 102kB 21.4MB/s eta 0:00:01\r\u001b[K     |█████████▍                      | 112kB 21.4MB/s eta 0:00:01\r\u001b[K     |██████████▏                     | 122kB 21.4MB/s eta 0:00:01\r\u001b[K     |███████████                     | 133kB 21.4MB/s eta 0:00:01\r\u001b[K     |████████████                    | 143kB 21.4MB/s eta 0:00:01\r\u001b[K     |████████████▊                   | 153kB 21.4MB/s eta 0:00:01\r\u001b[K     |█████████████▋                  | 163kB 21.4MB/s eta 0:00:01\r\u001b[K     |██████████████▌                 | 174kB 21.4MB/s eta 0:00:01\r\u001b[K     |███████████████▎                | 184kB 21.4MB/s eta 0:00:01\r\u001b[K     |████████████████▏               | 194kB 21.4MB/s eta 0:00:01\r\u001b[K     |█████████████████               | 204kB 21.4MB/s eta 0:00:01\r\u001b[K     |█████████████████▉              | 215kB 21.4MB/s eta 0:00:01\r\u001b[K     |██████████████████▊             | 225kB 21.4MB/s eta 0:00:01\r\u001b[K     |███████████████████▋            | 235kB 21.4MB/s eta 0:00:01\r\u001b[K     |████████████████████▍           | 245kB 21.4MB/s eta 0:00:01\r\u001b[K     |█████████████████████▎          | 256kB 21.4MB/s eta 0:00:01\r\u001b[K     |██████████████████████          | 266kB 21.4MB/s eta 0:00:01\r\u001b[K     |███████████████████████         | 276kB 21.4MB/s eta 0:00:01\r\u001b[K     |███████████████████████▉        | 286kB 21.4MB/s eta 0:00:01\r\u001b[K     |████████████████████████▋       | 296kB 21.4MB/s eta 0:00:01\r\u001b[K     |█████████████████████████▌      | 307kB 21.4MB/s eta 0:00:01\r\u001b[K     |██████████████████████████▍     | 317kB 21.4MB/s eta 0:00:01\r\u001b[K     |███████████████████████████▏    | 327kB 21.4MB/s eta 0:00:01\r\u001b[K     |████████████████████████████    | 337kB 21.4MB/s eta 0:00:01\r\u001b[K     |█████████████████████████████   | 348kB 21.4MB/s eta 0:00:01\r\u001b[K     |█████████████████████████████▊  | 358kB 21.4MB/s eta 0:00:01\r\u001b[K     |██████████████████████████████▋ | 368kB 21.4MB/s eta 0:00:01\r\u001b[K     |███████████████████████████████▌| 378kB 21.4MB/s eta 0:00:01\r\u001b[K     |████████████████████████████████| 389kB 21.4MB/s \n",
            "\u001b[?25hBuilding wheels for collected packages: pymc\n",
            "  Building wheel for pymc (setup.py) ... \u001b[?25l\u001b[?25hdone\n",
            "  Created wheel for pymc: filename=pymc-2.3.8-cp37-cp37m-linux_x86_64.whl size=1352893 sha256=1a44178d16af06f6a81d4745194df2017e19ba91341b99669a32b946565a6558\n",
            "  Stored in directory: /root/.cache/pip/wheels/0b/a8/e7/8f3ba91a39294d538a92db052fd1fcba1fca74a58c8b022026\n",
            "Successfully built pymc\n",
            "Installing collected packages: pymc\n",
            "Successfully installed pymc-2.3.8\n"
          ],
          "name": "stdout"
        }
      ]
    },
    {
      "cell_type": "code",
      "metadata": {
        "id": "X8rnrSuy4Np6"
      },
      "source": [
        "from __future__ import print_function\n",
        "\n",
        "import numpy as np\n",
        "from scipy.special import gammaln\n",
        "from scipy.stats import norm\n",
        "from numpy.linalg import solve\n",
        "from six.moves import xrange\n",
        "\n",
        "import numpy as np\n",
        "\n",
        "\n",
        "import numpy as np\n",
        "\n",
        "from six.moves import xrange\n",
        "\n",
        "\n",
        "def sampling_from_dist(prob):\n",
        "    \"\"\" Sample index from a list of unnormalised probability distribution\n",
        "        same as np.random.multinomial(1, prob/np.sum(prob)).argmax()\n",
        "    Parameters\n",
        "    ----------\n",
        "    prob: ndarray\n",
        "        array of unnormalised probability distribution\n",
        "    Returns\n",
        "    -------\n",
        "    new_topic: return a sampled index\n",
        "    \"\"\"\n",
        "    thr = prob.sum() * np.random.rand()\n",
        "    new_topic = 0\n",
        "    tmp = prob[new_topic]\n",
        "    while tmp < thr:\n",
        "        new_topic += 1\n",
        "        tmp += prob[new_topic]\n",
        "    return new_topic\n",
        "\n",
        "\n",
        "def sampling_from_dict(prob):\n",
        "    \"\"\" sample key from dictionary `prob` where values are unnormalised probability distribution\n",
        "    Parameters\n",
        "    ----------\n",
        "    prob: dict\n",
        "        key = topic\n",
        "        value = unnormalised probability of the topic\n",
        "    Returns\n",
        "    -------\n",
        "    key: int\n",
        "        sampled key\n",
        "    \"\"\"\n",
        "    prob_sum = sum(prob.values())\n",
        "\n",
        "    thr = prob_sum * np.random.rand()\n",
        "    tmp = 0\n",
        "    for key, p in prob.items():\n",
        "        tmp += p\n",
        "        if tmp < thr:\n",
        "            new_topic = key\n",
        "    return new_topic\n",
        "\n",
        "\n",
        "def isfloat(value):\n",
        "    \"\"\"\n",
        "    Check the value is convertable to float value\n",
        "    \"\"\"\n",
        "    try:\n",
        "        float(value)\n",
        "        return True\n",
        "    except ValueError:\n",
        "        return False\n",
        "\n",
        "\n",
        "def read_voca(path):\n",
        "    \"\"\"\n",
        "    open file from path and read each line to return the word list\n",
        "    \"\"\"\n",
        "    with open(path, 'r') as f:\n",
        "        return [word.strip() for word in f.readlines()]\n",
        "\n",
        "\n",
        "def word_cnt_to_bow_list(word_ids, word_cnt):\n",
        "    corpus_list = list()\n",
        "    for di in xrange(len(word_ids)):\n",
        "        doc_list = list()\n",
        "        for wi in xrange(len(word_ids[di])):\n",
        "            word = word_ids[di][wi]\n",
        "            for c in xrange(word_cnt[di][wi]):\n",
        "                doc_list.append(word)\n",
        "        corpus_list.append(doc_list)\n",
        "    return corpus_list\n",
        "\n",
        "\n",
        "def log_normalize(log_prob_vector):\n",
        "    \"\"\"\n",
        "    returns a probability vector of log probability vector\n",
        "    \"\"\"\n",
        "    max_v = log_prob_vector.max()\n",
        "    log_prob_vector += max_v\n",
        "    log_prob_vector = np.exp(log_prob_vector)\n",
        "    log_prob_vector /= log_prob_vector.sum()\n",
        "    return log_prob_vector\n",
        "\n",
        "\n",
        "def convert_cnt_to_list(word_ids, word_cnt):\n",
        "    corpus = list()\n",
        "\n",
        "    for di in xrange(len(word_ids)):\n",
        "        doc = list()\n",
        "        doc_ids = word_ids[di]\n",
        "        doc_cnt = word_cnt[di]\n",
        "        for wi in xrange(len(doc_ids)):\n",
        "            word_id = doc_ids[wi]\n",
        "            for si in xrange(doc_cnt[wi]):\n",
        "                doc.append(word_id)\n",
        "        corpus.append(doc)\n",
        "    return corpus\n",
        "\n",
        "\n",
        "def write_top_words(topic_word_matrix, vocab, filepath, n_words=20, delimiter=',', newline='\\n'):\n",
        "    with open(filepath, 'w') as f:\n",
        "        for ti in xrange(topic_word_matrix.shape[0]):\n",
        "            top_words = vocab[topic_word_matrix[ti, :].argsort()[::-1][:n_words]]\n",
        "            f.write('%d' % (ti))\n",
        "            for word in top_words:\n",
        "                f.write(delimiter + word)\n",
        "            f.write(newline)\n",
        "\n",
        "\n",
        "def get_top_words(topic_word_matrix, vocab, topic, n_words=20):\n",
        "    if not isinstance(vocab, np.ndarray):\n",
        "        vocab = np.array(vocab)\n",
        "    top_words = vocab[topic_word_matrix[topic].argsort()[::-1][:n_words]]\n",
        "    return top_words\n",
        "\n",
        "\n",
        "class BaseTopicModel(object):\n",
        "    \"\"\"\n",
        "    Attributes\n",
        "    ----------\n",
        "    n_doc: int\n",
        "        the number of total documents in the corpus\n",
        "    n_voca: int\n",
        "        the vocabulary size of the corpus\n",
        "    verbose: boolean\n",
        "        if True, print each iteration step while inference.\n",
        "    \"\"\"\n",
        "    def __init__(self, n_doc, n_voca, **kwargs):\n",
        "        self.n_doc = n_doc\n",
        "        self.n_voca = n_voca\n",
        "        self.verbose = kwargs.pop('verbose', True)\n",
        "\n",
        "\n",
        "class BaseGibbsParamTopicModel(BaseTopicModel):\n",
        "    \"\"\" Base class of parametric topic models with Gibbs sampling inference\n",
        "    Attributes\n",
        "    ----------\n",
        "    n_topic: int\n",
        "        a number of topics to be inferred through the Gibbs sampling\n",
        "    TW: ndarray, shape (n_voca, n_topic)\n",
        "        word-topic matrix, keeps the number of assigned word tokens for each word-topic pair\n",
        "    DT: ndarray, shape (n_doc, n_topic)\n",
        "        document-topic matrix, keeps the number of assigned word tokens for each document-topic pair\n",
        "    sum_T: ndarray, shape (n_topic)\n",
        "        number of word tokens assigned for each topic\n",
        "    alpha: float\n",
        "        symmetric parameter of Dirichlet prior for document-topic distribution\n",
        "    beta: float\n",
        "        symmetric parameter of Dirichlet prior for topic-word distribution\n",
        "    \"\"\"\n",
        "\n",
        "    def __init__(self, n_doc, n_voca, n_topic, alpha, beta, **kwargs):\n",
        "        super(BaseGibbsParamTopicModel, self).__init__(n_doc=n_doc, n_voca=n_voca, **kwargs)\n",
        "        self.n_topic = n_topic\n",
        "        self.TW = np.zeros([self.n_topic, self.n_voca])\n",
        "        self.DT = np.zeros([self.n_doc, self.n_topic])\n",
        "        self.sum_T = np.zeros(self.n_topic)\n",
        "\n",
        "        self.alpha = alpha\n",
        "        self.beta = beta\n",
        "\n",
        "        self.topic_assignment = list()\n",
        "\n",
        "        self.TW += self.beta\n",
        "        self.sum_T += self.beta * self.n_voca\n",
        "        self.DT += self.alpha\n",
        "\n",
        "class SupervisedLDA(BaseGibbsParamTopicModel):\n",
        "    \"\"\" Supervised LDA with Gaussian response variables\n",
        "    Attributes\n",
        "    ----------\n",
        "    eta: ndarray, shape (n_topic)\n",
        "        coefficient parameter of Gaussian distribution where the mean is np.dot(z_bar.T, eta)\n",
        "    sigma: float\n",
        "        variance parameter of Gaussian output variables\n",
        "    \"\"\"\n",
        "\n",
        "    def __init__(self, n_doc, n_voca, n_topic, alpha=0.1, beta=0.01, sigma=1., **kwargs):\n",
        "        super(SupervisedLDA, self).__init__(n_doc=n_doc, n_voca=n_voca, n_topic=n_topic, alpha=alpha, beta=beta,\n",
        "                                                 **kwargs)\n",
        "        self.eta = np.random.normal(scale=5, size=self.n_topic)\n",
        "        self.sigma = sigma\n",
        "\n",
        "    def random_init(self, docs):\n",
        "        \"\"\"\n",
        "        Random initialization of topics\n",
        "        Parameters\n",
        "        ----------\n",
        "        docs:\n",
        "        \"\"\"\n",
        "        for di in xrange(len(docs)):\n",
        "            doc = docs[di]\n",
        "            topics = np.random.randint(self.n_topic, size=len(doc))\n",
        "            self.topic_assignment.append(topics)\n",
        "\n",
        "            for wi in xrange(len(doc)):\n",
        "                topic = topics[wi]\n",
        "                word = doc[wi]\n",
        "                self.TW[topic, word] += 1\n",
        "                self.sum_T[topic] += 1\n",
        "                self.DT[di, topic] += 1\n",
        "\n",
        "    def fit(self, docs, responses, max_iter=100):\n",
        "        \"\"\" Stochastic Expectation Maximisation algorithm\n",
        "        \"\"\"\n",
        "        self.random_init(docs)\n",
        "        for iteration in xrange(max_iter):\n",
        "\n",
        "            for di in xrange(len(docs)):\n",
        "                doc = docs[di]\n",
        "                for wi in xrange(len(doc)):\n",
        "                    word = doc[wi]\n",
        "                    old_topic = self.topic_assignment[di][wi]\n",
        "\n",
        "                    self.TW[old_topic, word] -= 1\n",
        "                    self.sum_T[old_topic] -= 1\n",
        "                    self.DT[di, old_topic] -= 1\n",
        "\n",
        "                    z_bar = np.zeros([self.n_topic, self.n_topic]) + self.DT[di, :] + np.identity(self.n_topic)\n",
        "                    # this seems more straightforward than z_bar/z_bar.sum(1)\n",
        "                    z_bar /= self.DT[di, :].sum() + 1\n",
        "\n",
        "                    # update\n",
        "                    prob = (self.TW[:, word]) / (self.sum_T) * (self.DT[di, :]) * np.exp(\n",
        "                        np.negative((responses[di] - np.dot(z_bar, self.eta)) ** 2) / 2 / self.sigma)\n",
        "\n",
        "                    new_topic = sampling_from_dist(prob)\n",
        "\n",
        "                    self.topic_assignment[di][wi] = new_topic\n",
        "                    self.TW[new_topic, word] += 1\n",
        "                    self.sum_T[new_topic] += 1\n",
        "                    self.DT[di, new_topic] += 1\n",
        "\n",
        "            # estimate parameters\n",
        "            z_bar = self.DT / self.DT.sum(1)[:, np.newaxis]  # DxK\n",
        "            self.eta = solve(np.dot(z_bar.T, z_bar), np.dot(z_bar.T, responses))\n",
        "\n",
        "            # compute mean absolute error\n",
        "            mae = np.mean(np.abs(responses - np.dot(z_bar, self.eta)))\n",
        "            #if self.verbose:\n",
        "             #   logger.info('[ITER] %d,\\tMAE:%.2f,\\tlog_likelihood:%.2f', iteration, mae,\n",
        "              #              self.log_likelihood(docs, responses))\n",
        "\n",
        "    def sample_heldout_doc(self, max_iter, heldout_docs):\n",
        "        h_doc_topics = list()\n",
        "        h_doc_topic_sum = np.zeros([len(heldout_docs), self.n_topic]) + self.alpha\n",
        "\n",
        "        # random init\n",
        "        for di in xrange(len(heldout_docs)):\n",
        "            doc = heldout_docs[di]\n",
        "            topics = np.random.randint(self.n_topic, size=len(doc))\n",
        "            h_doc_topics.append(topics)\n",
        "\n",
        "            for wi in xrange(len(doc)):\n",
        "                topic = topics[wi]\n",
        "                h_doc_topic_sum[di, topic] += 1\n",
        "\n",
        "        for iter in xrange(max_iter):\n",
        "            for di in xrange(len(heldout_docs)):\n",
        "                doc = heldout_docs[di]\n",
        "                for wi in xrange(len(doc)):\n",
        "                    word = doc[wi]\n",
        "                    old_topic = h_doc_topics[di][wi]\n",
        "\n",
        "                    h_doc_topic_sum[di, old_topic] -= 1\n",
        "\n",
        "                    # update\n",
        "                    prob = (self.TW[:, word] / self.sum_T) * (self.DT[di, :])\n",
        "\n",
        "                    new_topic = sampling_from_dist(prob)\n",
        "\n",
        "                    h_doc_topics[di][wi] = new_topic\n",
        "                    h_doc_topic_sum[di, new_topic] += 1\n",
        "\n",
        "        return h_doc_topic_sum\n",
        "\n",
        "    def log_likelihood(self, docs, responses):\n",
        "        \"\"\"\n",
        "        likelihood function\n",
        "        \"\"\"\n",
        "        ll = 0\n",
        "\n",
        "        ll += len(docs) * gammaln(self.alpha * self.n_topic)\n",
        "        ll -= len(docs) * self.n_topic * gammaln(self.alpha)\n",
        "        ll += self.n_topic * gammaln(self.beta * self.n_voca)\n",
        "        ll -= self.n_topic * self.n_voca * gammaln(self.beta)\n",
        "\n",
        "        for di in xrange(self.n_doc):\n",
        "            ll += gammaln(self.DT[di, :]).sum() - gammaln(self.DT[di, :].sum())\n",
        "            z_bar = self.DT[di] / np.sum(self.DT[di])\n",
        "            mean = np.dot(z_bar, self.eta)\n",
        "            ll += norm.logpdf(responses[di], mean, np.sqrt(self.sigma))\n",
        "        for ki in xrange(self.n_topic):\n",
        "            ll += gammaln(self.TW[ki, :]).sum() - gammaln(self.TW[ki, :].sum())\n",
        "\n",
        "        return ll\n"
      ],
      "execution_count": null,
      "outputs": []
    },
    {
      "cell_type": "code",
      "metadata": {
        "id": "wyWk6SKe4afo"
      },
      "source": [
        "training_data = input_df['Lemmatization'].values\n"
      ],
      "execution_count": null,
      "outputs": []
    },
    {
      "cell_type": "code",
      "metadata": {
        "colab": {
          "base_uri": "https://localhost:8080/"
        },
        "id": "QgdgA2IW4oi8",
        "outputId": "a9979dfd-8988-4197-e972-dd77771b1424"
      },
      "source": [
        "\n",
        "import nltk\n",
        "from nltk import word_tokenize\n",
        "from nltk.corpus import reuters, stopwords\n",
        "from six.moves import xrange\n",
        "from collections import Counter\n",
        "nltk.download('words')\n",
        "\n",
        "def get_ids_cnt(corpus, max_voca=9999999, remove_top_n=5):\n",
        "    voca = set(w.lower() for w in nltk.corpus.words.words())\n",
        "    stop = stopwords.words('english')\n",
        "\n",
        "    docs = list()\n",
        "    freq = Counter()\n",
        "\n",
        "    for doc in corpus:\n",
        "        if isinstance(doc, str):\n",
        "            doc = word_tokenize(doc)\n",
        "        elif not hasattr(doc, '__iter__'):\n",
        "            raise Exception('Corpus is not a list of string or token list')\n",
        "\n",
        "        # remove word using stopword list or single character word\n",
        "        doc = [word.lower() for word in doc if word.lower() in voca and word.lower() not in stop and len(word) != 1]\n",
        "        freq.update(doc)\n",
        "        docs.append(doc)\n",
        "\n",
        "    voca = [key for iter, (key, val) in enumerate(freq.most_common(max_voca)) if iter >= remove_top_n]\n",
        "\n",
        "    voca_dic = dict()\n",
        "    voca_list = list()\n",
        "    for word in voca:\n",
        "        voca_dic[word] = len(voca_dic)\n",
        "        voca_list.append(word)\n",
        "\n",
        "    doc_ids = list()\n",
        "    doc_cnt = list()\n",
        "\n",
        "    for doc in docs:\n",
        "        words = set(doc)\n",
        "        ids = np.array([int(voca_dic[word]) for word in words if word in voca_dic])\n",
        "        cnt = np.array([int(doc.count(word)) for word in words if word in voca_dic])\n",
        "\n",
        "        doc_ids.append(ids)\n",
        "        doc_cnt.append(cnt)\n",
        "\n",
        "    return np.array(voca_list), doc_ids, doc_cnt"
      ],
      "execution_count": null,
      "outputs": [
        {
          "output_type": "stream",
          "text": [
            "[nltk_data] Downloading package words to /root/nltk_data...\n",
            "[nltk_data]   Package words is already up-to-date!\n"
          ],
          "name": "stdout"
        }
      ]
    },
    {
      "cell_type": "code",
      "metadata": {
        "colab": {
          "base_uri": "https://localhost:8080/",
          "height": 986
        },
        "id": "9FAx1XLF4qj7",
        "outputId": "4c5ef90b-353a-4825-b129-e5741fa5aeba"
      },
      "source": [
        "voca, word_ids, word_cnt = get_ids_cnt(training_data)"
      ],
      "execution_count": null,
      "outputs": [
        {
          "output_type": "error",
          "ename": "LookupError",
          "evalue": "ignored",
          "traceback": [
            "\u001b[0;31m---------------------------------------------------------------------------\u001b[0m",
            "\u001b[0;31mLookupError\u001b[0m                               Traceback (most recent call last)",
            "\u001b[0;32m/usr/local/lib/python3.7/dist-packages/nltk/corpus/util.py\u001b[0m in \u001b[0;36m__load\u001b[0;34m(self)\u001b[0m\n\u001b[1;32m     79\u001b[0m             \u001b[0;32mexcept\u001b[0m \u001b[0mLookupError\u001b[0m \u001b[0;32mas\u001b[0m \u001b[0me\u001b[0m\u001b[0;34m:\u001b[0m\u001b[0;34m\u001b[0m\u001b[0;34m\u001b[0m\u001b[0m\n\u001b[0;32m---> 80\u001b[0;31m                 \u001b[0;32mtry\u001b[0m\u001b[0;34m:\u001b[0m \u001b[0mroot\u001b[0m \u001b[0;34m=\u001b[0m \u001b[0mnltk\u001b[0m\u001b[0;34m.\u001b[0m\u001b[0mdata\u001b[0m\u001b[0;34m.\u001b[0m\u001b[0mfind\u001b[0m\u001b[0;34m(\u001b[0m\u001b[0;34m'{}/{}'\u001b[0m\u001b[0;34m.\u001b[0m\u001b[0mformat\u001b[0m\u001b[0;34m(\u001b[0m\u001b[0mself\u001b[0m\u001b[0;34m.\u001b[0m\u001b[0msubdir\u001b[0m\u001b[0;34m,\u001b[0m \u001b[0mzip_name\u001b[0m\u001b[0;34m)\u001b[0m\u001b[0;34m)\u001b[0m\u001b[0;34m\u001b[0m\u001b[0;34m\u001b[0m\u001b[0m\n\u001b[0m\u001b[1;32m     81\u001b[0m                 \u001b[0;32mexcept\u001b[0m \u001b[0mLookupError\u001b[0m\u001b[0;34m:\u001b[0m \u001b[0;32mraise\u001b[0m \u001b[0me\u001b[0m\u001b[0;34m\u001b[0m\u001b[0;34m\u001b[0m\u001b[0m\n",
            "\u001b[0;32m/usr/local/lib/python3.7/dist-packages/nltk/data.py\u001b[0m in \u001b[0;36mfind\u001b[0;34m(resource_name, paths)\u001b[0m\n\u001b[1;32m    672\u001b[0m     \u001b[0mresource_not_found\u001b[0m \u001b[0;34m=\u001b[0m \u001b[0;34m'\\n%s\\n%s\\n%s\\n'\u001b[0m \u001b[0;34m%\u001b[0m \u001b[0;34m(\u001b[0m\u001b[0msep\u001b[0m\u001b[0;34m,\u001b[0m \u001b[0mmsg\u001b[0m\u001b[0;34m,\u001b[0m \u001b[0msep\u001b[0m\u001b[0;34m)\u001b[0m\u001b[0;34m\u001b[0m\u001b[0;34m\u001b[0m\u001b[0m\n\u001b[0;32m--> 673\u001b[0;31m     \u001b[0;32mraise\u001b[0m \u001b[0mLookupError\u001b[0m\u001b[0;34m(\u001b[0m\u001b[0mresource_not_found\u001b[0m\u001b[0;34m)\u001b[0m\u001b[0;34m\u001b[0m\u001b[0;34m\u001b[0m\u001b[0m\n\u001b[0m\u001b[1;32m    674\u001b[0m \u001b[0;34m\u001b[0m\u001b[0m\n",
            "\u001b[0;31mLookupError\u001b[0m: \n**********************************************************************\n  Resource \u001b[93mstopwords\u001b[0m not found.\n  Please use the NLTK Downloader to obtain the resource:\n\n  \u001b[31m>>> import nltk\n  >>> nltk.download('stopwords')\n  \u001b[0m\n  Searched in:\n    - '/root/nltk_data'\n    - '/usr/share/nltk_data'\n    - '/usr/local/share/nltk_data'\n    - '/usr/lib/nltk_data'\n    - '/usr/local/lib/nltk_data'\n    - '/usr/nltk_data'\n    - '/usr/lib/nltk_data'\n**********************************************************************\n",
            "\nDuring handling of the above exception, another exception occurred:\n",
            "\u001b[0;31mLookupError\u001b[0m                               Traceback (most recent call last)",
            "\u001b[0;32m<ipython-input-14-1a4458ed70af>\u001b[0m in \u001b[0;36m<module>\u001b[0;34m()\u001b[0m\n\u001b[0;32m----> 1\u001b[0;31m \u001b[0mvoca\u001b[0m\u001b[0;34m,\u001b[0m \u001b[0mword_ids\u001b[0m\u001b[0;34m,\u001b[0m \u001b[0mword_cnt\u001b[0m \u001b[0;34m=\u001b[0m \u001b[0mget_ids_cnt\u001b[0m\u001b[0;34m(\u001b[0m\u001b[0mtraining_data\u001b[0m\u001b[0;34m)\u001b[0m\u001b[0;34m\u001b[0m\u001b[0;34m\u001b[0m\u001b[0m\n\u001b[0m",
            "\u001b[0;32m<ipython-input-12-554a04caad6f>\u001b[0m in \u001b[0;36mget_ids_cnt\u001b[0;34m(corpus, max_voca, remove_top_n)\u001b[0m\n\u001b[1;32m      9\u001b[0m \u001b[0;32mdef\u001b[0m \u001b[0mget_ids_cnt\u001b[0m\u001b[0;34m(\u001b[0m\u001b[0mcorpus\u001b[0m\u001b[0;34m,\u001b[0m \u001b[0mmax_voca\u001b[0m\u001b[0;34m=\u001b[0m\u001b[0;36m9999999\u001b[0m\u001b[0;34m,\u001b[0m \u001b[0mremove_top_n\u001b[0m\u001b[0;34m=\u001b[0m\u001b[0;36m5\u001b[0m\u001b[0;34m)\u001b[0m\u001b[0;34m:\u001b[0m\u001b[0;34m\u001b[0m\u001b[0;34m\u001b[0m\u001b[0m\n\u001b[1;32m     10\u001b[0m     \u001b[0mvoca\u001b[0m \u001b[0;34m=\u001b[0m \u001b[0mset\u001b[0m\u001b[0;34m(\u001b[0m\u001b[0mw\u001b[0m\u001b[0;34m.\u001b[0m\u001b[0mlower\u001b[0m\u001b[0;34m(\u001b[0m\u001b[0;34m)\u001b[0m \u001b[0;32mfor\u001b[0m \u001b[0mw\u001b[0m \u001b[0;32min\u001b[0m \u001b[0mnltk\u001b[0m\u001b[0;34m.\u001b[0m\u001b[0mcorpus\u001b[0m\u001b[0;34m.\u001b[0m\u001b[0mwords\u001b[0m\u001b[0;34m.\u001b[0m\u001b[0mwords\u001b[0m\u001b[0;34m(\u001b[0m\u001b[0;34m)\u001b[0m\u001b[0;34m)\u001b[0m\u001b[0;34m\u001b[0m\u001b[0;34m\u001b[0m\u001b[0m\n\u001b[0;32m---> 11\u001b[0;31m     \u001b[0mstop\u001b[0m \u001b[0;34m=\u001b[0m \u001b[0mstopwords\u001b[0m\u001b[0;34m.\u001b[0m\u001b[0mwords\u001b[0m\u001b[0;34m(\u001b[0m\u001b[0;34m'english'\u001b[0m\u001b[0;34m)\u001b[0m\u001b[0;34m\u001b[0m\u001b[0;34m\u001b[0m\u001b[0m\n\u001b[0m\u001b[1;32m     12\u001b[0m \u001b[0;34m\u001b[0m\u001b[0m\n\u001b[1;32m     13\u001b[0m     \u001b[0mdocs\u001b[0m \u001b[0;34m=\u001b[0m \u001b[0mlist\u001b[0m\u001b[0;34m(\u001b[0m\u001b[0;34m)\u001b[0m\u001b[0;34m\u001b[0m\u001b[0;34m\u001b[0m\u001b[0m\n",
            "\u001b[0;32m/usr/local/lib/python3.7/dist-packages/nltk/corpus/util.py\u001b[0m in \u001b[0;36m__getattr__\u001b[0;34m(self, attr)\u001b[0m\n\u001b[1;32m    114\u001b[0m             \u001b[0;32mraise\u001b[0m \u001b[0mAttributeError\u001b[0m\u001b[0;34m(\u001b[0m\u001b[0;34m\"LazyCorpusLoader object has no attribute '__bases__'\"\u001b[0m\u001b[0;34m)\u001b[0m\u001b[0;34m\u001b[0m\u001b[0;34m\u001b[0m\u001b[0m\n\u001b[1;32m    115\u001b[0m \u001b[0;34m\u001b[0m\u001b[0m\n\u001b[0;32m--> 116\u001b[0;31m         \u001b[0mself\u001b[0m\u001b[0;34m.\u001b[0m\u001b[0m__load\u001b[0m\u001b[0;34m(\u001b[0m\u001b[0;34m)\u001b[0m\u001b[0;34m\u001b[0m\u001b[0;34m\u001b[0m\u001b[0m\n\u001b[0m\u001b[1;32m    117\u001b[0m         \u001b[0;31m# This looks circular, but its not, since __load() changes our\u001b[0m\u001b[0;34m\u001b[0m\u001b[0;34m\u001b[0m\u001b[0;34m\u001b[0m\u001b[0m\n\u001b[1;32m    118\u001b[0m         \u001b[0;31m# __class__ to something new:\u001b[0m\u001b[0;34m\u001b[0m\u001b[0;34m\u001b[0m\u001b[0;34m\u001b[0m\u001b[0m\n",
            "\u001b[0;32m/usr/local/lib/python3.7/dist-packages/nltk/corpus/util.py\u001b[0m in \u001b[0;36m__load\u001b[0;34m(self)\u001b[0m\n\u001b[1;32m     79\u001b[0m             \u001b[0;32mexcept\u001b[0m \u001b[0mLookupError\u001b[0m \u001b[0;32mas\u001b[0m \u001b[0me\u001b[0m\u001b[0;34m:\u001b[0m\u001b[0;34m\u001b[0m\u001b[0;34m\u001b[0m\u001b[0m\n\u001b[1;32m     80\u001b[0m                 \u001b[0;32mtry\u001b[0m\u001b[0;34m:\u001b[0m \u001b[0mroot\u001b[0m \u001b[0;34m=\u001b[0m \u001b[0mnltk\u001b[0m\u001b[0;34m.\u001b[0m\u001b[0mdata\u001b[0m\u001b[0;34m.\u001b[0m\u001b[0mfind\u001b[0m\u001b[0;34m(\u001b[0m\u001b[0;34m'{}/{}'\u001b[0m\u001b[0;34m.\u001b[0m\u001b[0mformat\u001b[0m\u001b[0;34m(\u001b[0m\u001b[0mself\u001b[0m\u001b[0;34m.\u001b[0m\u001b[0msubdir\u001b[0m\u001b[0;34m,\u001b[0m \u001b[0mzip_name\u001b[0m\u001b[0;34m)\u001b[0m\u001b[0;34m)\u001b[0m\u001b[0;34m\u001b[0m\u001b[0;34m\u001b[0m\u001b[0m\n\u001b[0;32m---> 81\u001b[0;31m                 \u001b[0;32mexcept\u001b[0m \u001b[0mLookupError\u001b[0m\u001b[0;34m:\u001b[0m \u001b[0;32mraise\u001b[0m \u001b[0me\u001b[0m\u001b[0;34m\u001b[0m\u001b[0;34m\u001b[0m\u001b[0m\n\u001b[0m\u001b[1;32m     82\u001b[0m \u001b[0;34m\u001b[0m\u001b[0m\n\u001b[1;32m     83\u001b[0m         \u001b[0;31m# Load the corpus.\u001b[0m\u001b[0;34m\u001b[0m\u001b[0;34m\u001b[0m\u001b[0;34m\u001b[0m\u001b[0m\n",
            "\u001b[0;32m/usr/local/lib/python3.7/dist-packages/nltk/corpus/util.py\u001b[0m in \u001b[0;36m__load\u001b[0;34m(self)\u001b[0m\n\u001b[1;32m     76\u001b[0m         \u001b[0;32melse\u001b[0m\u001b[0;34m:\u001b[0m\u001b[0;34m\u001b[0m\u001b[0;34m\u001b[0m\u001b[0m\n\u001b[1;32m     77\u001b[0m             \u001b[0;32mtry\u001b[0m\u001b[0;34m:\u001b[0m\u001b[0;34m\u001b[0m\u001b[0;34m\u001b[0m\u001b[0m\n\u001b[0;32m---> 78\u001b[0;31m                 \u001b[0mroot\u001b[0m \u001b[0;34m=\u001b[0m \u001b[0mnltk\u001b[0m\u001b[0;34m.\u001b[0m\u001b[0mdata\u001b[0m\u001b[0;34m.\u001b[0m\u001b[0mfind\u001b[0m\u001b[0;34m(\u001b[0m\u001b[0;34m'{}/{}'\u001b[0m\u001b[0;34m.\u001b[0m\u001b[0mformat\u001b[0m\u001b[0;34m(\u001b[0m\u001b[0mself\u001b[0m\u001b[0;34m.\u001b[0m\u001b[0msubdir\u001b[0m\u001b[0;34m,\u001b[0m \u001b[0mself\u001b[0m\u001b[0;34m.\u001b[0m\u001b[0m__name\u001b[0m\u001b[0;34m)\u001b[0m\u001b[0;34m)\u001b[0m\u001b[0;34m\u001b[0m\u001b[0;34m\u001b[0m\u001b[0m\n\u001b[0m\u001b[1;32m     79\u001b[0m             \u001b[0;32mexcept\u001b[0m \u001b[0mLookupError\u001b[0m \u001b[0;32mas\u001b[0m \u001b[0me\u001b[0m\u001b[0;34m:\u001b[0m\u001b[0;34m\u001b[0m\u001b[0;34m\u001b[0m\u001b[0m\n\u001b[1;32m     80\u001b[0m                 \u001b[0;32mtry\u001b[0m\u001b[0;34m:\u001b[0m \u001b[0mroot\u001b[0m \u001b[0;34m=\u001b[0m \u001b[0mnltk\u001b[0m\u001b[0;34m.\u001b[0m\u001b[0mdata\u001b[0m\u001b[0;34m.\u001b[0m\u001b[0mfind\u001b[0m\u001b[0;34m(\u001b[0m\u001b[0;34m'{}/{}'\u001b[0m\u001b[0;34m.\u001b[0m\u001b[0mformat\u001b[0m\u001b[0;34m(\u001b[0m\u001b[0mself\u001b[0m\u001b[0;34m.\u001b[0m\u001b[0msubdir\u001b[0m\u001b[0;34m,\u001b[0m \u001b[0mzip_name\u001b[0m\u001b[0;34m)\u001b[0m\u001b[0;34m)\u001b[0m\u001b[0;34m\u001b[0m\u001b[0;34m\u001b[0m\u001b[0m\n",
            "\u001b[0;32m/usr/local/lib/python3.7/dist-packages/nltk/data.py\u001b[0m in \u001b[0;36mfind\u001b[0;34m(resource_name, paths)\u001b[0m\n\u001b[1;32m    671\u001b[0m     \u001b[0msep\u001b[0m \u001b[0;34m=\u001b[0m \u001b[0;34m'*'\u001b[0m \u001b[0;34m*\u001b[0m \u001b[0;36m70\u001b[0m\u001b[0;34m\u001b[0m\u001b[0;34m\u001b[0m\u001b[0m\n\u001b[1;32m    672\u001b[0m     \u001b[0mresource_not_found\u001b[0m \u001b[0;34m=\u001b[0m \u001b[0;34m'\\n%s\\n%s\\n%s\\n'\u001b[0m \u001b[0;34m%\u001b[0m \u001b[0;34m(\u001b[0m\u001b[0msep\u001b[0m\u001b[0;34m,\u001b[0m \u001b[0mmsg\u001b[0m\u001b[0;34m,\u001b[0m \u001b[0msep\u001b[0m\u001b[0;34m)\u001b[0m\u001b[0;34m\u001b[0m\u001b[0;34m\u001b[0m\u001b[0m\n\u001b[0;32m--> 673\u001b[0;31m     \u001b[0;32mraise\u001b[0m \u001b[0mLookupError\u001b[0m\u001b[0;34m(\u001b[0m\u001b[0mresource_not_found\u001b[0m\u001b[0;34m)\u001b[0m\u001b[0;34m\u001b[0m\u001b[0;34m\u001b[0m\u001b[0m\n\u001b[0m\u001b[1;32m    674\u001b[0m \u001b[0;34m\u001b[0m\u001b[0m\n\u001b[1;32m    675\u001b[0m \u001b[0;34m\u001b[0m\u001b[0m\n",
            "\u001b[0;31mLookupError\u001b[0m: \n**********************************************************************\n  Resource \u001b[93mstopwords\u001b[0m not found.\n  Please use the NLTK Downloader to obtain the resource:\n\n  \u001b[31m>>> import nltk\n  >>> nltk.download('stopwords')\n  \u001b[0m\n  Searched in:\n    - '/root/nltk_data'\n    - '/usr/share/nltk_data'\n    - '/usr/local/share/nltk_data'\n    - '/usr/lib/nltk_data'\n    - '/usr/local/lib/nltk_data'\n    - '/usr/nltk_data'\n    - '/usr/lib/nltk_data'\n**********************************************************************\n"
          ]
        }
      ]
    },
    {
      "cell_type": "code",
      "metadata": {
        "id": "Jv5cnVJS4uwP"
      },
      "source": [
        "def convert_cnt_to_list(word_ids, word_cnt):\n",
        "    corpus = list()\n",
        "\n",
        "    for di in xrange(len(word_ids)):\n",
        "        doc = list()\n",
        "        doc_ids = word_ids[di]\n",
        "        doc_cnt = word_cnt[di]\n",
        "        for wi in xrange(len(doc_ids)):\n",
        "            word_id = doc_ids[wi]\n",
        "            for si in xrange(doc_cnt[wi]):\n",
        "                doc.append(word_id)\n",
        "        corpus.append(doc)\n",
        "    return corpus"
      ],
      "execution_count": null,
      "outputs": []
    },
    {
      "cell_type": "code",
      "metadata": {
        "colab": {
          "base_uri": "https://localhost:8080/",
          "height": 163
        },
        "id": "Lkcofo7744vw",
        "outputId": "9c78bc3c-81aa-4f4b-be1e-530fe64b1a35"
      },
      "source": [
        "corpus = convert_cnt_to_list(word_ids, word_cnt)"
      ],
      "execution_count": null,
      "outputs": [
        {
          "output_type": "error",
          "ename": "NameError",
          "evalue": "ignored",
          "traceback": [
            "\u001b[0;31m---------------------------------------------------------------------------\u001b[0m",
            "\u001b[0;31mNameError\u001b[0m                                 Traceback (most recent call last)",
            "\u001b[0;32m<ipython-input-37-3f7346344f56>\u001b[0m in \u001b[0;36m<module>\u001b[0;34m()\u001b[0m\n\u001b[0;32m----> 1\u001b[0;31m \u001b[0mcorpus\u001b[0m \u001b[0;34m=\u001b[0m \u001b[0mconvert_cnt_to_list\u001b[0m\u001b[0;34m(\u001b[0m\u001b[0mword_ids\u001b[0m\u001b[0;34m,\u001b[0m \u001b[0mword_cnt\u001b[0m\u001b[0;34m)\u001b[0m\u001b[0;34m\u001b[0m\u001b[0;34m\u001b[0m\u001b[0m\n\u001b[0m",
            "\u001b[0;31mNameError\u001b[0m: name 'word_ids' is not defined"
          ]
        }
      ]
    },
    {
      "cell_type": "markdown",
      "metadata": {
        "id": "J1eS-ZuKH-zp"
      },
      "source": [
        "Bi-Term "
      ]
    },
    {
      "cell_type": "code",
      "metadata": {
        "id": "qrsrlvZI48FG",
        "colab": {
          "base_uri": "https://localhost:8080/"
        },
        "outputId": "f7c93eb8-71f2-46a3-b832-f0541f317f20"
      },
      "source": [
        "!pip install biterm"
      ],
      "execution_count": null,
      "outputs": [
        {
          "output_type": "stream",
          "text": [
            "Collecting biterm\n",
            "\u001b[?25l  Downloading https://files.pythonhosted.org/packages/36/ca/5a43511e6ea8ca02cc9e8be1b8898ad79b140c055d4400342dc210ba23bb/biterm-0.1.5.tar.gz (79kB)\n",
            "\r\u001b[K     |████▏                           | 10kB 17.0MB/s eta 0:00:01\r\u001b[K     |████████▎                       | 20kB 22.6MB/s eta 0:00:01\r\u001b[K     |████████████▍                   | 30kB 27.9MB/s eta 0:00:01\r\u001b[K     |████████████████▌               | 40kB 31.2MB/s eta 0:00:01\r\u001b[K     |████████████████████▋           | 51kB 34.2MB/s eta 0:00:01\r\u001b[K     |████████████████████████▊       | 61kB 37.3MB/s eta 0:00:01\r\u001b[K     |████████████████████████████▉   | 71kB 27.7MB/s eta 0:00:01\r\u001b[K     |████████████████████████████████| 81kB 6.7MB/s \n",
            "\u001b[?25hRequirement already satisfied: numpy in /usr/local/lib/python3.7/dist-packages (from biterm) (1.19.5)\n",
            "Requirement already satisfied: tqdm in /usr/local/lib/python3.7/dist-packages (from biterm) (4.41.1)\n",
            "Requirement already satisfied: cython in /usr/local/lib/python3.7/dist-packages (from biterm) (0.29.22)\n",
            "Requirement already satisfied: nltk in /usr/local/lib/python3.7/dist-packages (from biterm) (3.2.5)\n",
            "Requirement already satisfied: six in /usr/local/lib/python3.7/dist-packages (from nltk->biterm) (1.15.0)\n",
            "Building wheels for collected packages: biterm\n",
            "  Building wheel for biterm (setup.py) ... \u001b[?25l\u001b[?25hdone\n",
            "  Created wheel for biterm: filename=biterm-0.1.5-cp37-cp37m-linux_x86_64.whl size=195800 sha256=1b3565100a653dd503e15b33b78003d88d76629d7dc50e529c76a01c239b332b\n",
            "  Stored in directory: /root/.cache/pip/wheels/86/04/10/231fb1d39d86ab58c2683fd3d4fe8415a5bc284ba8a20fd638\n",
            "Successfully built biterm\n",
            "Installing collected packages: biterm\n",
            "Successfully installed biterm-0.1.5\n"
          ],
          "name": "stdout"
        }
      ]
    },
    {
      "cell_type": "code",
      "metadata": {
        "id": "IZCDRiGzIEST"
      },
      "source": [
        "from biterm.utility import vec_to_biterms\n",
        "from biterm.cbtm import oBTM\n",
        "import numpy as np\n",
        "def BITERM_MODEL(tf, vectorizer):\n",
        "  vocab = np.array(vectorizer.get_feature_names())\n",
        "  biterms = vec_to_biterms(tf)\n",
        "  btm = oBTM(num_topics=20, V= vocab)\n",
        "  topics = btm.fit_transform(biterms, iterations=1)\n",
        "  return topics\n",
        "  pass"
      ],
      "execution_count": null,
      "outputs": []
    },
    {
      "cell_type": "code",
      "metadata": {
        "id": "FVxO9ZsfIM8N",
        "colab": {
          "base_uri": "https://localhost:8080/"
        },
        "outputId": "691e92ee-b1a7-4edb-aea1-0cf1f22b851c"
      },
      "source": [
        "import time\n",
        "# starting time\n",
        "start = time.time()\n",
        "for i in range(10):\n",
        "    print(i)\n",
        "# sleeping for 1 sec to get 10 sec runtime\n",
        "time.sleep(1)\n",
        "import sys\n",
        "sys.path.insert(1,'/content/')\n",
        "#import AlgorithmBITERM as btm_model\n",
        "topics = BITERM_MODEL(tf,vectorizer)\n",
        "# end time\n",
        "end = time.time()\n",
        "\n",
        "# total time taken\n",
        "print(f\"Runtime of the program is {end - start}\")\n"
      ],
      "execution_count": null,
      "outputs": [
        {
          "output_type": "stream",
          "text": [
            "0\n",
            "1\n",
            "2\n",
            "3\n",
            "4\n",
            "5\n",
            "6\n",
            "7\n",
            "8\n",
            "9\n"
          ],
          "name": "stdout"
        },
        {
          "output_type": "stream",
          "text": [
            "100%|██████████| 1/1 [00:00<00:00, 112.66it/s]"
          ],
          "name": "stderr"
        },
        {
          "output_type": "stream",
          "text": [
            "Runtime of the program is 1.0374302864074707\n"
          ],
          "name": "stdout"
        },
        {
          "output_type": "stream",
          "text": [
            "\n",
            "/usr/local/lib/python3.7/dist-packages/ipykernel_launcher.py:8: RuntimeWarning: invalid value encountered in true_divide\n",
            "  \n"
          ],
          "name": "stderr"
        }
      ]
    },
    {
      "cell_type": "code",
      "metadata": {
        "id": "8FZ5p8EdIQoX",
        "colab": {
          "base_uri": "https://localhost:8080/"
        },
        "outputId": "8cbdc9d7-7220-4c26-c34a-a7c8a598cd13"
      },
      "source": [
        "\n",
        "topics"
      ],
      "execution_count": null,
      "outputs": [
        {
          "output_type": "execute_result",
          "data": {
            "text/plain": [
              "array([[nan, nan, nan, ..., nan, nan, nan],\n",
              "       [nan, nan, nan, ..., nan, nan, nan],\n",
              "       [nan, nan, nan, ..., nan, nan, nan],\n",
              "       ...,\n",
              "       [nan, nan, nan, ..., nan, nan, nan],\n",
              "       [nan, nan, nan, ..., nan, nan, nan],\n",
              "       [nan, nan, nan, ..., nan, nan, nan]])"
            ]
          },
          "metadata": {
            "tags": []
          },
          "execution_count": 17
        }
      ]
    },
    {
      "cell_type": "code",
      "metadata": {
        "id": "zkSNpADIIT74",
        "colab": {
          "base_uri": "https://localhost:8080/"
        },
        "outputId": "b2550e0a-453e-4995-b3e4-5a80ad9637cc"
      },
      "source": [
        "texts= input_df['Lemmatization'].values\n",
        "for i in range(len(texts)):\n",
        "        print(\"{} (topic: {})\".format(texts[i], topics[i].argmax()))"
      ],
      "execution_count": null,
      "outputs": [
        {
          "output_type": "stream",
          "text": [
            "love album good hip hop side current pop sound hype listen everyday gym give 5star rate way metaphor crazi (topic: 0)\n",
            "good flavor review collect part promot (topic: 0)\n",
            "good flavor (topic: 0)\n",
            "read review look buy one coupl lubric ultim disappoint didnt even live review read starter neither boyfriend could notic sort enhanc captiv sensat notic howev messi consist reminisc liquidi vaselin difficult clean pleasant especi sinc lack captiv sensat expect im disappoint paid much lube wont use could use normal person lubric 1 le money 2 le mess (topic: 0)\n",
            "husband bought gel u gel caus irrit felt like burn skin wouldnt recommend gel (topic: 0)\n",
            "boyfriend bought spice thing bedroom highli disappoint product bought one absolut love ky mine thought would similar affect absolut noth buy (topic: 0)\n",
            "bought earlier today excit check base product descript expect someth like regular ky fan expect left littl disappoint (topic: 0)\n",
            "bought product husband tri impress tingl warm left u sticki use ky product past love ky one disappoint (topic: 0)\n",
            "husband bought extra fun werevboth extrem disappoint especi price wast money product felt noth sticki mess (topic: 0)\n",
            "got surpris husband noth special lube save money get plain ky need lube wish could return refund (topic: 0)\n",
            "tri husband felt differ effect chang first te use ky gel sure want tri other (topic: 0)\n",
            "purchas think would sort warm effect origin dont wast money (topic: 0)\n",
            "bought enhanc time bit abslut noth disappoint especi almost 20 (topic: 0)\n",
            "bought realli like n varieti noth like disappoint product (topic: 0)\n",
            "first time purchas type product mayb expect much think warm feel left u sticki even tri (topic: 0)\n",
            "bought tri wife enjoy feel anyth enhanc product hisher product (topic: 0)\n",
            "bought product spice thing fianc didnt anyth passion buy (topic: 0)\n",
            "bought tri spice thing felt noth disappoint honest (topic: 0)\n",
            "bought better review jelli feel like didnt work well u kind warmfeel that guess dont know what suppos happen lol (topic: 0)\n",
            "first time use ky didnt anyth opinion felt like everi time anyth first time probabl somth wrong (topic: 0)\n",
            "notic product clearanc store shop frequent decid give tri husband love went back bought everi box left like other mention sure suppos lubric purpos like much better regular ky jelli tend dri disappear u product stay awhil make pleasur experi drawback find bit sticki appli hand your left sticki hand agre littl goe long way person care product due skin irrit surprisingli actual seem help receiv sampl never (topic: 0)\n",
            "use product coupl time sinc reciv free tri good experi feel warm pretti good sensat recomend (topic: 7)\n",
            "use time stay bit sticki bad better product (topic: 7)\n",
            "love review collect part promot (topic: 0)\n",
            "good product give great feel (topic: 0)\n",
            "realli enjoy use product husband 20 year marriag thing tend get littl tire bore thing need shake thing bit packag pump dispens awesom product disappoint littl goe long way provid slight warm sensat use becom sticki tacki anyway excel choic intim lubric receiv free product purpos review opinion 100 (topic: 7)\n",
            "awesom product coupl warm feel lubric sticki like lot lubricantsit easi clean usei absolut purchas futur receiv product free purpos give reviewopinion 100 (topic: 0)\n",
            "except product smooth slimi warm sensat experi partner share least lifetim great way shake thing (topic: 0)\n",
            "use first time boyfriend love much didnt get sticki felt great entir time (topic: 0)\n",
            "great product exactli say work well (topic: 0)\n",
            "ye scent best like lemon frost wont abl get enough lotion also almost 100 natur none yucki ingredi like major brand lotion miner oil petroleum etc also complet work know sometim opt organ choic good good popular nastier brand jr watkin deliv lotion soften hand bodi leav ungreasi smell perfect even fianc like use he pretti much antilot regard price absolut right tooget (topic: 0)\n",
            "handcreamlemoncream refresh fragranc wish would last day sooth hand get compliment use especi daughter granddaught want get one favorit hand cream wish watkin still vanilla bodi cream favorit (topic: 0)\n",
            "smell like lemon cooki absolut love kid love (topic: 0)\n",
            "love lotion smile everi time put (topic: 0)\n",
            "hand cream nice desk work someon stole two day broke heart littl (topic: 0)\n",
            "love lotion nice thick great fragranc use hand foot (topic: 0)\n",
            "sure work clear complexion use 2 week keep skin smooth clean (topic: 16)\n",
            "make skin feel clean super dri ashi dont follow moisturis soon im done skin doesnt feel oili tacki make skin radiant use foundat conceal need make skin look even hydrat (topic: 16)\n",
            "make face feel nice fresh 3 day get slight acn clear right back deff use everi day (topic: 0)\n",
            "use soap year consid walmart best kept secret disappoint stop carri store locat delight see could get onlin end bless dont go walmart often im save money sorri walmart deliveri prompt stockpil never left hous (topic: 0)\n",
            "wont recommend product anyon (topic: 0)\n",
            "8 month old babi got extrem irrit product use le week would like get money back (topic: 7)\n",
            "receiv 1 bottl order said pack 6 disappoint review collect part promot (topic: 0)\n",
            "would think conveni bubbl bath wash contain mean buy twice amount son love bubbl though complaint (topic: 0)\n",
            "well johnson need say know right ok use johnson sinc babi ye long time let get chase 2 1 come doesnt like 2 1 hard enough get littl love clean help alway bless johnson bubbl bath wash must hous (topic: 0)\n",
            "well johnson need say know right ok use johnson sinc babi ye long time let get chase 2 1 come doesnt like 2 1 hard enough get littl love clean help alway bless johnson bubbl bath wash must hous (topic: 0)\n",
            "bubbl arent top fabul smell good make kid happi (topic: 0)\n",
            "use babi one month old dont like much fragnanac henc love dont feel like use anoth one (topic: 0)\n",
            "lot fun bath use lot make bubbl nice addit kid dont want take bath (topic: 0)\n",
            "amaz product 3 year old love bubbl bath (topic: 0)\n",
            "absolut love bubblebath smell good bodi wash littl one sensit skin great option still enjoy bubbl break (topic: 0)\n",
            "bought small sampl size coupl month back love smell wonder recent bought new bottl think may keep shower buy kid anoth one (topic: 0)\n",
            "pleasant smell need littl whole lot bubbl (topic: 0)\n",
            "babi love bubbl mom love tear free fragranc (topic: 0)\n",
            "son love product make bath time fun look forward bubbl also bodi wash 2 in1 make conveni (topic: 0)\n",
            "realli like fresh smell (topic: 0)\n",
            "cream much face throat area gone back gener brand work better expens review collect part promot (topic: 0)\n",
            "use love product sever year chang use moistur skin left feel soft sit top skin never absorb leav slimi film skin longer purchas product (topic: 0)\n",
            "use oil olay 20 year product work well new formula horribl cannot find anyth work skin like smell floweri thick old formula light (topic: 0)\n",
            "disappoint use product year soft smell great result new formula feel greasi smell aw dont feel like skin look tone wrinkl free anymor five star product mani yearswhi chang plea bring back old formula (topic: 0)\n",
            "ive use product year terrif improv formula terribl doesnt hydrat power much thinner stickier heaven help get lip tast terribl plea dump improv formula im shop new moistur ala (topic: 7)\n",
            "took long find moistur work well love product howev new formula smell strong feel greasi appli unfortun longer purchas product search anoth moistur plea olay bring back old formula much better (topic: 0)\n",
            "use swear product daili moistur love felt thick creami great job without greasi feel heavi howev bought first contain new formula terribl leav greasi feel go away make imposs appli makeup even 10 minut skin feel slimi touch slipperi scent way stronger plea olay give u old formula back ill purchas someth el (topic: 0)\n",
            "olay dont work overli dri skin havent found anyth work skin im hope abl find someth work im affrid wont abl find anyth help skin dri get bad dig leg time (topic: 0)\n",
            "use sever day row felt like wear mask skin felt unnatur dri skin felt coat instead hydrat purchas product (topic: 0)\n",
            "buy olay regenerist time cv rite aid time around purchas wal mart onlin store receiv formula slightli differ lotion smell like cheaper product olay make disappoint order walmart onlin (topic: 0)\n",
            "mother vow product year year first start pay attent skincar gave bottl olay regenerist ive ever need thing work spent much money explor highend brand understand im upset formula tamper new improv cream smell aw scent way strong appear theyv water mushi face touch face point day start peel greasi work well makeup mom forc look whole new line product weve stay olay whole live sad sad sad bring back old formula (topic: 0)\n",
            "product probabl leav face feel nourish would recommend use daili moistur makeup left face full crumbl soon brush makeup would probabl better night cream (topic: 7)\n",
            "didnt moistur use thought would tri go back nutragena (topic: 0)\n",
            "greatgreatmefeel great smell great succul took away dri skin silki smooth enrich (topic: 0)\n",
            "today first time use product felt great go immedi felt moistur without greasi although smell great would love formula fragrancefre option skin tend littl sensit fragranc give final review coupl week (topic: 0)\n",
            "love feel result day recommend friend review collect part promot (topic: 0)\n",
            "use night wrinkl face good job reduc wrinkl take coupl year face review collect part promot (topic: 0)\n",
            "although product work amazingli well fragranc gave headach made eye water dailyolay plea make fragrancefre product (topic: 0)\n",
            "love product use least 10 year prefer old formul better feel new one doesnt hydrat well leav thin film skin review collect part promot (topic: 0)\n",
            "want tri answer question sound like product would help skin face dont want face start sag alway like olay product review collect part promot (topic: 0)\n",
            "product realli help keep skin moistur winter month use morn night good result littl heavi warmer weather though skin type anyway review collect part promot (topic: 0)\n",
            "product smell amaz need use often skin (topic: 0)\n",
            "love cleanser cream littl thick mei troubl go bed ona bit greasi lot fragranc purchas micro sculp cream cant wait tri tonight one point though cream last long time though dont use everi night becuas favorit (topic: 0)\n",
            "like product dislik dispens hole top strang dispens leav mess top contain review collect part promot (topic: 0)\n",
            "wake feel moistur face honestli cannot tell done anyth el review collect part promot (topic: 0)\n",
            "im avid olay girlthi one favorit ib would buy (topic: 0)\n",
            "today first time use product felt great go immedi felt moistur without greasi although smell great would love formula fragrancefre option skin tend littl sensit fragranc give final review coupl week (topic: 0)\n",
            "love smell suppl skin feelsi actual wakeup le sleep wrinkl face use thee night time moistur cream would use everyth okay make could afford buy (topic: 0)\n",
            "good caus work that matter (topic: 0)\n",
            "product seem work well havent notic major antiag qualiti seem help acn (topic: 0)\n",
            "would recommend product dont money spend expens lotion daili facial product know older get start show sign real age olay product everi day concern care ive use olay product year (topic: 7)\n",
            "smell good good smell put store peopl buy (topic: 0)\n",
            "product work amaz make skin smell great also keep skin smooth n healti (topic: 0)\n",
            "would def recommend product smell good leav susi skin soft (topic: 0)\n",
            "great smell feel would like tri futur thank (topic: 0)\n",
            "rate olay microsculpt fragranc free one absorb made foundat glob peel rub formula much better day use absorb quickli greasi hydrat well havent seen wrinkl dissappear yet (topic: 0)\n",
            "like way felt skin felt like sort skin mask may ok peopl moistur creami textur (topic: 0)\n",
            "today first time use product felt great go immedi felt moistur without greasi although smell great would love formula fragrancefre option skin tend littl sensit fragranc give final review coupl week (topic: 0)\n",
            "keep face feel moistur soft feel light weight skin review collect part promot (topic: 0)\n",
            "hydrat skin thick heavi put review collect part promot (topic: 0)\n",
            "product goe smooth make skin feel great instantli review collect part promot (topic: 0)\n",
            "tri product regenerist seem best review collect part promot (topic: 0)\n",
            "realli like feel product smooth well review collect part promot (topic: 0)\n",
            "week see differ skin face review collect part promot (topic: 0)\n"
          ],
          "name": "stdout"
        }
      ]
    },
    {
      "cell_type": "code",
      "metadata": {
        "id": "Bd4y6XpHIbhi"
      },
      "source": [
        ""
      ],
      "execution_count": null,
      "outputs": []
    }
  ]
}