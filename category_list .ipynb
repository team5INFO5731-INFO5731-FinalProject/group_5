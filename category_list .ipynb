{
  "nbformat": 4,
  "nbformat_minor": 0,
  "metadata": {
    "colab": {
      "name": "category_list.ipynb",
      "provenance": [],
      "collapsed_sections": []
    },
    "kernelspec": {
      "name": "python3",
      "display_name": "Python 3"
    },
    "language_info": {
      "name": "python"
    }
  },
  "cells": [
    {
      "cell_type": "code",
      "metadata": {
        "colab": {
          "base_uri": "https://localhost:8080/",
          "height": 1000
        },
        "id": "U30E4KfNhBlC",
        "outputId": "979a67b2-29db-4023-a29b-e306c359e9f2"
      },
      "source": [
        "import pandas as pd\n",
        "df=pd.read_csv('category.csv')\n",
        "input_df= df.head(5000)\n",
        "print(input_df.head())\n",
        "df"
      ],
      "execution_count": 1,
      "outputs": [
        {
          "output_type": "stream",
          "text": [
            "  Category (incl. context and answer)                                        Description\n",
            "0                       Document Name                           The name of the contract\n",
            "1                             Parties    The two or more parties who signed the contract\n",
            "2                      Agreement Date                           The date of the contract\n",
            "3                      Effective Date            The date when the contract is effective\n",
            "4                     Expiration Date  On what date will the contract's initial term ...\n"
          ],
          "name": "stdout"
        },
        {
          "output_type": "execute_result",
          "data": {
            "text/html": [
              "<div>\n",
              "<style scoped>\n",
              "    .dataframe tbody tr th:only-of-type {\n",
              "        vertical-align: middle;\n",
              "    }\n",
              "\n",
              "    .dataframe tbody tr th {\n",
              "        vertical-align: top;\n",
              "    }\n",
              "\n",
              "    .dataframe thead th {\n",
              "        text-align: right;\n",
              "    }\n",
              "</style>\n",
              "<table border=\"1\" class=\"dataframe\">\n",
              "  <thead>\n",
              "    <tr style=\"text-align: right;\">\n",
              "      <th></th>\n",
              "      <th>Category (incl. context and answer)</th>\n",
              "      <th>Description</th>\n",
              "    </tr>\n",
              "  </thead>\n",
              "  <tbody>\n",
              "    <tr>\n",
              "      <th>0</th>\n",
              "      <td>Document Name</td>\n",
              "      <td>The name of the contract</td>\n",
              "    </tr>\n",
              "    <tr>\n",
              "      <th>1</th>\n",
              "      <td>Parties</td>\n",
              "      <td>The two or more parties who signed the contract</td>\n",
              "    </tr>\n",
              "    <tr>\n",
              "      <th>2</th>\n",
              "      <td>Agreement Date</td>\n",
              "      <td>The date of the contract</td>\n",
              "    </tr>\n",
              "    <tr>\n",
              "      <th>3</th>\n",
              "      <td>Effective Date</td>\n",
              "      <td>The date when the contract is effective</td>\n",
              "    </tr>\n",
              "    <tr>\n",
              "      <th>4</th>\n",
              "      <td>Expiration Date</td>\n",
              "      <td>On what date will the contract's initial term ...</td>\n",
              "    </tr>\n",
              "    <tr>\n",
              "      <th>5</th>\n",
              "      <td>Renewal Term</td>\n",
              "      <td>What is the renewal term after the initial ter...</td>\n",
              "    </tr>\n",
              "    <tr>\n",
              "      <th>6</th>\n",
              "      <td>Notice to Terminate Renewal</td>\n",
              "      <td>What is the notice period required to terminat...</td>\n",
              "    </tr>\n",
              "    <tr>\n",
              "      <th>7</th>\n",
              "      <td>Governing Law</td>\n",
              "      <td>Which state/country's law governs the interpre...</td>\n",
              "    </tr>\n",
              "    <tr>\n",
              "      <th>8</th>\n",
              "      <td>Most Favored Nation</td>\n",
              "      <td>Is there a clause that if a third party gets b...</td>\n",
              "    </tr>\n",
              "    <tr>\n",
              "      <th>9</th>\n",
              "      <td>Non-Compete</td>\n",
              "      <td>Is there a restriction on the ability of a par...</td>\n",
              "    </tr>\n",
              "    <tr>\n",
              "      <th>10</th>\n",
              "      <td>Exclusivity</td>\n",
              "      <td>Is there an exclusive dealing  commitment with...</td>\n",
              "    </tr>\n",
              "    <tr>\n",
              "      <th>11</th>\n",
              "      <td>No-Solicit of Customers</td>\n",
              "      <td>Is a party restricted from contracting or soli...</td>\n",
              "    </tr>\n",
              "    <tr>\n",
              "      <th>12</th>\n",
              "      <td>Competitive Restriction Exception</td>\n",
              "      <td>This category includes the exceptions or carve...</td>\n",
              "    </tr>\n",
              "    <tr>\n",
              "      <th>13</th>\n",
              "      <td>No-Solicit of Employees</td>\n",
              "      <td>Is there a restriction on a party’s soliciting...</td>\n",
              "    </tr>\n",
              "    <tr>\n",
              "      <th>14</th>\n",
              "      <td>Non-Disparagement</td>\n",
              "      <td>Is there a requirement on a party not to dispa...</td>\n",
              "    </tr>\n",
              "    <tr>\n",
              "      <th>15</th>\n",
              "      <td>Termination for Convenience</td>\n",
              "      <td>Can a party terminate this  contract without c...</td>\n",
              "    </tr>\n",
              "    <tr>\n",
              "      <th>16</th>\n",
              "      <td>Right of First Refusal, Offer or Negotiation (...</td>\n",
              "      <td>Is there a clause granting one party a right o...</td>\n",
              "    </tr>\n",
              "    <tr>\n",
              "      <th>17</th>\n",
              "      <td>Change of Control</td>\n",
              "      <td>Does one party have the right to terminate or ...</td>\n",
              "    </tr>\n",
              "    <tr>\n",
              "      <th>18</th>\n",
              "      <td>Anti-Assignment</td>\n",
              "      <td>Is consent or notice required of a party if th...</td>\n",
              "    </tr>\n",
              "    <tr>\n",
              "      <th>19</th>\n",
              "      <td>Revenue/Profit Sharing</td>\n",
              "      <td>Is one party required to share revenue or prof...</td>\n",
              "    </tr>\n",
              "    <tr>\n",
              "      <th>20</th>\n",
              "      <td>Price Restriction</td>\n",
              "      <td>Is there a restriction on the  ability of a pa...</td>\n",
              "    </tr>\n",
              "    <tr>\n",
              "      <th>21</th>\n",
              "      <td>Volume Restriction</td>\n",
              "      <td>Is there a fee increase or consent requirement...</td>\n",
              "    </tr>\n",
              "    <tr>\n",
              "      <th>22</th>\n",
              "      <td>IP Ownership Assignment</td>\n",
              "      <td>Does intellectual property created  by one par...</td>\n",
              "    </tr>\n",
              "    <tr>\n",
              "      <th>23</th>\n",
              "      <td>Joint IP Ownership</td>\n",
              "      <td>Is there any clause providing for joint or sha...</td>\n",
              "    </tr>\n",
              "    <tr>\n",
              "      <th>24</th>\n",
              "      <td>License Grant</td>\n",
              "      <td>Does the contract contain a license granted by...</td>\n",
              "    </tr>\n",
              "    <tr>\n",
              "      <th>25</th>\n",
              "      <td>Non-Transferable License</td>\n",
              "      <td>Does the contract limit the ability of a party...</td>\n",
              "    </tr>\n",
              "    <tr>\n",
              "      <th>26</th>\n",
              "      <td>Affiliate IP License-Licensor</td>\n",
              "      <td>Does the contract contain a license grant by a...</td>\n",
              "    </tr>\n",
              "    <tr>\n",
              "      <th>27</th>\n",
              "      <td>Affiliate IP License-Licensee</td>\n",
              "      <td>Does the contract contain a license grant to a...</td>\n",
              "    </tr>\n",
              "    <tr>\n",
              "      <th>28</th>\n",
              "      <td>Unlimited/All-You-Can-Eat License</td>\n",
              "      <td>Is there a clause granting one party an “enter...</td>\n",
              "    </tr>\n",
              "    <tr>\n",
              "      <th>29</th>\n",
              "      <td>Irrevocable or Perpetual License</td>\n",
              "      <td>Does the contract contain a  license grant tha...</td>\n",
              "    </tr>\n",
              "    <tr>\n",
              "      <th>30</th>\n",
              "      <td>Source Code Escrow</td>\n",
              "      <td>Is one party required to deposit its source co...</td>\n",
              "    </tr>\n",
              "    <tr>\n",
              "      <th>31</th>\n",
              "      <td>Post-Termination Services</td>\n",
              "      <td>Is a party subject to obligations after the te...</td>\n",
              "    </tr>\n",
              "    <tr>\n",
              "      <th>32</th>\n",
              "      <td>Audit Rights</td>\n",
              "      <td>Does a party have the right to  audit the book...</td>\n",
              "    </tr>\n",
              "    <tr>\n",
              "      <th>33</th>\n",
              "      <td>Uncapped Liability</td>\n",
              "      <td>Is a party’s liability uncapped upon the breac...</td>\n",
              "    </tr>\n",
              "    <tr>\n",
              "      <th>34</th>\n",
              "      <td>Cap on Liability</td>\n",
              "      <td>Does the contract include a cap on liability u...</td>\n",
              "    </tr>\n",
              "    <tr>\n",
              "      <th>35</th>\n",
              "      <td>Liquidated Damages</td>\n",
              "      <td>Does the contract contain a clause that would ...</td>\n",
              "    </tr>\n",
              "    <tr>\n",
              "      <th>36</th>\n",
              "      <td>Warranty Duration</td>\n",
              "      <td>What is the duration of any  warranty against ...</td>\n",
              "    </tr>\n",
              "    <tr>\n",
              "      <th>37</th>\n",
              "      <td>Insurance</td>\n",
              "      <td>Is there a requirement for insurance that must...</td>\n",
              "    </tr>\n",
              "    <tr>\n",
              "      <th>38</th>\n",
              "      <td>Covenant Not to Sue</td>\n",
              "      <td>Is a party restricted from contesting the vali...</td>\n",
              "    </tr>\n",
              "    <tr>\n",
              "      <th>39</th>\n",
              "      <td>Third Party Beneficiary</td>\n",
              "      <td>Is there a non-contracting party who is a bene...</td>\n",
              "    </tr>\n",
              "  </tbody>\n",
              "</table>\n",
              "</div>"
            ],
            "text/plain": [
              "                  Category (incl. context and answer)                                        Description\n",
              "0                                       Document Name                           The name of the contract\n",
              "1                                             Parties    The two or more parties who signed the contract\n",
              "2                                      Agreement Date                           The date of the contract\n",
              "3                                      Effective Date            The date when the contract is effective\n",
              "4                                     Expiration Date  On what date will the contract's initial term ...\n",
              "5                                        Renewal Term  What is the renewal term after the initial ter...\n",
              "6                         Notice to Terminate Renewal  What is the notice period required to terminat...\n",
              "7                                       Governing Law  Which state/country's law governs the interpre...\n",
              "8                                 Most Favored Nation  Is there a clause that if a third party gets b...\n",
              "9                                         Non-Compete  Is there a restriction on the ability of a par...\n",
              "10                                        Exclusivity  Is there an exclusive dealing  commitment with...\n",
              "11                            No-Solicit of Customers  Is a party restricted from contracting or soli...\n",
              "12                  Competitive Restriction Exception  This category includes the exceptions or carve...\n",
              "13                            No-Solicit of Employees  Is there a restriction on a party’s soliciting...\n",
              "14                                  Non-Disparagement  Is there a requirement on a party not to dispa...\n",
              "15                        Termination for Convenience  Can a party terminate this  contract without c...\n",
              "16  Right of First Refusal, Offer or Negotiation (...  Is there a clause granting one party a right o...\n",
              "17                                  Change of Control  Does one party have the right to terminate or ...\n",
              "18                                    Anti-Assignment  Is consent or notice required of a party if th...\n",
              "19                             Revenue/Profit Sharing  Is one party required to share revenue or prof...\n",
              "20                                  Price Restriction  Is there a restriction on the  ability of a pa...\n",
              "21                                 Volume Restriction  Is there a fee increase or consent requirement...\n",
              "22                            IP Ownership Assignment  Does intellectual property created  by one par...\n",
              "23                                 Joint IP Ownership  Is there any clause providing for joint or sha...\n",
              "24                                      License Grant  Does the contract contain a license granted by...\n",
              "25                           Non-Transferable License  Does the contract limit the ability of a party...\n",
              "26                      Affiliate IP License-Licensor  Does the contract contain a license grant by a...\n",
              "27                      Affiliate IP License-Licensee  Does the contract contain a license grant to a...\n",
              "28                  Unlimited/All-You-Can-Eat License  Is there a clause granting one party an “enter...\n",
              "29                   Irrevocable or Perpetual License  Does the contract contain a  license grant tha...\n",
              "30                                 Source Code Escrow  Is one party required to deposit its source co...\n",
              "31                          Post-Termination Services  Is a party subject to obligations after the te...\n",
              "32                                       Audit Rights  Does a party have the right to  audit the book...\n",
              "33                                 Uncapped Liability  Is a party’s liability uncapped upon the breac...\n",
              "34                                   Cap on Liability  Does the contract include a cap on liability u...\n",
              "35                                 Liquidated Damages  Does the contract contain a clause that would ...\n",
              "36                                  Warranty Duration  What is the duration of any  warranty against ...\n",
              "37                                          Insurance  Is there a requirement for insurance that must...\n",
              "38                                Covenant Not to Sue  Is a party restricted from contesting the vali...\n",
              "39                            Third Party Beneficiary  Is there a non-contracting party who is a bene..."
            ]
          },
          "metadata": {
            "tags": []
          },
          "execution_count": 1
        }
      ]
    },
    {
      "cell_type": "code",
      "metadata": {
        "colab": {
          "base_uri": "https://localhost:8080/"
        },
        "id": "7CpY8oI3hXHQ",
        "outputId": "d3d480bb-7764-4b31-df07-0b35f1f53d80"
      },
      "source": [
        "\n",
        "# Find the shape of the dataset\n",
        "input_df.shape"
      ],
      "execution_count": 2,
      "outputs": [
        {
          "output_type": "execute_result",
          "data": {
            "text/plain": [
              "(40, 2)"
            ]
          },
          "metadata": {
            "tags": []
          },
          "execution_count": 2
        }
      ]
    },
    {
      "cell_type": "code",
      "metadata": {
        "colab": {
          "base_uri": "https://localhost:8080/"
        },
        "id": "71twChe7heMN",
        "outputId": "51e6e71f-dc05-4cce-e218-6489a1ae6953"
      },
      "source": [
        "# Find the basic info of the dataset, to check if there are any null values\n",
        "input_df.info()"
      ],
      "execution_count": 3,
      "outputs": [
        {
          "output_type": "stream",
          "text": [
            "<class 'pandas.core.frame.DataFrame'>\n",
            "RangeIndex: 40 entries, 0 to 39\n",
            "Data columns (total 2 columns):\n",
            " #   Column                               Non-Null Count  Dtype \n",
            "---  ------                               --------------  ----- \n",
            " 0   Category (incl. context and answer)  40 non-null     object\n",
            " 1   Description                          40 non-null     object\n",
            "dtypes: object(2)\n",
            "memory usage: 768.0+ bytes\n"
          ],
          "name": "stdout"
        }
      ]
    },
    {
      "cell_type": "code",
      "metadata": {
        "colab": {
          "base_uri": "https://localhost:8080/"
        },
        "id": "UKPoh1cjhiH_",
        "outputId": "cb8f3ce7-87df-40ba-dea4-30b2e740166a"
      },
      "source": [
        "#null values are present in the dataset as the shape and nonnull values from the info() dot match\n",
        "print(input_df.isnull().sum())\n",
        "# Dropping the null values\n",
        "input_df=input_df.dropna()"
      ],
      "execution_count": 4,
      "outputs": [
        {
          "output_type": "stream",
          "text": [
            "Category (incl. context and answer)    0\n",
            "Description                            0\n",
            "dtype: int64\n"
          ],
          "name": "stdout"
        }
      ]
    },
    {
      "cell_type": "code",
      "metadata": {
        "colab": {
          "base_uri": "https://localhost:8080/",
          "height": 1000
        },
        "id": "f2tiCYFthl6K",
        "outputId": "dedcc9fd-c118-4f2b-e4dd-e8405a4301e8"
      },
      "source": [
        "#steps involving all the basic steps of preprocessing\n",
        "from nltk.corpus import stopwords\n",
        "from nltk.tokenize import word_tokenize  \n",
        "import re\n",
        "import nltk\n",
        "nltk.download('stopwords')\n",
        "nltk.download('punkt')\n",
        "nltk.download('wordnet')\n",
        "stop_words=stopwords.words(\"english\")\n",
        "# cleaning the text data\n",
        "input_df['cleaned_data'] = input_df['Description'].str.replace(r\"\\W\", \" \").str.strip()# 1.To remove special characters and punctuations\n",
        "input_df['cleaned_data'] = input_df['cleaned_data'].str.replace(r'\\d+',\"\") #2.To remove Numbers\n",
        "input_df['cleaned_data'] = input_df['cleaned_data'].apply(lambda x: \" \".join(x.lower() for x in x.split())) #convert the whole text into lower case\n",
        "input_df['cleaned_data'] = input_df['cleaned_data'].apply(lambda x: \" \".join(x for x in x.split() if x not in stop_words)) #remove all stop words\n",
        "#input_df['cleaned text review'] # dataframe column that would be used for further process\n",
        "input_df\n",
        "\n",
        "#data cleaning for Labels\n",
        "input_df['labels'] = input_df['Category (incl. context and answer)'].str.replace(r\"\\W\", \" \").str.strip()# 1.To remove special characters and punctuations\n",
        "input_df['labels'] = input_df['labels'].apply(lambda x: \" \".join(x.lower() for x in x.split())) #convert the whole text into lower case\n",
        "input_df"
      ],
      "execution_count": 5,
      "outputs": [
        {
          "output_type": "stream",
          "text": [
            "[nltk_data] Downloading package stopwords to /root/nltk_data...\n",
            "[nltk_data]   Unzipping corpora/stopwords.zip.\n",
            "[nltk_data] Downloading package punkt to /root/nltk_data...\n",
            "[nltk_data]   Unzipping tokenizers/punkt.zip.\n",
            "[nltk_data] Downloading package wordnet to /root/nltk_data...\n",
            "[nltk_data]   Unzipping corpora/wordnet.zip.\n"
          ],
          "name": "stdout"
        },
        {
          "output_type": "execute_result",
          "data": {
            "text/html": [
              "<div>\n",
              "<style scoped>\n",
              "    .dataframe tbody tr th:only-of-type {\n",
              "        vertical-align: middle;\n",
              "    }\n",
              "\n",
              "    .dataframe tbody tr th {\n",
              "        vertical-align: top;\n",
              "    }\n",
              "\n",
              "    .dataframe thead th {\n",
              "        text-align: right;\n",
              "    }\n",
              "</style>\n",
              "<table border=\"1\" class=\"dataframe\">\n",
              "  <thead>\n",
              "    <tr style=\"text-align: right;\">\n",
              "      <th></th>\n",
              "      <th>Category (incl. context and answer)</th>\n",
              "      <th>Description</th>\n",
              "      <th>cleaned_data</th>\n",
              "      <th>labels</th>\n",
              "    </tr>\n",
              "  </thead>\n",
              "  <tbody>\n",
              "    <tr>\n",
              "      <th>0</th>\n",
              "      <td>Document Name</td>\n",
              "      <td>The name of the contract</td>\n",
              "      <td>name contract</td>\n",
              "      <td>document name</td>\n",
              "    </tr>\n",
              "    <tr>\n",
              "      <th>1</th>\n",
              "      <td>Parties</td>\n",
              "      <td>The two or more parties who signed the contract</td>\n",
              "      <td>two parties signed contract</td>\n",
              "      <td>parties</td>\n",
              "    </tr>\n",
              "    <tr>\n",
              "      <th>2</th>\n",
              "      <td>Agreement Date</td>\n",
              "      <td>The date of the contract</td>\n",
              "      <td>date contract</td>\n",
              "      <td>agreement date</td>\n",
              "    </tr>\n",
              "    <tr>\n",
              "      <th>3</th>\n",
              "      <td>Effective Date</td>\n",
              "      <td>The date when the contract is effective</td>\n",
              "      <td>date contract effective</td>\n",
              "      <td>effective date</td>\n",
              "    </tr>\n",
              "    <tr>\n",
              "      <th>4</th>\n",
              "      <td>Expiration Date</td>\n",
              "      <td>On what date will the contract's initial term ...</td>\n",
              "      <td>date contract initial term expire</td>\n",
              "      <td>expiration date</td>\n",
              "    </tr>\n",
              "    <tr>\n",
              "      <th>5</th>\n",
              "      <td>Renewal Term</td>\n",
              "      <td>What is the renewal term after the initial ter...</td>\n",
              "      <td>renewal term initial term expires includes aut...</td>\n",
              "      <td>renewal term</td>\n",
              "    </tr>\n",
              "    <tr>\n",
              "      <th>6</th>\n",
              "      <td>Notice to Terminate Renewal</td>\n",
              "      <td>What is the notice period required to terminat...</td>\n",
              "      <td>notice period required terminate renewal</td>\n",
              "      <td>notice to terminate renewal</td>\n",
              "    </tr>\n",
              "    <tr>\n",
              "      <th>7</th>\n",
              "      <td>Governing Law</td>\n",
              "      <td>Which state/country's law governs the interpre...</td>\n",
              "      <td>state country law governs interpretation contract</td>\n",
              "      <td>governing law</td>\n",
              "    </tr>\n",
              "    <tr>\n",
              "      <th>8</th>\n",
              "      <td>Most Favored Nation</td>\n",
              "      <td>Is there a clause that if a third party gets b...</td>\n",
              "      <td>clause third party gets better terms licensing...</td>\n",
              "      <td>most favored nation</td>\n",
              "    </tr>\n",
              "    <tr>\n",
              "      <th>9</th>\n",
              "      <td>Non-Compete</td>\n",
              "      <td>Is there a restriction on the ability of a par...</td>\n",
              "      <td>restriction ability party compete counterparty...</td>\n",
              "      <td>non compete</td>\n",
              "    </tr>\n",
              "    <tr>\n",
              "      <th>10</th>\n",
              "      <td>Exclusivity</td>\n",
              "      <td>Is there an exclusive dealing  commitment with...</td>\n",
              "      <td>exclusive dealing commitment counterparty incl...</td>\n",
              "      <td>exclusivity</td>\n",
              "    </tr>\n",
              "    <tr>\n",
              "      <th>11</th>\n",
              "      <td>No-Solicit of Customers</td>\n",
              "      <td>Is a party restricted from contracting or soli...</td>\n",
              "      <td>party restricted contracting soliciting custom...</td>\n",
              "      <td>no solicit of customers</td>\n",
              "    </tr>\n",
              "    <tr>\n",
              "      <th>12</th>\n",
              "      <td>Competitive Restriction Exception</td>\n",
              "      <td>This category includes the exceptions or carve...</td>\n",
              "      <td>category includes exceptions carveouts non com...</td>\n",
              "      <td>competitive restriction exception</td>\n",
              "    </tr>\n",
              "    <tr>\n",
              "      <th>13</th>\n",
              "      <td>No-Solicit of Employees</td>\n",
              "      <td>Is there a restriction on a party’s soliciting...</td>\n",
              "      <td>restriction party soliciting hiring employees ...</td>\n",
              "      <td>no solicit of employees</td>\n",
              "    </tr>\n",
              "    <tr>\n",
              "      <th>14</th>\n",
              "      <td>Non-Disparagement</td>\n",
              "      <td>Is there a requirement on a party not to dispa...</td>\n",
              "      <td>requirement party disparage counterparty</td>\n",
              "      <td>non disparagement</td>\n",
              "    </tr>\n",
              "    <tr>\n",
              "      <th>15</th>\n",
              "      <td>Termination for Convenience</td>\n",
              "      <td>Can a party terminate this  contract without c...</td>\n",
              "      <td>party terminate contract without cause solely ...</td>\n",
              "      <td>termination for convenience</td>\n",
              "    </tr>\n",
              "    <tr>\n",
              "      <th>16</th>\n",
              "      <td>Right of First Refusal, Offer or Negotiation (...</td>\n",
              "      <td>Is there a clause granting one party a right o...</td>\n",
              "      <td>clause granting one party right first refusal ...</td>\n",
              "      <td>right of first refusal offer or negotiation ro...</td>\n",
              "    </tr>\n",
              "    <tr>\n",
              "      <th>17</th>\n",
              "      <td>Change of Control</td>\n",
              "      <td>Does one party have the right to terminate or ...</td>\n",
              "      <td>one party right terminate consent notice requi...</td>\n",
              "      <td>change of control</td>\n",
              "    </tr>\n",
              "    <tr>\n",
              "      <th>18</th>\n",
              "      <td>Anti-Assignment</td>\n",
              "      <td>Is consent or notice required of a party if th...</td>\n",
              "      <td>consent notice required party contract assigne...</td>\n",
              "      <td>anti assignment</td>\n",
              "    </tr>\n",
              "    <tr>\n",
              "      <th>19</th>\n",
              "      <td>Revenue/Profit Sharing</td>\n",
              "      <td>Is one party required to share revenue or prof...</td>\n",
              "      <td>one party required share revenue profit counte...</td>\n",
              "      <td>revenue profit sharing</td>\n",
              "    </tr>\n",
              "    <tr>\n",
              "      <th>20</th>\n",
              "      <td>Price Restriction</td>\n",
              "      <td>Is there a restriction on the  ability of a pa...</td>\n",
              "      <td>restriction ability party raise reduce prices ...</td>\n",
              "      <td>price restriction</td>\n",
              "    </tr>\n",
              "    <tr>\n",
              "      <th>21</th>\n",
              "      <td>Volume Restriction</td>\n",
              "      <td>Is there a fee increase or consent requirement...</td>\n",
              "      <td>fee increase consent requirement etc one party...</td>\n",
              "      <td>volume restriction</td>\n",
              "    </tr>\n",
              "    <tr>\n",
              "      <th>22</th>\n",
              "      <td>IP Ownership Assignment</td>\n",
              "      <td>Does intellectual property created  by one par...</td>\n",
              "      <td>intellectual property created one party become...</td>\n",
              "      <td>ip ownership assignment</td>\n",
              "    </tr>\n",
              "    <tr>\n",
              "      <th>23</th>\n",
              "      <td>Joint IP Ownership</td>\n",
              "      <td>Is there any clause providing for joint or sha...</td>\n",
              "      <td>clause providing joint shared ownership intell...</td>\n",
              "      <td>joint ip ownership</td>\n",
              "    </tr>\n",
              "    <tr>\n",
              "      <th>24</th>\n",
              "      <td>License Grant</td>\n",
              "      <td>Does the contract contain a license granted by...</td>\n",
              "      <td>contract contain license granted one party cou...</td>\n",
              "      <td>license grant</td>\n",
              "    </tr>\n",
              "    <tr>\n",
              "      <th>25</th>\n",
              "      <td>Non-Transferable License</td>\n",
              "      <td>Does the contract limit the ability of a party...</td>\n",
              "      <td>contract limit ability party transfer license ...</td>\n",
              "      <td>non transferable license</td>\n",
              "    </tr>\n",
              "    <tr>\n",
              "      <th>26</th>\n",
              "      <td>Affiliate IP License-Licensor</td>\n",
              "      <td>Does the contract contain a license grant by a...</td>\n",
              "      <td>contract contain license grant affiliates lice...</td>\n",
              "      <td>affiliate ip license licensor</td>\n",
              "    </tr>\n",
              "    <tr>\n",
              "      <th>27</th>\n",
              "      <td>Affiliate IP License-Licensee</td>\n",
              "      <td>Does the contract contain a license grant to a...</td>\n",
              "      <td>contract contain license grant licensee incl s...</td>\n",
              "      <td>affiliate ip license licensee</td>\n",
              "    </tr>\n",
              "    <tr>\n",
              "      <th>28</th>\n",
              "      <td>Unlimited/All-You-Can-Eat License</td>\n",
              "      <td>Is there a clause granting one party an “enter...</td>\n",
              "      <td>clause granting one party enterprise eat unlim...</td>\n",
              "      <td>unlimited all you can eat license</td>\n",
              "    </tr>\n",
              "    <tr>\n",
              "      <th>29</th>\n",
              "      <td>Irrevocable or Perpetual License</td>\n",
              "      <td>Does the contract contain a  license grant tha...</td>\n",
              "      <td>contract contain license grant irrevocable per...</td>\n",
              "      <td>irrevocable or perpetual license</td>\n",
              "    </tr>\n",
              "    <tr>\n",
              "      <th>30</th>\n",
              "      <td>Source Code Escrow</td>\n",
              "      <td>Is one party required to deposit its source co...</td>\n",
              "      <td>one party required deposit source code escrow ...</td>\n",
              "      <td>source code escrow</td>\n",
              "    </tr>\n",
              "    <tr>\n",
              "      <th>31</th>\n",
              "      <td>Post-Termination Services</td>\n",
              "      <td>Is a party subject to obligations after the te...</td>\n",
              "      <td>party subject obligations termination expirati...</td>\n",
              "      <td>post termination services</td>\n",
              "    </tr>\n",
              "    <tr>\n",
              "      <th>32</th>\n",
              "      <td>Audit Rights</td>\n",
              "      <td>Does a party have the right to  audit the book...</td>\n",
              "      <td>party right audit books records physical locat...</td>\n",
              "      <td>audit rights</td>\n",
              "    </tr>\n",
              "    <tr>\n",
              "      <th>33</th>\n",
              "      <td>Uncapped Liability</td>\n",
              "      <td>Is a party’s liability uncapped upon the breac...</td>\n",
              "      <td>party liability uncapped upon breach obligatio...</td>\n",
              "      <td>uncapped liability</td>\n",
              "    </tr>\n",
              "    <tr>\n",
              "      <th>34</th>\n",
              "      <td>Cap on Liability</td>\n",
              "      <td>Does the contract include a cap on liability u...</td>\n",
              "      <td>contract include cap liability upon breach par...</td>\n",
              "      <td>cap on liability</td>\n",
              "    </tr>\n",
              "    <tr>\n",
              "      <th>35</th>\n",
              "      <td>Liquidated Damages</td>\n",
              "      <td>Does the contract contain a clause that would ...</td>\n",
              "      <td>contract contain clause would award either par...</td>\n",
              "      <td>liquidated damages</td>\n",
              "    </tr>\n",
              "    <tr>\n",
              "      <th>36</th>\n",
              "      <td>Warranty Duration</td>\n",
              "      <td>What is the duration of any  warranty against ...</td>\n",
              "      <td>duration warranty defects errors technology pr...</td>\n",
              "      <td>warranty duration</td>\n",
              "    </tr>\n",
              "    <tr>\n",
              "      <th>37</th>\n",
              "      <td>Insurance</td>\n",
              "      <td>Is there a requirement for insurance that must...</td>\n",
              "      <td>requirement insurance must maintained one part...</td>\n",
              "      <td>insurance</td>\n",
              "    </tr>\n",
              "    <tr>\n",
              "      <th>38</th>\n",
              "      <td>Covenant Not to Sue</td>\n",
              "      <td>Is a party restricted from contesting the vali...</td>\n",
              "      <td>party restricted contesting validity counterpa...</td>\n",
              "      <td>covenant not to sue</td>\n",
              "    </tr>\n",
              "    <tr>\n",
              "      <th>39</th>\n",
              "      <td>Third Party Beneficiary</td>\n",
              "      <td>Is there a non-contracting party who is a bene...</td>\n",
              "      <td>non contracting party beneficiary clauses cont...</td>\n",
              "      <td>third party beneficiary</td>\n",
              "    </tr>\n",
              "  </tbody>\n",
              "</table>\n",
              "</div>"
            ],
            "text/plain": [
              "                  Category (incl. context and answer)  ...                                             labels\n",
              "0                                       Document Name  ...                                      document name\n",
              "1                                             Parties  ...                                            parties\n",
              "2                                      Agreement Date  ...                                     agreement date\n",
              "3                                      Effective Date  ...                                     effective date\n",
              "4                                     Expiration Date  ...                                    expiration date\n",
              "5                                        Renewal Term  ...                                       renewal term\n",
              "6                         Notice to Terminate Renewal  ...                        notice to terminate renewal\n",
              "7                                       Governing Law  ...                                      governing law\n",
              "8                                 Most Favored Nation  ...                                most favored nation\n",
              "9                                         Non-Compete  ...                                        non compete\n",
              "10                                        Exclusivity  ...                                        exclusivity\n",
              "11                            No-Solicit of Customers  ...                            no solicit of customers\n",
              "12                  Competitive Restriction Exception  ...                  competitive restriction exception\n",
              "13                            No-Solicit of Employees  ...                            no solicit of employees\n",
              "14                                  Non-Disparagement  ...                                  non disparagement\n",
              "15                        Termination for Convenience  ...                        termination for convenience\n",
              "16  Right of First Refusal, Offer or Negotiation (...  ...  right of first refusal offer or negotiation ro...\n",
              "17                                  Change of Control  ...                                  change of control\n",
              "18                                    Anti-Assignment  ...                                    anti assignment\n",
              "19                             Revenue/Profit Sharing  ...                             revenue profit sharing\n",
              "20                                  Price Restriction  ...                                  price restriction\n",
              "21                                 Volume Restriction  ...                                 volume restriction\n",
              "22                            IP Ownership Assignment  ...                            ip ownership assignment\n",
              "23                                 Joint IP Ownership  ...                                 joint ip ownership\n",
              "24                                      License Grant  ...                                      license grant\n",
              "25                           Non-Transferable License  ...                           non transferable license\n",
              "26                      Affiliate IP License-Licensor  ...                      affiliate ip license licensor\n",
              "27                      Affiliate IP License-Licensee  ...                      affiliate ip license licensee\n",
              "28                  Unlimited/All-You-Can-Eat License  ...                  unlimited all you can eat license\n",
              "29                   Irrevocable or Perpetual License  ...                   irrevocable or perpetual license\n",
              "30                                 Source Code Escrow  ...                                 source code escrow\n",
              "31                          Post-Termination Services  ...                          post termination services\n",
              "32                                       Audit Rights  ...                                       audit rights\n",
              "33                                 Uncapped Liability  ...                                 uncapped liability\n",
              "34                                   Cap on Liability  ...                                   cap on liability\n",
              "35                                 Liquidated Damages  ...                                 liquidated damages\n",
              "36                                  Warranty Duration  ...                                  warranty duration\n",
              "37                                          Insurance  ...                                          insurance\n",
              "38                                Covenant Not to Sue  ...                                covenant not to sue\n",
              "39                            Third Party Beneficiary  ...                            third party beneficiary\n",
              "\n",
              "[40 rows x 4 columns]"
            ]
          },
          "metadata": {
            "tags": []
          },
          "execution_count": 5
        }
      ]
    },
    {
      "cell_type": "code",
      "metadata": {
        "id": "HdHypw5GiAGV"
      },
      "source": [
        "from sklearn.feature_extraction.text import CountVectorizer\n",
        "\n",
        "# the vectorizer object will be used to transform text to vector form\n",
        "vectorizer = CountVectorizer(max_df=0.9, min_df=25, token_pattern='\\w+|\\$[\\d\\.]+|\\S+')\n",
        "\n",
        "# apply transformation\n",
        "tf = vectorizer.fit_transform(input_df['cleaned_data']).toarray()\n",
        "\n",
        "# tf_feature_names tells us what word each column in the matric represents\n",
        "tf_feature_names = vectorizer.get_feature_names()"
      ],
      "execution_count": 6,
      "outputs": []
    },
    {
      "cell_type": "code",
      "metadata": {
        "id": "wBVyCRKviGM-"
      },
      "source": [
        "import sys\n",
        "sys.path.insert(1,'category.csv')"
      ],
      "execution_count": 7,
      "outputs": []
    },
    {
      "cell_type": "markdown",
      "metadata": {
        "id": "ulrXQ0hIiYeR"
      },
      "source": [
        "LDA Modelling"
      ]
    },
    {
      "cell_type": "code",
      "metadata": {
        "id": "oTnNQ-p3ixB-"
      },
      "source": [
        "from sklearn.decomposition import LatentDirichletAllocation\n",
        "import pandas as pd\n",
        "def LDA_MODEL(number_of_topics,tf,feature_names, no_top_words):\n",
        "  number_of_topics = 2\n",
        "  model = LatentDirichletAllocation(n_components=number_of_topics, random_state=0)\n",
        "  model.fit(tf)\n",
        "  return display_topics(model,feature_names, no_top_words)\n",
        "  pass\n",
        "\n",
        "def display_topics(model, feature_names, no_top_words):\n",
        "  topic_dict = {}\n",
        "  for topic_idx, topic in enumerate(model.components_):\n",
        "    topic_dict[\"Topic %d words\" % (topic_idx)]= ['{}'.format(feature_names[i]) for i in topic.argsort()[:-no_top_words - 1:-1]]\n",
        "    topic_dict[\"Topic %d weights\" % (topic_idx)]= ['{:.1f}'.format(topic[i]) for i in topic.argsort()[:-no_top_words - 1:-1]]\n",
        "  return pd.DataFrame.from_dict(topic_dict)\n"
      ],
      "execution_count": 8,
      "outputs": []
    },
    {
      "cell_type": "code",
      "metadata": {
        "colab": {
          "base_uri": "https://localhost:8080/",
          "height": 301
        },
        "id": "OSgQYJd-iRt2",
        "outputId": "df3a7527-4123-47bb-ae7a-ea8e63557e40"
      },
      "source": [
        "#import AlgorithmLDA as lda_ul\n",
        "import time\n",
        "# starting time\n",
        "start = time.time()\n",
        "for i in range(10):\n",
        "    print(i)\n",
        "# sleeping for 1 sec to get 10 sec runtime\n",
        "time.sleep(1)\n",
        "\n",
        "result = LDA_MODEL(10,tf,tf_feature_names,10)\n",
        "# end time\n",
        "end = time.time()\n",
        "\n",
        "# total time taken\n",
        "\n",
        "# total time taken\n",
        "print(f\"Runtime of the program is {end - start}\")\n",
        "\n",
        "result"
      ],
      "execution_count": 31,
      "outputs": [
        {
          "output_type": "stream",
          "text": [
            "0\n",
            "1\n",
            "2\n",
            "3\n",
            "4\n",
            "5\n",
            "6\n",
            "7\n",
            "8\n",
            "9\n",
            "Runtime of the program is 1.0647799968719482\n"
          ],
          "name": "stdout"
        },
        {
          "output_type": "execute_result",
          "data": {
            "text/html": [
              "<div>\n",
              "<style scoped>\n",
              "    .dataframe tbody tr th:only-of-type {\n",
              "        vertical-align: middle;\n",
              "    }\n",
              "\n",
              "    .dataframe tbody tr th {\n",
              "        vertical-align: top;\n",
              "    }\n",
              "\n",
              "    .dataframe thead th {\n",
              "        text-align: right;\n",
              "    }\n",
              "</style>\n",
              "<table border=\"1\" class=\"dataframe\">\n",
              "  <thead>\n",
              "    <tr style=\"text-align: right;\">\n",
              "      <th></th>\n",
              "      <th>Topic 0 words</th>\n",
              "      <th>Topic 0 weights</th>\n",
              "      <th>Topic 1 words</th>\n",
              "      <th>Topic 1 weights</th>\n",
              "    </tr>\n",
              "  </thead>\n",
              "  <tbody>\n",
              "    <tr>\n",
              "      <th>0</th>\n",
              "      <td>party</td>\n",
              "      <td>30.9</td>\n",
              "      <td>contract</td>\n",
              "      <td>32.1</td>\n",
              "    </tr>\n",
              "    <tr>\n",
              "      <th>1</th>\n",
              "      <td>contract</td>\n",
              "      <td>0.9</td>\n",
              "      <td>party</td>\n",
              "      <td>1.1</td>\n",
              "    </tr>\n",
              "  </tbody>\n",
              "</table>\n",
              "</div>"
            ],
            "text/plain": [
              "  Topic 0 words Topic 0 weights Topic 1 words Topic 1 weights\n",
              "0         party            30.9      contract            32.1\n",
              "1      contract             0.9         party             1.1"
            ]
          },
          "metadata": {
            "tags": []
          },
          "execution_count": 31
        }
      ]
    },
    {
      "cell_type": "code",
      "metadata": {
        "colab": {
          "base_uri": "https://localhost:8080/",
          "height": 607
        },
        "id": "1GewPO1Vi83H",
        "outputId": "f311d2d0-367e-41c3-cd29-2a234a2e31a0"
      },
      "source": [
        "\n",
        "import matplotlib.pyplot as plt\n",
        "columns_list = [\"Topic \"+str(i)+\" weights\" for i in range(0,2)]\n",
        "for i in columns_list:\n",
        "  result[i] = pd.to_numeric(result[i])\n",
        "result.hist(figsize=(10,10),color = 'Purple')\n",
        "plt.show(block=False)\n"
      ],
      "execution_count": 10,
      "outputs": [
        {
          "output_type": "display_data",
          "data": {
            "image/png": "[encoded data removed]",
            "text/plain": [
              "<Figure size 720x720 with 2 Axes>"
            ]
          },
          "metadata": {
            "tags": [],
            "needs_background": "light"
          }
        }
      ]
    },
    {
      "cell_type": "code",
      "metadata": {
        "colab": {
          "base_uri": "https://localhost:8080/",
          "height": 410
        },
        "id": "VX3SfwIvjF6M",
        "outputId": "79410962-c2d8-463e-b124-068124345de6"
      },
      "source": [
        "result.plot(kind='density', subplots=True,layout = (2,2),sharex=False, legend=True, fontsize=1,figsize=(15,15))\n",
        "plt.show(block=False)"
      ],
      "execution_count": 11,
      "outputs": [
        {
          "output_type": "display_data",
          "data": {
            "image/png": "[encoded data removed]",
            "text/plain": [
              "<Figure size 1080x1080 with 4 Axes>"
            ]
          },
          "metadata": {
            "tags": [],
            "needs_background": "light"
          }
        }
      ]
    },
    {
      "cell_type": "code",
      "metadata": {
        "colab": {
          "base_uri": "https://localhost:8080/",
          "height": 1000
        },
        "id": "8WKM1qB4jhW1",
        "outputId": "1b504ce7-4260-4ef1-c30e-d6ef9e9d7eee"
      },
      "source": [
        "# Wordcloud of Top N words in each topic\n",
        "from wordcloud import WordCloud, STOPWORDS\n",
        "import matplotlib.colors as mcolors\n",
        "my_stopwords = nltk.corpus.stopwords.words('english')\n",
        "\n",
        "cols = [color for name, color in mcolors.TABLEAU_COLORS.items()]  # more colors: 'mcolors.XKCD_COLORS'\n",
        "\n",
        "cloud = WordCloud(stopwords=my_stopwords,\n",
        "                  background_color='white',\n",
        "                  width=2500,\n",
        "                  height=1800,\n",
        "                  max_words=10,\n",
        "                  colormap='tab10',\n",
        "                  color_func=lambda *args, **kwargs: cols[i],\n",
        "                  prefer_horizontal=1.0)\n",
        "\n",
        "columns_list = [\"Topic \"+str(i)+\" words\" for i in range(0,2)]\n",
        "topics = list()\n",
        "\n",
        "for i in columns_list:\n",
        "  topics.append(result[i].values)\n",
        "\n",
        "frequencies = list()\n",
        "columns_list = [\"Topic \"+str(i)+\" weights\" for i in range(0,2)]\n",
        "\n",
        "for i in columns_list:\n",
        "  frequencies.append(result[i].values)\n",
        "\n",
        "\n",
        "fig, axes = plt.subplots(2,1, figsize=(15,15), sharex=True, sharey=True)\n",
        "\n",
        "for i, ax in enumerate(axes.flatten()):\n",
        "    fig.add_subplot(ax)\n",
        "    size_of_array = len(topics[i])\n",
        "    topic_words = dict()\n",
        "    for j in range(size_of_array):\n",
        "      topic_words[topics[i][j]] = frequencies[i][j]\n",
        "    cloud.generate_from_frequencies(topic_words, max_font_size=300)\n",
        "    plt.gca().imshow(cloud)\n",
        "    plt.gca().set_title('Topic ' + str(i), fontdict=dict(size=16))\n",
        "    plt.gca().axis('off')\n",
        "\n",
        "\n",
        "plt.subplots_adjust(wspace=0, hspace=0)\n",
        "plt.axis('off')\n",
        "plt.margins(x=0, y=0)\n",
        "plt.tight_layout()\n",
        "plt.show()"
      ],
      "execution_count": 12,
      "outputs": [
        {
          "output_type": "display_data",
          "data": {
            "image/png": "[encoded data removed]",
            "text/plain": [
              "<Figure size 1080x1080 with 2 Axes>"
            ]
          },
          "metadata": {
            "tags": [],
            "needs_background": "light"
          }
        }
      ]
    },
    {
      "cell_type": "markdown",
      "metadata": {
        "id": "nOVwpJLik8BQ"
      },
      "source": [
        "LSA TOPIC MODELLING\n",
        "\n"
      ]
    },
    {
      "cell_type": "code",
      "metadata": {
        "id": "HkEHuWFNk8uV"
      },
      "source": [
        "from sklearn.decomposition import TruncatedSVD\n",
        "import pandas as pd\n",
        "\n",
        "def LSA_MODEL(tf,vectorizer):\n",
        "  svd_model = TruncatedSVD(n_components=1, algorithm ='randomized', n_iter=100, random_state=122)\n",
        "  svd_model.fit(tf)\n",
        "  terms = vectorizer.get_feature_names()\n",
        "  df = pd.DataFrame()\n",
        "  for i, comp in enumerate(svd_model.components_):\n",
        "    term_comp = zip(terms,comp)\n",
        "    sorted_terms = sorted(term_comp, key = lambda x:x[1], reverse = True)[:7]\n",
        "    str1 = \"Topic \"+str(i)\n",
        "    str2 = str1 + \" weights\"\n",
        "    str1_list = list()\n",
        "    str2_list = list()\n",
        "    for j in sorted_terms:\n",
        "      str1_list.append(j[0])\n",
        "      str2_list.append(j[1])\n",
        "    df[str1] = str1_list\n",
        "    df[str2] = str2_list\n",
        "  return df"
      ],
      "execution_count": 13,
      "outputs": []
    },
    {
      "cell_type": "code",
      "metadata": {
        "colab": {
          "base_uri": "https://localhost:8080/",
          "height": 301
        },
        "id": "a2jIAMQKlJtG",
        "outputId": "9103852c-d946-4fe9-cc05-8c2848858ccc"
      },
      "source": [
        "#import AlgorithmLSA as lsa\n",
        "import time\n",
        "# starting time\n",
        "start = time.time()\n",
        "for i in range(10):\n",
        "    print(i)\n",
        "# sleeping for 1 sec to get 10 sec runtime\n",
        "time.sleep(1)\n",
        "\n",
        "lsa_result=LSA_MODEL(tf,vectorizer)\n",
        "\n",
        "# end time\n",
        "end = time.time()\n",
        "\n",
        "# total time taken\n",
        "print(f\"Runtime of the program is {end - start}\")\n",
        "\n",
        "lsa_result\n",
        "\n",
        "# total time taken"
      ],
      "execution_count": 30,
      "outputs": [
        {
          "output_type": "stream",
          "text": [
            "0\n",
            "1\n",
            "2\n",
            "3\n",
            "4\n",
            "5\n",
            "6\n",
            "7\n",
            "8\n",
            "9\n",
            "Runtime of the program is 1.0176217555999756\n"
          ],
          "name": "stdout"
        },
        {
          "output_type": "execute_result",
          "data": {
            "text/html": [
              "<div>\n",
              "<style scoped>\n",
              "    .dataframe tbody tr th:only-of-type {\n",
              "        vertical-align: middle;\n",
              "    }\n",
              "\n",
              "    .dataframe tbody tr th {\n",
              "        vertical-align: top;\n",
              "    }\n",
              "\n",
              "    .dataframe thead th {\n",
              "        text-align: right;\n",
              "    }\n",
              "</style>\n",
              "<table border=\"1\" class=\"dataframe\">\n",
              "  <thead>\n",
              "    <tr style=\"text-align: right;\">\n",
              "      <th></th>\n",
              "      <th>Topic 0</th>\n",
              "      <th>Topic 0 weights</th>\n",
              "    </tr>\n",
              "  </thead>\n",
              "  <tbody>\n",
              "    <tr>\n",
              "      <th>0</th>\n",
              "      <td>contract</td>\n",
              "      <td>0.714433</td>\n",
              "    </tr>\n",
              "    <tr>\n",
              "      <th>1</th>\n",
              "      <td>party</td>\n",
              "      <td>0.699704</td>\n",
              "    </tr>\n",
              "  </tbody>\n",
              "</table>\n",
              "</div>"
            ],
            "text/plain": [
              "    Topic 0  Topic 0 weights\n",
              "0  contract         0.714433\n",
              "1     party         0.699704"
            ]
          },
          "metadata": {
            "tags": []
          },
          "execution_count": 30
        }
      ]
    },
    {
      "cell_type": "code",
      "metadata": {
        "colab": {
          "base_uri": "https://localhost:8080/",
          "height": 879
        },
        "id": "l6cebwFvlzSG",
        "outputId": "653d0012-2bc2-4c57-bca0-7e1a0b8f22e5"
      },
      "source": [
        "columns_list = [\"Topic \"+str(i)+\" weights\" for i in range(0,1)]\n",
        "for i in columns_list:\n",
        "  lsa_result[i] = pd.to_numeric(lsa_result[i])\n",
        "lsa_result.hist(figsize=(15,15),color = 'purple')\n",
        "plt.show(block=False)\n"
      ],
      "execution_count": 16,
      "outputs": [
        {
          "output_type": "display_data",
          "data": {
            "image/png": "[encoded data removed]",
            "text/plain": [
              "<Figure size 1080x1080 with 1 Axes>"
            ]
          },
          "metadata": {
            "tags": [],
            "needs_background": "light"
          }
        }
      ]
    },
    {
      "cell_type": "code",
      "metadata": {
        "colab": {
          "base_uri": "https://localhost:8080/",
          "height": 179
        },
        "id": "qA6dVGUil7Q_",
        "outputId": "2ec26bd9-71fb-4627-f453-85c1af29964b"
      },
      "source": [
        "lsa_result.plot(kind='density', subplots=True,layout = (5,5),sharex=False, legend=True, fontsize=1,figsize=(15,15))\n",
        "plt.show(block=False)"
      ],
      "execution_count": 17,
      "outputs": [
        {
          "output_type": "display_data",
          "data": {
            "image/png": "[encoded data removed]",
            "text/plain": [
              "<Figure size 1080x1080 with 25 Axes>"
            ]
          },
          "metadata": {
            "tags": [],
            "needs_background": "light"
          }
        }
      ]
    },
    {
      "cell_type": "code",
      "metadata": {
        "colab": {
          "base_uri": "https://localhost:8080/",
          "height": 1000
        },
        "id": "lob-EA2jmRaW",
        "outputId": "18d73e2e-304f-4cee-8ad4-5caeec1dea81"
      },
      "source": [
        "# 1. Wordcloud of Top N words in each topic\n",
        "from matplotlib import pyplot as plt\n",
        "from wordcloud import WordCloud, STOPWORDS\n",
        "import matplotlib.colors as mcolors\n",
        "\n",
        "cols = [color for name, color in mcolors.TABLEAU_COLORS.items()]  # more colors: 'mcolors.XKCD_COLORS'\n",
        "cols = cols*2\n",
        "cloud = WordCloud(stopwords=my_stopwords,\n",
        "                  background_color='white',\n",
        "                  width=2500,\n",
        "                  height=1800,\n",
        "                  max_words=10,\n",
        "                  colormap='tab10',\n",
        "                  color_func=lambda *args, **kwargs: cols[i],\n",
        "                  prefer_horizontal=1.0)\n",
        "\n",
        "columns_list = [\"Topic \"+str(i) for i in range(0,1)]\n",
        "topics = list()\n",
        "\n",
        "for i in columns_list:\n",
        "  topics.append(lsa_result[i].values)\n",
        "\n",
        "frequencies = list()\n",
        "columns_list = [\"Topic \"+str(i)+\" weights\" for i in range(0,1)]\n",
        "\n",
        "for i in columns_list:\n",
        "  frequencies.append(lsa_result[i].values)\n",
        "\n",
        "\n",
        "fig, axes = plt.subplots(2,1, figsize=(15,15), sharex=True, sharey=True)\n",
        "\n",
        "for i, ax in enumerate(axes.flatten()):\n",
        "    fig.add_subplot(ax)\n",
        "    size_of_array = len(topics[0])\n",
        "    topic_words = dict()\n",
        "    for j in range(size_of_array):\n",
        "      topic_words[topics[0][j]] = frequencies[0][j]\n",
        "    cloud.generate_from_frequencies(topic_words, max_font_size=300)\n",
        "    plt.gca().imshow(cloud)\n",
        "    plt.gca().set_title('Topic ' + str(i), fontdict=dict(size=16))\n",
        "    plt.gca().axis('off')\n",
        "\n",
        "\n",
        "plt.subplots_adjust(wspace=0, hspace=0)\n",
        "plt.axis('off')\n",
        "plt.margins(x=0, y=0)\n",
        "plt.tight_layout()\n",
        "plt.show()"
      ],
      "execution_count": 20,
      "outputs": [
        {
          "output_type": "display_data",
          "data": {
            "image/png": "[encoded data removed]",
            "text/plain": [
              "<Figure size 1080x1080 with 2 Axes>"
            ]
          },
          "metadata": {
            "tags": [],
            "needs_background": "light"
          }
        }
      ]
    },
    {
      "cell_type": "markdown",
      "metadata": {
        "id": "ht9Tb6XKt5y7"
      },
      "source": [
        "\n",
        "HMM-LDA TOPIC MODELLING"
      ]
    },
    {
      "cell_type": "code",
      "metadata": {
        "colab": {
          "base_uri": "https://localhost:8080/"
        },
        "id": "JHVnGdXOmh9s",
        "outputId": "e0d1edbe-3509-4c0a-f39e-4b5c84d97ff1"
      },
      "source": [
        "#import AlgorithmHMMLDA as HMMLDA\n",
        "import nltk\n",
        "nltk.download('words')"
      ],
      "execution_count": 21,
      "outputs": [
        {
          "output_type": "stream",
          "text": [
            "[nltk_data] Downloading package words to /root/nltk_data...\n",
            "[nltk_data]   Unzipping corpora/words.zip.\n"
          ],
          "name": "stdout"
        },
        {
          "output_type": "execute_result",
          "data": {
            "text/plain": [
              "True"
            ]
          },
          "metadata": {
            "tags": []
          },
          "execution_count": 21
        }
      ]
    },
    {
      "cell_type": "code",
      "metadata": {
        "id": "koy6hEqXuRM6"
      },
      "source": [
        "from __future__ import print_function\n",
        "import time\n",
        "\n",
        "from six.moves import xrange\n",
        "import numpy as np\n",
        "from scipy.special import gammaln\n",
        "\n",
        "class BaseTopicModel(object):\n",
        "    def __init__(self, n_doc, n_voca, **kwargs):\n",
        "        self.n_doc = n_doc\n",
        "        self.n_voca = n_voca\n",
        "        self.verbose = kwargs.pop('verbose', True)\n",
        "\n",
        "class BaseGibbsParamTopicModel(BaseTopicModel):\n",
        "\n",
        "\n",
        "    def __init__(self, n_doc, n_voca, n_topic, alpha, beta, **kwargs):\n",
        "        super(BaseGibbsParamTopicModel, self).__init__(n_doc=n_doc, n_voca=n_voca, **kwargs)\n",
        "        self.n_topic = n_topic\n",
        "        self.TW = np.zeros([self.n_topic, self.n_voca])\n",
        "        self.DT = np.zeros([self.n_doc, self.n_topic])\n",
        "        self.sum_T = np.zeros(self.n_topic)\n",
        "\n",
        "        self.alpha = alpha\n",
        "        self.beta = beta\n",
        "\n",
        "        self.topic_assignment = list()\n",
        "\n",
        "        self.TW += self.beta\n",
        "        self.sum_T += self.beta * self.n_voca\n",
        "        self.DT += self.alpha\n",
        "\n",
        "class HMM_LDA(BaseGibbsParamTopicModel):\n",
        "\n",
        "    def __init__(self, n_docs, n_voca, n_topic, n_class, alpha=0.1, beta=0.01, gamma=0.1, eta=0.1, **kwargs):\n",
        "        super(HMM_LDA, self).__init__(n_docs, n_voca, n_topic, alpha, beta, **kwargs)\n",
        "        self.n_class = n_class\n",
        "\n",
        "        self.gamma = gamma\n",
        "        self.eta = eta\n",
        "\n",
        "        self.CW = np.zeros([self.n_class, self.n_voca]) + self.gamma  # class x word\n",
        "        self.sum_C = np.zeros([self.n_class]) + self.n_voca * self.gamma\n",
        "\n",
        "        self.T = np.zeros([self.n_class + 2, self.n_class + 2]) + self.eta\n",
        "\n",
        "        self.word_class = list()\n",
        "        self.word_topic = list()\n",
        "\n",
        "    def fit(self, docs, max_iter=100):\n",
        "        self.random_init(docs)\n",
        "        self.gibbs_sampling(docs, max_iter)\n",
        "\n",
        "    # randomly initialize \n",
        "    def random_init(self, docs):\n",
        "\n",
        "        for di in xrange(self.n_doc):\n",
        "            doc = docs[di]\n",
        "            num_sentence = len(doc)\n",
        "\n",
        "            doc_class = list()\n",
        "            doc_topic = list()\n",
        "\n",
        "            for si in xrange(num_sentence):\n",
        "                sentence_class = list()\n",
        "                sentence_topic = list()\n",
        "\n",
        "                sentence = doc[si]\n",
        "                len_sentence = len(sentence)\n",
        "\n",
        "                for wi in xrange(len_sentence):\n",
        "                    word = sentence[wi]\n",
        "                    c = np.random.randint(self.n_class)\n",
        "\n",
        "                    sentence_class.append(c)\n",
        "                    self.CW[c, word] += 1\n",
        "                    self.sum_C[c] += 1\n",
        "                    if wi == 0:  # if the first word\n",
        "                        self.T[self.n_class, c] += 1\n",
        "                    else:\n",
        "                        self.T[sentence_class[wi - 1], c] += 1\n",
        "\n",
        "                    if wi == len_sentence - 1:  # the last word\n",
        "                        self.T[c, self.n_class + 1] += 1\n",
        "\n",
        "                    k = np.random.randint(self.n_topic)\n",
        "                    sentence_topic.append(k)\n",
        "                    self.DT[di, k] += 1\n",
        "                    if c == 0:\n",
        "                        self.TW[k, word] += 1\n",
        "                        self.sum_T[k] += 1\n",
        "\n",
        "                doc_class.append(sentence_class)\n",
        "                doc_topic.append(sentence_topic)\n",
        "\n",
        "            self.word_class.append(doc_class)\n",
        "            self.word_topic.append(doc_topic)\n",
        "\n",
        "    def gibbs_sampling(self, docs, max_iter):\n",
        "\n",
        "        for iter in xrange(max_iter):\n",
        "            tic = time.time()\n",
        "            for di, doc in enumerate(docs):\n",
        "                doc_topic = self.word_topic[di]\n",
        "                doc_class = self.word_class[di]\n",
        "\n",
        "                for si, sentence in enumerate(doc):\n",
        "                    len_sentence = len(sentence)\n",
        "\n",
        "                    sentence_topic = doc_topic[si]\n",
        "                    sentence_class = doc_class[si]\n",
        "\n",
        "                    for wi, word in enumerate(sentence):\n",
        "\n",
        "                        if wi == 0:\n",
        "                            prev_c = self.n_class\n",
        "                        else:\n",
        "                            prev_c = sentence_class[wi - 1]\n",
        "\n",
        "                        if wi == len_sentence - 1:\n",
        "                            next_c = self.n_class + 1\n",
        "                        else:\n",
        "                            next_c = sentence_class[wi + 1]\n",
        "\n",
        "                        old_c = sentence_class[wi]\n",
        "                        old_t = sentence_topic[wi]\n",
        "\n",
        "                        # remove previous state\n",
        "                        self.CW[old_c, word] -= 1\n",
        "                        self.sum_C[old_c] -= 1\n",
        "                        self.T[prev_c, old_c] -= 1\n",
        "                        self.T[old_c, next_c] -= 1\n",
        "\n",
        "                        # sample class\n",
        "                        prob = (self.T[prev_c, :self.n_class] / self.T[prev_c].sum()) \\\n",
        "                                * (self.T[:self.n_class, next_c] / np.sum(self.T[:self.n_class], 1))\n",
        "                        prob[0] *= (self.TW[old_t, word] / self.sum_T[old_t])\n",
        "                        prob[1:] *= self.CW[1:, word] / self.sum_C[1:]\n",
        "\n",
        "                        new_c = np.random.multinomial(1, prob).argmax()\n",
        "\n",
        "                        sentence_class[wi] = new_c\n",
        "                        self.CW[new_c, word] += 1\n",
        "                        self.sum_C[new_c] += 1\n",
        "                        self.T[prev_c, new_c] += 1\n",
        "                        self.T[new_c, next_c] += 1\n",
        "\n",
        "                        # remove previous topic state\n",
        "                        self.DT[di, old_t] -= 1\n",
        "                        if old_c == 0:\n",
        "                            self.TW[old_t, word] -= 1\n",
        "                            self.sum_T[old_t] -= 1\n",
        "\n",
        "                        # sample topic\n",
        "                        prob = self.DT[di].copy()\n",
        "                        if new_c == 0:\n",
        "                            prob *= self.TW[:, word] / self.sum_T\n",
        "                        prob /= np.sum(prob)\n",
        "\n",
        "                        new_topic = np.random.multinomial(1, prob).argmax()\n",
        "                        self.DT[di, new_topic] += 1\n",
        "                        if new_c == 0:\n",
        "                            self.TW[new_topic, word] += 1\n",
        "                            self.sum_T[new_topic] += 1\n",
        "                        sentence_topic[wi] = new_topic\n",
        "\n",
        "            if self.verbose:\n",
        "                ll = self.log_likelihood()\n",
        "                logger.info('[ITER] %d,\\telapsed time: %.2f\\tlog-likelihood:%.2f', iter, time.time() - tic, ll)\n",
        "\n",
        "    def log_likelihood(self):\n",
        "\n",
        "        ll = self.n_doc * gammaln(self.alpha * self.n_topic)\n",
        "        ll -= self.n_doc * self.n_topic * gammaln(self.alpha)\n",
        "        ll += self.n_topic * gammaln(self.beta * self.n_voca)\n",
        "        ll -= self.n_topic * self.n_voca * gammaln(self.beta)\n",
        "\n",
        "        for di in xrange(self.n_doc):\n",
        "            ll += gammaln(self.DT[di]).sum() - gammaln(self.DT[di].sum())\n",
        "        for ki in xrange(self.n_topic):\n",
        "            ll += gammaln(self.TW[ki]).sum() - gammaln(self.sum_T[ki])\n",
        "\n",
        "        if self.n_class != 1:\n",
        "            ll += (self.n_class - 1) * gammaln(self.gamma * (self.n_class - 1))\n",
        "            ll -= (self.n_class - 1) * self.n_voca * gammaln(self.gamma)\n",
        "            ll += (self.n_class + 2) * gammaln(self.eta * (self.n_class + 2))\n",
        "            ll -= (self.n_class + 2) * (self.n_class + 2) * gammaln(self.eta)\n",
        "\n",
        "            for ci in xrange(1, self.n_class):\n",
        "                ll += gammaln(self.CW[ci]).sum() - gammaln(self.sum_C[ci])\n",
        "            for ci in xrange(self.n_class + 2):\n",
        "                ll += gammaln(self.T[ci]).sum() - gammaln(self.T[ci].sum())\n",
        "\n",
        "        return ll"
      ],
      "execution_count": 22,
      "outputs": []
    },
    {
      "cell_type": "code",
      "metadata": {
        "id": "skpYgq5WuR5X"
      },
      "source": [
        "def get_reuters_token_list_by_sentence(num_doc,ip):\n",
        "    corpus = [[i.split() for i in ip ]]\n",
        "    print(corpus)\n",
        "    valid_voca = set(w.lower() for w in nltk.corpus.words.words())\n",
        "    stop = stopwords.words('english')\n",
        "    valid_voca = valid_voca.union(stop)\n",
        "\n",
        "    tmp_corpus = list()\n",
        "    voca_dic = dict()\n",
        "    voca = list()\n",
        "    for doc in corpus:\n",
        "        tmp_doc = list()\n",
        "        for sent in doc:\n",
        "            tmp_sent = list()\n",
        "            for word in sent:\n",
        "                if word in valid_voca:\n",
        "                    tmp_sent.append(word)\n",
        "                    if word not in voca_dic:\n",
        "                        voca_dic[word] = len(voca_dic)\n",
        "                        voca.append(word)\n",
        "            if len(tmp_sent) > 0:\n",
        "                tmp_doc.append(tmp_sent)\n",
        "        if len(tmp_doc) > 0:\n",
        "            tmp_corpus.append(tmp_doc)\n",
        "\n",
        "    # convert token list to word index list\n",
        "    corpus = list()\n",
        "    for doc in tmp_corpus:\n",
        "        new_doc = list()\n",
        "        for sent in doc:\n",
        "            new_sent = list()\n",
        "            for word in sent:\n",
        "                new_sent.append(voca_dic[word])\n",
        "            new_doc.append(new_sent)\n",
        "        corpus.append(new_doc)\n",
        "\n",
        "    return np.array(voca), corpus"
      ],
      "execution_count": 23,
      "outputs": []
    },
    {
      "cell_type": "code",
      "metadata": {
        "colab": {
          "base_uri": "https://localhost:8080/"
        },
        "id": "w01ybZNpuhYi",
        "outputId": "18065a62-8861-4f03-9962-7ea902584843"
      },
      "source": [
        "n_docs = 1000\n",
        "voca, corpus = get_reuters_token_list_by_sentence(n_docs,input_df[\"cleaned_data\"].values)"
      ],
      "execution_count": 24,
      "outputs": [
        {
          "output_type": "stream",
          "text": [
            "[[['name', 'contract'], ['two', 'parties', 'signed', 'contract'], ['date', 'contract'], ['date', 'contract', 'effective'], ['date', 'contract', 'initial', 'term', 'expire'], ['renewal', 'term', 'initial', 'term', 'expires', 'includes', 'automatic', 'extensions', 'unilateral', 'extensions', 'prior', 'notice'], ['notice', 'period', 'required', 'terminate', 'renewal'], ['state', 'country', 'law', 'governs', 'interpretation', 'contract'], ['clause', 'third', 'party', 'gets', 'better', 'terms', 'licensing', 'sale', 'technology', 'goods', 'services', 'described', 'contract', 'buyer', 'technology', 'goods', 'services', 'contract', 'shall', 'entitled', 'better', 'terms'], ['restriction', 'ability', 'party', 'compete', 'counterparty', 'operate', 'certain', 'geography', 'business', 'technology', 'sector'], ['exclusive', 'dealing', 'commitment', 'counterparty', 'includes', 'commitment', 'procure', 'requirements', 'one', 'party', 'certain', 'technology', 'goods', 'services', 'prohibition', 'licensing', 'selling', 'technology', 'goods', 'services', 'third', 'parties', 'prohibition', 'collaborating', 'working', 'parties', 'whether', 'contract', 'contract', 'ends'], ['party', 'restricted', 'contracting', 'soliciting', 'customers', 'partners', 'counterparty', 'whether', 'contract', 'contract', 'ends'], ['category', 'includes', 'exceptions', 'carveouts', 'non', 'compete', 'exclusivity', 'solicit', 'customers'], ['restriction', 'party', 'soliciting', 'hiring', 'employees', 'contractors', 'counterparty', 'whether', 'contract', 'contract', 'ends'], ['requirement', 'party', 'disparage', 'counterparty'], ['party', 'terminate', 'contract', 'without', 'cause', 'solely', 'giving', 'notice', 'allowing', 'waiting', 'period', 'expire'], ['clause', 'granting', 'one', 'party', 'right', 'first', 'refusal', 'right', 'first', 'offer', 'right', 'first', 'negotiation', 'purchase', 'license', 'market', 'distribute', 'equity', 'interest', 'technology', 'assets', 'products', 'services'], ['one', 'party', 'right', 'terminate', 'consent', 'notice', 'required', 'counterparty', 'party', 'undergoes', 'change', 'control', 'merger', 'stock', 'sale', 'transfer', 'substantially', 'assets', 'business', 'assignment', 'operation', 'law'], ['consent', 'notice', 'required', 'party', 'contract', 'assigned', 'third', 'party'], ['one', 'party', 'required', 'share', 'revenue', 'profit', 'counterparty', 'technology', 'goods', 'services'], ['restriction', 'ability', 'party', 'raise', 'reduce', 'prices', 'technology', 'goods', 'services', 'provided'], ['fee', 'increase', 'consent', 'requirement', 'etc', 'one', 'party', 'use', 'product', 'services', 'exceeds', 'certain', 'threshold'], ['intellectual', 'property', 'created', 'one', 'party', 'become', 'property', 'counterparty', 'either', 'per', 'terms', 'contract', 'upon', 'occurrence', 'certain', 'events'], ['clause', 'providing', 'joint', 'shared', 'ownership', 'intellectual', 'property', 'parties', 'contract'], ['contract', 'contain', 'license', 'granted', 'one', 'party', 'counterparty'], ['contract', 'limit', 'ability', 'party', 'transfer', 'license', 'granted', 'third', 'party'], ['contract', 'contain', 'license', 'grant', 'affiliates', 'licensor', 'includes', 'intellectual', 'property', 'affiliates', 'licensor'], ['contract', 'contain', 'license', 'grant', 'licensee', 'incl', 'sublicensor', 'affiliates', 'licensee', 'sublicensor'], ['clause', 'granting', 'one', 'party', 'enterprise', 'eat', 'unlimited', 'usage', 'license'], ['contract', 'contain', 'license', 'grant', 'irrevocable', 'perpetual'], ['one', 'party', 'required', 'deposit', 'source', 'code', 'escrow', 'third', 'party', 'released', 'counterparty', 'upon', 'occurrence', 'certain', 'events', 'bankruptcy', 'insolvency', 'etc'], ['party', 'subject', 'obligations', 'termination', 'expiration', 'contract', 'including', 'post', 'termination', 'transition', 'payment', 'transfer', 'ip', 'wind', 'last', 'buy', 'similar', 'commitments'], ['party', 'right', 'audit', 'books', 'records', 'physical', 'locations', 'counterparty', 'ensure', 'compliance', 'contract'], ['party', 'liability', 'uncapped', 'upon', 'breach', 'obligation', 'contract', 'also', 'includes', 'uncap', 'liability', 'particular', 'type', 'breach', 'ip', 'infringement', 'breach', 'confidentiality', 'obligation'], ['contract', 'include', 'cap', 'liability', 'upon', 'breach', 'party', 'obligation', 'includes', 'time', 'limitation', 'counterparty', 'bring', 'claims', 'maximum', 'amount', 'recovery'], ['contract', 'contain', 'clause', 'would', 'award', 'either', 'party', 'liquidated', 'damages', 'breach', 'fee', 'upon', 'termination', 'contract', 'termination', 'fee'], ['duration', 'warranty', 'defects', 'errors', 'technology', 'products', 'services', 'provided', 'contract'], ['requirement', 'insurance', 'must', 'maintained', 'one', 'party', 'benefit', 'counterparty'], ['party', 'restricted', 'contesting', 'validity', 'counterparty', 'ownership', 'intellectual', 'property', 'otherwise', 'bringing', 'claim', 'counterparty', 'matters', 'unrelated', 'contract'], ['non', 'contracting', 'party', 'beneficiary', 'clauses', 'contract', 'therefore', 'enforce', 'rights', 'contracting', 'party']]]\n"
          ],
          "name": "stdout"
        }
      ]
    },
    {
      "cell_type": "code",
      "metadata": {
        "id": "pnce5_ZduiCM",
        "colab": {
          "base_uri": "https://localhost:8080/"
        },
        "outputId": "8bf8ba76-9d96-41ce-bb60-b76b63359362"
      },
      "source": [
        "\n",
        "n_voca = len(voca)\n",
        "n_topic = 2\n",
        "n_class = 2\n",
        "max_iter = 100\n",
        "\n",
        "import time\n",
        "# starting time\n",
        "start = time.time()\n",
        "for i in range(10):\n",
        "    print(i)\n",
        "# sleeping for 1 sec to get 10 sec runtime\n",
        "time.sleep(1)\n",
        "\n",
        "model = HMM_LDA(len(corpus), n_voca, n_topic, n_class, alpha=0.1, beta=0.1, gamma=0.1, eta=0.1, verbose=False)\n",
        "model.fit(corpus, max_iter=max_iter)\n",
        "\n",
        "# end time\n",
        "end = time.time()\n",
        "\n",
        "# total time taken\n",
        "print(f\"Runtime of the program is {end - start}\")"
      ],
      "execution_count": 29,
      "outputs": [
        {
          "output_type": "stream",
          "text": [
            "0\n",
            "1\n",
            "2\n",
            "3\n",
            "4\n",
            "5\n",
            "6\n",
            "7\n",
            "8\n",
            "9\n",
            "Runtime of the program is 4.099103927612305\n"
          ],
          "name": "stdout"
        }
      ]
    },
    {
      "cell_type": "code",
      "metadata": {
        "id": "8UvIYFCQu9Yw"
      },
      "source": [
        "def get_top_words(topic_word_matrix, vocab, topic, n_words=2):\n",
        "    if not isinstance(vocab, np.ndarray):\n",
        "        vocab = np.array(vocab)\n",
        "    top_words = vocab[topic_word_matrix[topic].argsort()[::-1][:n_words]]\n",
        "    return top_words"
      ],
      "execution_count": 26,
      "outputs": []
    },
    {
      "cell_type": "code",
      "metadata": {
        "colab": {
          "base_uri": "https://localhost:8080/"
        },
        "id": "39n_ytFHvB1E",
        "outputId": "2d3cac04-7661-4998-ab06-b730dc3dad38"
      },
      "source": [
        "for ti in range(n_topic):\n",
        "    top_words = get_top_words(model.TW, voca, ti, n_words=10)\n",
        "    print('Topic', ti ,': ', ','.join(top_words))"
      ],
      "execution_count": 27,
      "outputs": [
        {
          "output_type": "stream",
          "text": [
            "Topic 0 :  goods,code,technology,upon,physical,buyer,right,waiting,raise,wind\n",
            "Topic 1 :  profit,restricted,buy,last,geography,business,post,exclusive,subject,assets\n"
          ],
          "name": "stdout"
        }
      ]
    },
    {
      "cell_type": "markdown",
      "metadata": {
        "id": "434ZvrxZzvVP"
      },
      "source": [
        "Supervised LDA TOPIC MODELLING"
      ]
    },
    {
      "cell_type": "code",
      "metadata": {
        "colab": {
          "base_uri": "https://localhost:8080/"
        },
        "id": "igQ0dVRbzumf",
        "outputId": "757b5b07-491c-4fb8-8ff2-bac964209c36"
      },
      "source": [
        "!pip install pymc"
      ],
      "execution_count": 43,
      "outputs": [
        {
          "output_type": "stream",
          "text": [
            "Requirement already satisfied: pymc in /usr/local/lib/python3.7/dist-packages (2.3.8)\n"
          ],
          "name": "stdout"
        }
      ]
    },
    {
      "cell_type": "code",
      "metadata": {
        "id": "QGnSm_0G1qOu"
      },
      "source": [
        "from __future__ import print_function\n",
        "\n",
        "import numpy as np\n",
        "from scipy.special import gammaln\n",
        "from scipy.stats import norm\n",
        "from numpy.linalg import solve\n",
        "from six.moves import xrange\n",
        "\n",
        "import numpy as np\n",
        "\n",
        "\n",
        "import numpy as np\n",
        "\n",
        "from six.moves import xrange\n",
        "\n",
        "\n",
        "def sampling_from_dist(prob):\n",
        "    \"\"\" Sample index from a list of unnormalised probability distribution\n",
        "        same as np.random.multinomial(1, prob/np.sum(prob)).argmax()\n",
        "    Parameters\n",
        "    ----------\n",
        "    prob: ndarray\n",
        "        array of unnormalised probability distribution\n",
        "    Returns\n",
        "    -------\n",
        "    new_topic: return a sampled index\n",
        "    \"\"\"\n",
        "    thr = prob.sum() * np.random.rand()\n",
        "    new_topic = 0\n",
        "    tmp = prob[new_topic]\n",
        "    while tmp < thr:\n",
        "        new_topic += 1\n",
        "        tmp += prob[new_topic]\n",
        "    return new_topic\n",
        "\n",
        "\n",
        "def sampling_from_dict(prob):\n",
        "    \"\"\" sample key from dictionary `prob` where values are unnormalised probability distribution\n",
        "    Parameters\n",
        "    ----------\n",
        "    prob: dict\n",
        "        key = topic\n",
        "        value = unnormalised probability of the topic\n",
        "    Returns\n",
        "    -------\n",
        "    key: int\n",
        "        sampled key\n",
        "    \"\"\"\n",
        "    prob_sum = sum(prob.values())\n",
        "\n",
        "    thr = prob_sum * np.random.rand()\n",
        "    tmp = 0\n",
        "    for key, p in prob.items():\n",
        "        tmp += p\n",
        "        if tmp < thr:\n",
        "            new_topic = key\n",
        "    return new_topic\n",
        "\n",
        "\n",
        "def isfloat(value):\n",
        "    \"\"\"\n",
        "    Check the value is convertable to float value\n",
        "    \"\"\"\n",
        "    try:\n",
        "        float(value)\n",
        "        return True\n",
        "    except ValueError:\n",
        "        return False\n",
        "\n",
        "\n",
        "def read_voca(path):\n",
        "    \"\"\"\n",
        "    open file from path and read each line to return the word list\n",
        "    \"\"\"\n",
        "    with open(path, 'r') as f:\n",
        "        return [word.strip() for word in f.readlines()]\n",
        "\n",
        "\n",
        "def word_cnt_to_bow_list(word_ids, word_cnt):\n",
        "    corpus_list = list()\n",
        "    for di in xrange(len(word_ids)):\n",
        "        doc_list = list()\n",
        "        for wi in xrange(len(word_ids[di])):\n",
        "            word = word_ids[di][wi]\n",
        "            for c in xrange(word_cnt[di][wi]):\n",
        "                doc_list.append(word)\n",
        "        corpus_list.append(doc_list)\n",
        "    return corpus_list\n",
        "\n",
        "\n",
        "def log_normalize(log_prob_vector):\n",
        "    \"\"\"\n",
        "    returns a probability vector of log probability vector\n",
        "    \"\"\"\n",
        "    max_v = log_prob_vector.max()\n",
        "    log_prob_vector += max_v\n",
        "    log_prob_vector = np.exp(log_prob_vector)\n",
        "    log_prob_vector /= log_prob_vector.sum()\n",
        "    return log_prob_vector\n",
        "\n",
        "\n",
        "def convert_cnt_to_list(word_ids, word_cnt):\n",
        "    corpus = list()\n",
        "\n",
        "    for di in xrange(len(word_ids)):\n",
        "        doc = list()\n",
        "        doc_ids = word_ids[di]\n",
        "        doc_cnt = word_cnt[di]\n",
        "        for wi in xrange(len(doc_ids)):\n",
        "            word_id = doc_ids[wi]\n",
        "            for si in xrange(doc_cnt[wi]):\n",
        "                doc.append(word_id)\n",
        "        corpus.append(doc)\n",
        "    return corpus\n",
        "\n",
        "\n",
        "def write_top_words(topic_word_matrix, vocab, filepath, n_words=20, delimiter=',', newline='\\n'):\n",
        "    with open(filepath, 'w') as f:\n",
        "        for ti in xrange(topic_word_matrix.shape[0]):\n",
        "            top_words = vocab[topic_word_matrix[ti, :].argsort()[::-1][:n_words]]\n",
        "            f.write('%d' % (ti))\n",
        "            for word in top_words:\n",
        "                f.write(delimiter + word)\n",
        "            f.write(newline)\n",
        "\n",
        "\n",
        "def get_top_words(topic_word_matrix, vocab, topic, n_words=20):\n",
        "    if not isinstance(vocab, np.ndarray):\n",
        "        vocab = np.array(vocab)\n",
        "    top_words = vocab[topic_word_matrix[topic].argsort()[::-1][:n_words]]\n",
        "    return top_words\n",
        "\n",
        "\n",
        "class BaseTopicModel(object):\n",
        "    \"\"\"\n",
        "    Attributes\n",
        "    ----------\n",
        "    n_doc: int\n",
        "        the number of total documents in the corpus\n",
        "    n_voca: int\n",
        "        the vocabulary size of the corpus\n",
        "    verbose: boolean\n",
        "        if True, print each iteration step while inference.\n",
        "    \"\"\"\n",
        "    def __init__(self, n_doc, n_voca, **kwargs):\n",
        "        self.n_doc = n_doc\n",
        "        self.n_voca = n_voca\n",
        "        self.verbose = kwargs.pop('verbose', True)\n",
        "\n",
        "\n",
        "class BaseGibbsParamTopicModel(BaseTopicModel):\n",
        "    \"\"\" Base class of parametric topic models with Gibbs sampling inference\n",
        "    Attributes\n",
        "    ----------\n",
        "    n_topic: int\n",
        "        a number of topics to be inferred through the Gibbs sampling\n",
        "    TW: ndarray, shape (n_voca, n_topic)\n",
        "        word-topic matrix, keeps the number of assigned word tokens for each word-topic pair\n",
        "    DT: ndarray, shape (n_doc, n_topic)\n",
        "        document-topic matrix, keeps the number of assigned word tokens for each document-topic pair\n",
        "    sum_T: ndarray, shape (n_topic)\n",
        "        number of word tokens assigned for each topic\n",
        "    alpha: float\n",
        "        symmetric parameter of Dirichlet prior for document-topic distribution\n",
        "    beta: float\n",
        "        symmetric parameter of Dirichlet prior for topic-word distribution\n",
        "    \"\"\"\n",
        "\n",
        "    def __init__(self, n_doc, n_voca, n_topic, alpha, beta, **kwargs):\n",
        "        super(BaseGibbsParamTopicModel, self).__init__(n_doc=n_doc, n_voca=n_voca, **kwargs)\n",
        "        self.n_topic = n_topic\n",
        "        self.TW = np.zeros([self.n_topic, self.n_voca])\n",
        "        self.DT = np.zeros([self.n_doc, self.n_topic])\n",
        "        self.sum_T = np.zeros(self.n_topic)\n",
        "\n",
        "        self.alpha = alpha\n",
        "        self.beta = beta\n",
        "\n",
        "        self.topic_assignment = list()\n",
        "\n",
        "        self.TW += self.beta\n",
        "        self.sum_T += self.beta * self.n_voca\n",
        "        self.DT += self.alpha\n",
        "\n",
        "class SupervisedLDA(BaseGibbsParamTopicModel):\n",
        "    \"\"\" Supervised LDA with Gaussian response variables\n",
        "    Attributes\n",
        "    ----------\n",
        "    eta: ndarray, shape (n_topic)\n",
        "        coefficient parameter of Gaussian distribution where the mean is np.dot(z_bar.T, eta)\n",
        "    sigma: float\n",
        "        variance parameter of Gaussian output variables\n",
        "    \"\"\"\n",
        "\n",
        "    def __init__(self, n_doc, n_voca, n_topic, alpha=0.1, beta=0.01, sigma=1., **kwargs):\n",
        "        super(SupervisedLDA, self).__init__(n_doc=n_doc, n_voca=n_voca, n_topic=n_topic, alpha=alpha, beta=beta,\n",
        "                                                 **kwargs)\n",
        "        self.eta = np.random.normal(scale=5, size=self.n_topic)\n",
        "        self.sigma = sigma\n",
        "\n",
        "    def random_init(self, docs):\n",
        "        \"\"\"\n",
        "        Random initialization of topics\n",
        "        Parameters\n",
        "        ----------\n",
        "        docs:\n",
        "        \"\"\"\n",
        "        for di in xrange(len(docs)):\n",
        "            doc = docs[di]\n",
        "            topics = np.random.randint(self.n_topic, size=len(doc))\n",
        "            self.topic_assignment.append(topics)\n",
        "\n",
        "            for wi in xrange(len(doc)):\n",
        "                topic = topics[wi]\n",
        "                word = doc[wi]\n",
        "                self.TW[topic, word] += 1\n",
        "                self.sum_T[topic] += 1\n",
        "                self.DT[di, topic] += 1\n",
        "\n",
        "    def fit(self, docs, responses, max_iter=100):\n",
        "        \"\"\" Stochastic Expectation Maximisation algorithm\n",
        "        \"\"\"\n",
        "        self.random_init(docs)\n",
        "        for iteration in xrange(max_iter):\n",
        "\n",
        "            for di in xrange(len(docs)):\n",
        "                doc = docs[di]\n",
        "                for wi in xrange(len(doc)):\n",
        "                    word = doc[wi]\n",
        "                    old_topic = self.topic_assignment[di][wi]\n",
        "\n",
        "                    self.TW[old_topic, word] -= 1\n",
        "                    self.sum_T[old_topic] -= 1\n",
        "                    self.DT[di, old_topic] -= 1\n",
        "\n",
        "                    z_bar = np.zeros([self.n_topic, self.n_topic]) + self.DT[di, :] + np.identity(self.n_topic)\n",
        "                    # this seems more straightforward than z_bar/z_bar.sum(1)\n",
        "                    z_bar /= self.DT[di, :].sum() + 1\n",
        "\n",
        "                    # update\n",
        "                    prob = (self.TW[:, word]) / (self.sum_T) * (self.DT[di, :]) * np.exp(\n",
        "                        np.negative((responses[di] - np.dot(z_bar, self.eta)) ** 2) / 2 / self.sigma)\n",
        "\n",
        "                    new_topic = sampling_from_dist(prob)\n",
        "\n",
        "                    self.topic_assignment[di][wi] = new_topic\n",
        "                    self.TW[new_topic, word] += 1\n",
        "                    self.sum_T[new_topic] += 1\n",
        "                    self.DT[di, new_topic] += 1\n",
        "\n",
        "            # estimate parameters\n",
        "            z_bar = self.DT / self.DT.sum(1)[:, np.newaxis]  # DxK\n",
        "            self.eta = solve(np.dot(z_bar.T, z_bar), np.dot(z_bar.T, responses))\n",
        "\n",
        "            # compute mean absolute error\n",
        "            mae = np.mean(np.abs(responses - np.dot(z_bar, self.eta)))\n",
        "            #if self.verbose:\n",
        "             #   logger.info('[ITER] %d,\\tMAE:%.2f,\\tlog_likelihood:%.2f', iteration, mae,\n",
        "              #              self.log_likelihood(docs, responses))\n",
        "\n",
        "    def sample_heldout_doc(self, max_iter, heldout_docs):\n",
        "        h_doc_topics = list()\n",
        "        h_doc_topic_sum = np.zeros([len(heldout_docs), self.n_topic]) + self.alpha\n",
        "\n",
        "        # random init\n",
        "        for di in xrange(len(heldout_docs)):\n",
        "            doc = heldout_docs[di]\n",
        "            topics = np.random.randint(self.n_topic, size=len(doc))\n",
        "            h_doc_topics.append(topics)\n",
        "\n",
        "            for wi in xrange(len(doc)):\n",
        "                topic = topics[wi]\n",
        "                h_doc_topic_sum[di, topic] += 1\n",
        "\n",
        "        for iter in xrange(max_iter):\n",
        "            for di in xrange(len(heldout_docs)):\n",
        "                doc = heldout_docs[di]\n",
        "                for wi in xrange(len(doc)):\n",
        "                    word = doc[wi]\n",
        "                    old_topic = h_doc_topics[di][wi]\n",
        "\n",
        "                    h_doc_topic_sum[di, old_topic] -= 1\n",
        "\n",
        "                    # update\n",
        "                    prob = (self.TW[:, word] / self.sum_T) * (self.DT[di, :])\n",
        "\n",
        "                    new_topic = sampling_from_dist(prob)\n",
        "\n",
        "                    h_doc_topics[di][wi] = new_topic\n",
        "                    h_doc_topic_sum[di, new_topic] += 1\n",
        "\n",
        "        return h_doc_topic_sum\n",
        "\n",
        "    def log_likelihood(self, docs, responses):\n",
        "        \"\"\"\n",
        "        likelihood function\n",
        "        \"\"\"\n",
        "        ll = 0\n",
        "\n",
        "        ll += len(docs) * gammaln(self.alpha * self.n_topic)\n",
        "        ll -= len(docs) * self.n_topic * gammaln(self.alpha)\n",
        "        ll += self.n_topic * gammaln(self.beta * self.n_voca)\n",
        "        ll -= self.n_topic * self.n_voca * gammaln(self.beta)\n",
        "\n",
        "        for di in xrange(self.n_doc):\n",
        "            ll += gammaln(self.DT[di, :]).sum() - gammaln(self.DT[di, :].sum())\n",
        "            z_bar = self.DT[di] / np.sum(self.DT[di])\n",
        "            mean = np.dot(z_bar, self.eta)\n",
        "            ll += norm.logpdf(responses[di], mean, np.sqrt(self.sigma))\n",
        "        for ki in xrange(self.n_topic):\n",
        "            ll += gammaln(self.TW[ki, :]).sum() - gammaln(self.TW[ki, :].sum())\n",
        "\n",
        "        return ll\n"
      ],
      "execution_count": 44,
      "outputs": []
    },
    {
      "cell_type": "code",
      "metadata": {
        "id": "a5xq7jfYzrut"
      },
      "source": [
        "training_data = input_df['cleaned_data'].values\n"
      ],
      "execution_count": 45,
      "outputs": []
    },
    {
      "cell_type": "code",
      "metadata": {
        "colab": {
          "base_uri": "https://localhost:8080/"
        },
        "id": "7N2nxhQm0g0R",
        "outputId": "3f209187-50fb-4a62-a01b-374552459844"
      },
      "source": [
        "import nltk\n",
        "from nltk import word_tokenize\n",
        "from nltk.corpus import reuters, stopwords\n",
        "from six.moves import xrange\n",
        "from collections import Counter\n",
        "nltk.download('words')\n",
        "\n",
        "def get_ids_cnt(corpus, max_voca=9999999, remove_top_n=5):\n",
        "    voca = set(w.lower() for w in nltk.corpus.words.words())\n",
        "    stop = stopwords.words('english')\n",
        "\n",
        "    docs = list()\n",
        "    freq = Counter()\n",
        "\n",
        "    for doc in corpus:\n",
        "        if isinstance(doc, str):\n",
        "            doc = word_tokenize(doc)\n",
        "        elif not hasattr(doc, '__iter__'):\n",
        "            raise Exception('Corpus is not a list of string or token list')\n",
        "\n",
        "        # remove word using stopword list or single character word\n",
        "        doc = [word.lower() for word in doc if word.lower() in voca and word.lower() not in stop and len(word) != 1]\n",
        "        freq.update(doc)\n",
        "        docs.append(doc)\n",
        "\n",
        "    voca = [key for iter, (key, val) in enumerate(freq.most_common(max_voca)) if iter >= remove_top_n]\n",
        "\n",
        "    voca_dic = dict()\n",
        "    voca_list = list()\n",
        "    for word in voca:\n",
        "        voca_dic[word] = len(voca_dic)\n",
        "        voca_list.append(word)\n",
        "\n",
        "    doc_ids = list()\n",
        "    doc_cnt = list()\n",
        "\n",
        "    for doc in docs:\n",
        "        words = set(doc)\n",
        "        ids = np.array([int(voca_dic[word]) for word in words if word in voca_dic])\n",
        "        cnt = np.array([int(doc.count(word)) for word in words if word in voca_dic])\n",
        "\n",
        "        doc_ids.append(ids)\n",
        "        doc_cnt.append(cnt)\n",
        "\n",
        "    return np.array(voca_list), doc_ids, doc_cnt"
      ],
      "execution_count": 46,
      "outputs": [
        {
          "output_type": "stream",
          "text": [
            "[nltk_data] Downloading package words to /root/nltk_data...\n",
            "[nltk_data]   Package words is already up-to-date!\n"
          ],
          "name": "stdout"
        }
      ]
    },
    {
      "cell_type": "code",
      "metadata": {
        "id": "_WopSyj11GKJ"
      },
      "source": [
        "\n",
        "voca, word_ids, word_cnt = get_ids_cnt(training_data)"
      ],
      "execution_count": 47,
      "outputs": []
    },
    {
      "cell_type": "code",
      "metadata": {
        "id": "ribBHQRo1Jzc"
      },
      "source": [
        "def convert_cnt_to_list(word_ids, word_cnt):\n",
        "    corpus = list()\n",
        "\n",
        "    for di in xrange(len(word_ids)):\n",
        "        doc = list()\n",
        "        doc_ids = word_ids[di]\n",
        "        doc_cnt = word_cnt[di]\n",
        "        for wi in xrange(len(doc_ids)):\n",
        "            word_id = doc_ids[wi]\n",
        "            for si in xrange(doc_cnt[wi]):\n",
        "                doc.append(word_id)\n",
        "        corpus.append(doc)\n",
        "    return corpus"
      ],
      "execution_count": 48,
      "outputs": []
    },
    {
      "cell_type": "code",
      "metadata": {
        "id": "y8OmtMWc1P9T"
      },
      "source": [
        "corpus = convert_cnt_to_list(word_ids, word_cnt)\n"
      ],
      "execution_count": 49,
      "outputs": []
    },
    {
      "cell_type": "code",
      "metadata": {
        "id": "XplvFM581UJs"
      },
      "source": [
        "\n",
        "n_doc = len(corpus)\n",
        "n_voca = voca.size"
      ],
      "execution_count": 50,
      "outputs": []
    },
    {
      "cell_type": "code",
      "metadata": {
        "colab": {
          "base_uri": "https://localhost:8080/"
        },
        "id": "f4jv7vhy10BE",
        "outputId": "d1244555-43cb-4c0b-8fca-fa869f317e6d"
      },
      "source": [
        "\n",
        "n_doc"
      ],
      "execution_count": 51,
      "outputs": [
        {
          "output_type": "execute_result",
          "data": {
            "text/plain": [
              "40"
            ]
          },
          "metadata": {
            "tags": []
          },
          "execution_count": 51
        }
      ]
    },
    {
      "cell_type": "code",
      "metadata": {
        "id": "LSLeHOBn124b"
      },
      "source": [
        "\n",
        "import random\n",
        "#fit artificial sevearity\n",
        "sevearity = [random.randint(0,10) for i in range(0,40)]"
      ],
      "execution_count": 53,
      "outputs": []
    },
    {
      "cell_type": "code",
      "metadata": {
        "id": "lsFFhm622DQm",
        "colab": {
          "base_uri": "https://localhost:8080/"
        },
        "outputId": "d2deaae7-b879-40c1-c08e-8bf4c28b5075"
      },
      "source": [
        "import time\n",
        "# starting time\n",
        "start = time.time()\n",
        "for i in range(10):\n",
        "    print(i)\n",
        "# sleeping for 1 sec to get 10 sec runtime\n",
        "time.sleep(1)\n",
        "\n",
        "model = SupervisedLDA(n_doc, n_voca, 10, sigma=0.01)\n",
        "model.fit(corpus, sevearity)\n",
        "\n",
        "# end time\n",
        "end = time.time()\n",
        "\n",
        "# total time taken\n",
        "print(f\"Runtime of the program is {end - start}\")\n"
      ],
      "execution_count": 54,
      "outputs": [
        {
          "output_type": "stream",
          "text": [
            "0\n",
            "1\n",
            "2\n",
            "3\n",
            "4\n",
            "5\n",
            "6\n",
            "7\n",
            "8\n",
            "9\n",
            "Runtime of the program is 3.181098461151123\n"
          ],
          "name": "stdout"
        }
      ]
    },
    {
      "cell_type": "code",
      "metadata": {
        "colab": {
          "base_uri": "https://localhost:8080/"
        },
        "id": "C-JGjGqP2H5W",
        "outputId": "eb012eba-ccf0-4897-9b59-96cda5ef8759"
      },
      "source": [
        "for ti in model.eta.argsort():\n",
        "    top_words = get_top_words(model.TW, voca, ti, n_words=10)\n",
        "    print('Eta', model.eta[ti] ,'\\nTopic', ti ,':\\t', ','.join(top_words))\n"
      ],
      "execution_count": 55,
      "outputs": [
        {
          "output_type": "stream",
          "text": [
            "Eta -17.405016066718954 \n",
            "Topic 2 :\t obligation,liability,also,amount,compete,period,uncapped,uncap,confidentiality,requirement\n",
            "Eta -10.46885389089055 \n",
            "Topic 4 :\t intellectual,award,become,assets,non,control,change,consent,sale,also\n",
            "Eta -5.068466654477779 \n",
            "Topic 8 :\t beneficiary,unrelated,clause,assigned,term,shall,raise,third,market,post\n",
            "Eta -0.8301844142165984 \n",
            "Topic 7 :\t contain,enterprise,whether,usage,unlimited,giving,restriction,cause,state,subject\n",
            "Eta 0.8282405252011527 \n",
            "Topic 1 :\t buy,compete,last,soliciting,infringement,revenue,assignment,intellectual,particular,post\n",
            "Eta 2.1298931711658984 \n",
            "Topic 9 :\t ability,licensee,bankruptcy,payment,eat,occurrence,grant,deposit,expiration,disparage\n",
            "Eta 3.61322328341909 \n",
            "Topic 3 :\t notice,right,law,initial,consent,perpetual,date,merger,stock,operation\n",
            "Eta 8.043068382607485 \n",
            "Topic 0 :\t goods,certain,upon,termination,first,fee,property,right,breach,term\n",
            "Eta 12.269823001589954 \n",
            "Topic 6 :\t notice,third,transfer,terminate,expire,licensor,ownership,prohibition,grant,restricted\n",
            "Eta 56.21696131623379 \n",
            "Topic 5 :\t clause,breach,type,transition,prohibition,waiting,ensure,business,commitment,insolvency\n"
          ],
          "name": "stdout"
        }
      ]
    },
    {
      "cell_type": "markdown",
      "metadata": {
        "id": "yDCxqr1U2eMs"
      },
      "source": [
        "Bi-Term TOPIC MODELLING"
      ]
    },
    {
      "cell_type": "code",
      "metadata": {
        "colab": {
          "base_uri": "https://localhost:8080/"
        },
        "id": "IAsxqxGL2XIO",
        "outputId": "923bc23e-0b78-4b6b-b011-a97e32449c8a"
      },
      "source": [
        "!pip install biterm\n"
      ],
      "execution_count": 56,
      "outputs": [
        {
          "output_type": "stream",
          "text": [
            "Collecting biterm\n",
            "\u001b[?25l  Downloading https://files.pythonhosted.org/packages/36/ca/5a43511e6ea8ca02cc9e8be1b8898ad79b140c055d4400342dc210ba23bb/biterm-0.1.5.tar.gz (79kB)\n",
            "\r\u001b[K     |████▏                           | 10kB 15.2MB/s eta 0:00:01\r\u001b[K     |████████▎                       | 20kB 18.7MB/s eta 0:00:01\r\u001b[K     |████████████▍                   | 30kB 10.6MB/s eta 0:00:01\r\u001b[K     |████████████████▌               | 40kB 8.9MB/s eta 0:00:01\r\u001b[K     |████████████████████▋           | 51kB 5.5MB/s eta 0:00:01\r\u001b[K     |████████████████████████▊       | 61kB 5.9MB/s eta 0:00:01\r\u001b[K     |████████████████████████████▉   | 71kB 6.0MB/s eta 0:00:01\r\u001b[K     |████████████████████████████████| 81kB 3.4MB/s \n",
            "\u001b[?25hRequirement already satisfied: numpy in /usr/local/lib/python3.7/dist-packages (from biterm) (1.19.5)\n",
            "Requirement already satisfied: tqdm in /usr/local/lib/python3.7/dist-packages (from biterm) (4.41.1)\n",
            "Requirement already satisfied: cython in /usr/local/lib/python3.7/dist-packages (from biterm) (0.29.22)\n",
            "Requirement already satisfied: nltk in /usr/local/lib/python3.7/dist-packages (from biterm) (3.2.5)\n",
            "Requirement already satisfied: six in /usr/local/lib/python3.7/dist-packages (from nltk->biterm) (1.15.0)\n",
            "Building wheels for collected packages: biterm\n",
            "  Building wheel for biterm (setup.py) ... \u001b[?25l\u001b[?25hdone\n",
            "  Created wheel for biterm: filename=biterm-0.1.5-cp37-cp37m-linux_x86_64.whl size=195788 sha256=7db6ab5ab6a9bf9d359b303d9a7036badf4c8b13c6c888b9e1f34f7ce8b3bce2\n",
            "  Stored in directory: /root/.cache/pip/wheels/86/04/10/231fb1d39d86ab58c2683fd3d4fe8415a5bc284ba8a20fd638\n",
            "Successfully built biterm\n",
            "Installing collected packages: biterm\n",
            "Successfully installed biterm-0.1.5\n"
          ],
          "name": "stdout"
        }
      ]
    },
    {
      "cell_type": "code",
      "metadata": {
        "id": "TFtt-QEF2xUj"
      },
      "source": [
        "from biterm.utility import vec_to_biterms\n",
        "from biterm.cbtm import oBTM\n",
        "import numpy as np\n",
        "def BITERM_MODEL(tf, vectorizer):\n",
        "  vocab = np.array(vectorizer.get_feature_names())\n",
        "  biterms = vec_to_biterms(tf)\n",
        "  btm = oBTM(num_topics=20, V= vocab)\n",
        "  topics = btm.fit_transform(biterms, iterations=100)\n",
        "  return topics\n",
        "  pass"
      ],
      "execution_count": 57,
      "outputs": []
    },
    {
      "cell_type": "code",
      "metadata": {
        "colab": {
          "base_uri": "https://localhost:8080/"
        },
        "id": "-FsCVBLi2jPg",
        "outputId": "0f0b4792-45a4-4e1b-c623-0953008d767b"
      },
      "source": [
        "import sys\n",
        "sys.path.insert(1,'/content/')\n",
        "#import AlgorithmBITERM as btm_model\n",
        "\n",
        "import time\n",
        "# starting time\n",
        "start = time.time()\n",
        "for i in range(10):\n",
        "    print(i)\n",
        "# sleeping for 1 sec to get 10 sec runtime\n",
        "time.sleep(1)\n",
        "\n",
        "topics = BITERM_MODEL(tf,vectorizer)\n",
        "\n",
        "# end time\n",
        "end = time.time()\n",
        "\n",
        "# total time taken\n",
        "print(f\"Runtime of the program is {end - start}\")\n"
      ],
      "execution_count": 58,
      "outputs": [
        {
          "output_type": "stream",
          "text": [
            "0\n",
            "1\n",
            "2\n",
            "3\n",
            "4\n",
            "5\n",
            "6\n",
            "7\n",
            "8\n",
            "9\n"
          ],
          "name": "stdout"
        },
        {
          "output_type": "stream",
          "text": [
            "100%|██████████| 100/100 [00:00<00:00, 1453.85it/s]"
          ],
          "name": "stderr"
        },
        {
          "output_type": "stream",
          "text": [
            "Runtime of the program is 1.083256721496582\n"
          ],
          "name": "stdout"
        },
        {
          "output_type": "stream",
          "text": [
            "\n",
            "/usr/local/lib/python3.7/dist-packages/ipykernel_launcher.py:8: RuntimeWarning: invalid value encountered in true_divide\n",
            "  \n"
          ],
          "name": "stderr"
        }
      ]
    },
    {
      "cell_type": "code",
      "metadata": {
        "colab": {
          "base_uri": "https://localhost:8080/"
        },
        "id": "6V7280aR3CMj",
        "outputId": "acde5353-1fe8-4398-ae18-ad7ecdcfaab3"
      },
      "source": [
        "topics\n"
      ],
      "execution_count": 59,
      "outputs": [
        {
          "output_type": "execute_result",
          "data": {
            "text/plain": [
              "array([[       nan,        nan,        nan,        nan,        nan,\n",
              "               nan,        nan,        nan,        nan,        nan,\n",
              "               nan,        nan,        nan,        nan,        nan,\n",
              "               nan,        nan,        nan,        nan,        nan],\n",
              "       [       nan,        nan,        nan,        nan,        nan,\n",
              "               nan,        nan,        nan,        nan,        nan,\n",
              "               nan,        nan,        nan,        nan,        nan,\n",
              "               nan,        nan,        nan,        nan,        nan],\n",
              "       [       nan,        nan,        nan,        nan,        nan,\n",
              "               nan,        nan,        nan,        nan,        nan,\n",
              "               nan,        nan,        nan,        nan,        nan,\n",
              "               nan,        nan,        nan,        nan,        nan],\n",
              "       [       nan,        nan,        nan,        nan,        nan,\n",
              "               nan,        nan,        nan,        nan,        nan,\n",
              "               nan,        nan,        nan,        nan,        nan,\n",
              "               nan,        nan,        nan,        nan,        nan],\n",
              "       [       nan,        nan,        nan,        nan,        nan,\n",
              "               nan,        nan,        nan,        nan,        nan,\n",
              "               nan,        nan,        nan,        nan,        nan,\n",
              "               nan,        nan,        nan,        nan,        nan],\n",
              "       [       nan,        nan,        nan,        nan,        nan,\n",
              "               nan,        nan,        nan,        nan,        nan,\n",
              "               nan,        nan,        nan,        nan,        nan,\n",
              "               nan,        nan,        nan,        nan,        nan],\n",
              "       [       nan,        nan,        nan,        nan,        nan,\n",
              "               nan,        nan,        nan,        nan,        nan,\n",
              "               nan,        nan,        nan,        nan,        nan,\n",
              "               nan,        nan,        nan,        nan,        nan],\n",
              "       [       nan,        nan,        nan,        nan,        nan,\n",
              "               nan,        nan,        nan,        nan,        nan,\n",
              "               nan,        nan,        nan,        nan,        nan,\n",
              "               nan,        nan,        nan,        nan,        nan],\n",
              "       [0.02777778, 0.02777778, 0.02777778, 0.02777778, 0.02777778,\n",
              "        0.02777778, 0.02777778, 0.11111111, 0.02777778, 0.02777778,\n",
              "        0.02777778, 0.02777778, 0.02777778, 0.02777778, 0.02777778,\n",
              "        0.38888889, 0.02777778, 0.02777778, 0.02777778, 0.02777778],\n",
              "       [       nan,        nan,        nan,        nan,        nan,\n",
              "               nan,        nan,        nan,        nan,        nan,\n",
              "               nan,        nan,        nan,        nan,        nan,\n",
              "               nan,        nan,        nan,        nan,        nan],\n",
              "       [0.02777778, 0.02777778, 0.02777778, 0.02777778, 0.02777778,\n",
              "        0.02777778, 0.02777778, 0.11111111, 0.02777778, 0.02777778,\n",
              "        0.02777778, 0.02777778, 0.02777778, 0.02777778, 0.02777778,\n",
              "        0.38888889, 0.02777778, 0.02777778, 0.02777778, 0.02777778],\n",
              "       [0.02777778, 0.02777778, 0.02777778, 0.02777778, 0.02777778,\n",
              "        0.02777778, 0.02777778, 0.11111111, 0.02777778, 0.02777778,\n",
              "        0.02777778, 0.02777778, 0.02777778, 0.02777778, 0.02777778,\n",
              "        0.38888889, 0.02777778, 0.02777778, 0.02777778, 0.02777778],\n",
              "       [       nan,        nan,        nan,        nan,        nan,\n",
              "               nan,        nan,        nan,        nan,        nan,\n",
              "               nan,        nan,        nan,        nan,        nan,\n",
              "               nan,        nan,        nan,        nan,        nan],\n",
              "       [0.02777778, 0.02777778, 0.02777778, 0.02777778, 0.02777778,\n",
              "        0.02777778, 0.02777778, 0.11111111, 0.02777778, 0.02777778,\n",
              "        0.02777778, 0.02777778, 0.02777778, 0.02777778, 0.02777778,\n",
              "        0.38888889, 0.02777778, 0.02777778, 0.02777778, 0.02777778],\n",
              "       [       nan,        nan,        nan,        nan,        nan,\n",
              "               nan,        nan,        nan,        nan,        nan,\n",
              "               nan,        nan,        nan,        nan,        nan,\n",
              "               nan,        nan,        nan,        nan,        nan],\n",
              "       [0.02777778, 0.02777778, 0.02777778, 0.02777778, 0.02777778,\n",
              "        0.02777778, 0.02777778, 0.11111111, 0.02777778, 0.02777778,\n",
              "        0.02777778, 0.02777778, 0.02777778, 0.02777778, 0.02777778,\n",
              "        0.38888889, 0.02777778, 0.02777778, 0.02777778, 0.02777778],\n",
              "       [       nan,        nan,        nan,        nan,        nan,\n",
              "               nan,        nan,        nan,        nan,        nan,\n",
              "               nan,        nan,        nan,        nan,        nan,\n",
              "               nan,        nan,        nan,        nan,        nan],\n",
              "       [       nan,        nan,        nan,        nan,        nan,\n",
              "               nan,        nan,        nan,        nan,        nan,\n",
              "               nan,        nan,        nan,        nan,        nan,\n",
              "               nan,        nan,        nan,        nan,        nan],\n",
              "       [0.02777778, 0.02777778, 0.02777778, 0.02777778, 0.02777778,\n",
              "        0.02777778, 0.02777778, 0.11111111, 0.02777778, 0.02777778,\n",
              "        0.02777778, 0.02777778, 0.02777778, 0.02777778, 0.02777778,\n",
              "        0.38888889, 0.02777778, 0.02777778, 0.02777778, 0.02777778],\n",
              "       [       nan,        nan,        nan,        nan,        nan,\n",
              "               nan,        nan,        nan,        nan,        nan,\n",
              "               nan,        nan,        nan,        nan,        nan,\n",
              "               nan,        nan,        nan,        nan,        nan],\n",
              "       [       nan,        nan,        nan,        nan,        nan,\n",
              "               nan,        nan,        nan,        nan,        nan,\n",
              "               nan,        nan,        nan,        nan,        nan,\n",
              "               nan,        nan,        nan,        nan,        nan],\n",
              "       [       nan,        nan,        nan,        nan,        nan,\n",
              "               nan,        nan,        nan,        nan,        nan,\n",
              "               nan,        nan,        nan,        nan,        nan,\n",
              "               nan,        nan,        nan,        nan,        nan],\n",
              "       [0.02777778, 0.02777778, 0.02777778, 0.02777778, 0.02777778,\n",
              "        0.02777778, 0.02777778, 0.11111111, 0.02777778, 0.02777778,\n",
              "        0.02777778, 0.02777778, 0.02777778, 0.02777778, 0.02777778,\n",
              "        0.38888889, 0.02777778, 0.02777778, 0.02777778, 0.02777778],\n",
              "       [       nan,        nan,        nan,        nan,        nan,\n",
              "               nan,        nan,        nan,        nan,        nan,\n",
              "               nan,        nan,        nan,        nan,        nan,\n",
              "               nan,        nan,        nan,        nan,        nan],\n",
              "       [0.02777778, 0.02777778, 0.02777778, 0.02777778, 0.02777778,\n",
              "        0.02777778, 0.02777778, 0.11111111, 0.02777778, 0.02777778,\n",
              "        0.02777778, 0.02777778, 0.02777778, 0.02777778, 0.02777778,\n",
              "        0.38888889, 0.02777778, 0.02777778, 0.02777778, 0.02777778],\n",
              "       [0.02777778, 0.02777778, 0.02777778, 0.02777778, 0.02777778,\n",
              "        0.02777778, 0.02777778, 0.11111111, 0.02777778, 0.02777778,\n",
              "        0.02777778, 0.02777778, 0.02777778, 0.02777778, 0.02777778,\n",
              "        0.38888889, 0.02777778, 0.02777778, 0.02777778, 0.02777778],\n",
              "       [       nan,        nan,        nan,        nan,        nan,\n",
              "               nan,        nan,        nan,        nan,        nan,\n",
              "               nan,        nan,        nan,        nan,        nan,\n",
              "               nan,        nan,        nan,        nan,        nan],\n",
              "       [       nan,        nan,        nan,        nan,        nan,\n",
              "               nan,        nan,        nan,        nan,        nan,\n",
              "               nan,        nan,        nan,        nan,        nan,\n",
              "               nan,        nan,        nan,        nan,        nan],\n",
              "       [       nan,        nan,        nan,        nan,        nan,\n",
              "               nan,        nan,        nan,        nan,        nan,\n",
              "               nan,        nan,        nan,        nan,        nan,\n",
              "               nan,        nan,        nan,        nan,        nan],\n",
              "       [       nan,        nan,        nan,        nan,        nan,\n",
              "               nan,        nan,        nan,        nan,        nan,\n",
              "               nan,        nan,        nan,        nan,        nan,\n",
              "               nan,        nan,        nan,        nan,        nan],\n",
              "       [       nan,        nan,        nan,        nan,        nan,\n",
              "               nan,        nan,        nan,        nan,        nan,\n",
              "               nan,        nan,        nan,        nan,        nan,\n",
              "               nan,        nan,        nan,        nan,        nan],\n",
              "       [0.02777778, 0.02777778, 0.02777778, 0.02777778, 0.02777778,\n",
              "        0.02777778, 0.02777778, 0.11111111, 0.02777778, 0.02777778,\n",
              "        0.02777778, 0.02777778, 0.02777778, 0.02777778, 0.02777778,\n",
              "        0.38888889, 0.02777778, 0.02777778, 0.02777778, 0.02777778],\n",
              "       [0.02777778, 0.02777778, 0.02777778, 0.02777778, 0.02777778,\n",
              "        0.02777778, 0.02777778, 0.11111111, 0.02777778, 0.02777778,\n",
              "        0.02777778, 0.02777778, 0.02777778, 0.02777778, 0.02777778,\n",
              "        0.38888889, 0.02777778, 0.02777778, 0.02777778, 0.02777778],\n",
              "       [0.02777778, 0.02777778, 0.02777778, 0.02777778, 0.02777778,\n",
              "        0.02777778, 0.02777778, 0.11111111, 0.02777778, 0.02777778,\n",
              "        0.02777778, 0.02777778, 0.02777778, 0.02777778, 0.02777778,\n",
              "        0.38888889, 0.02777778, 0.02777778, 0.02777778, 0.02777778],\n",
              "       [0.02777778, 0.02777778, 0.02777778, 0.02777778, 0.02777778,\n",
              "        0.02777778, 0.02777778, 0.11111111, 0.02777778, 0.02777778,\n",
              "        0.02777778, 0.02777778, 0.02777778, 0.02777778, 0.02777778,\n",
              "        0.38888889, 0.02777778, 0.02777778, 0.02777778, 0.02777778],\n",
              "       [0.02777778, 0.02777778, 0.02777778, 0.02777778, 0.02777778,\n",
              "        0.02777778, 0.02777778, 0.11111111, 0.02777778, 0.02777778,\n",
              "        0.02777778, 0.02777778, 0.02777778, 0.02777778, 0.02777778,\n",
              "        0.38888889, 0.02777778, 0.02777778, 0.02777778, 0.02777778],\n",
              "       [       nan,        nan,        nan,        nan,        nan,\n",
              "               nan,        nan,        nan,        nan,        nan,\n",
              "               nan,        nan,        nan,        nan,        nan,\n",
              "               nan,        nan,        nan,        nan,        nan],\n",
              "       [       nan,        nan,        nan,        nan,        nan,\n",
              "               nan,        nan,        nan,        nan,        nan,\n",
              "               nan,        nan,        nan,        nan,        nan,\n",
              "               nan,        nan,        nan,        nan,        nan],\n",
              "       [0.02777778, 0.02777778, 0.02777778, 0.02777778, 0.02777778,\n",
              "        0.02777778, 0.02777778, 0.11111111, 0.02777778, 0.02777778,\n",
              "        0.02777778, 0.02777778, 0.02777778, 0.02777778, 0.02777778,\n",
              "        0.38888889, 0.02777778, 0.02777778, 0.02777778, 0.02777778],\n",
              "       [0.02777778, 0.02777778, 0.02777778, 0.02777778, 0.02777778,\n",
              "        0.02777778, 0.02777778, 0.11111111, 0.02777778, 0.02777778,\n",
              "        0.02777778, 0.02777778, 0.02777778, 0.02777778, 0.02777778,\n",
              "        0.38888889, 0.02777778, 0.02777778, 0.02777778, 0.02777778]])"
            ]
          },
          "metadata": {
            "tags": []
          },
          "execution_count": 59
        }
      ]
    },
    {
      "cell_type": "code",
      "metadata": {
        "colab": {
          "base_uri": "https://localhost:8080/"
        },
        "id": "QvqTKOxY3FiR",
        "outputId": "21ecb3ad-0ca1-4618-b523-f09726780895"
      },
      "source": [
        "texts= input_df['cleaned_data'].values\n",
        "for i in range(len(texts)):\n",
        "        print(\"{} (topic: {})\".format(texts[i], topics[i].argmax()))"
      ],
      "execution_count": 60,
      "outputs": [
        {
          "output_type": "stream",
          "text": [
            "name contract (topic: 0)\n",
            "two parties signed contract (topic: 0)\n",
            "date contract (topic: 0)\n",
            "date contract effective (topic: 0)\n",
            "date contract initial term expire (topic: 0)\n",
            "renewal term initial term expires includes automatic extensions unilateral extensions prior notice (topic: 0)\n",
            "notice period required terminate renewal (topic: 0)\n",
            "state country law governs interpretation contract (topic: 0)\n",
            "clause third party gets better terms licensing sale technology goods services described contract buyer technology goods services contract shall entitled better terms (topic: 15)\n",
            "restriction ability party compete counterparty operate certain geography business technology sector (topic: 0)\n",
            "exclusive dealing commitment counterparty includes commitment procure requirements one party certain technology goods services prohibition licensing selling technology goods services third parties prohibition collaborating working parties whether contract contract ends (topic: 15)\n",
            "party restricted contracting soliciting customers partners counterparty whether contract contract ends (topic: 15)\n",
            "category includes exceptions carveouts non compete exclusivity solicit customers (topic: 0)\n",
            "restriction party soliciting hiring employees contractors counterparty whether contract contract ends (topic: 15)\n",
            "requirement party disparage counterparty (topic: 0)\n",
            "party terminate contract without cause solely giving notice allowing waiting period expire (topic: 15)\n",
            "clause granting one party right first refusal right first offer right first negotiation purchase license market distribute equity interest technology assets products services (topic: 0)\n",
            "one party right terminate consent notice required counterparty party undergoes change control merger stock sale transfer substantially assets business assignment operation law (topic: 0)\n",
            "consent notice required party contract assigned third party (topic: 15)\n",
            "one party required share revenue profit counterparty technology goods services (topic: 0)\n",
            "restriction ability party raise reduce prices technology goods services provided (topic: 0)\n",
            "fee increase consent requirement etc one party use product services exceeds certain threshold (topic: 0)\n",
            "intellectual property created one party become property counterparty either per terms contract upon occurrence certain events (topic: 15)\n",
            "clause providing joint shared ownership intellectual property parties contract (topic: 0)\n",
            "contract contain license granted one party counterparty (topic: 15)\n",
            "contract limit ability party transfer license granted third party (topic: 15)\n",
            "contract contain license grant affiliates licensor includes intellectual property affiliates licensor (topic: 0)\n",
            "contract contain license grant licensee incl sublicensor affiliates licensee sublicensor (topic: 0)\n",
            "clause granting one party enterprise eat unlimited usage license (topic: 0)\n",
            "contract contain license grant irrevocable perpetual (topic: 0)\n",
            "one party required deposit source code escrow third party released counterparty upon occurrence certain events bankruptcy insolvency etc (topic: 0)\n",
            "party subject obligations termination expiration contract including post termination transition payment transfer ip wind last buy similar commitments (topic: 15)\n",
            "party right audit books records physical locations counterparty ensure compliance contract (topic: 15)\n",
            "party liability uncapped upon breach obligation contract also includes uncap liability particular type breach ip infringement breach confidentiality obligation (topic: 15)\n",
            "contract include cap liability upon breach party obligation includes time limitation counterparty bring claims maximum amount recovery (topic: 15)\n",
            "contract contain clause would award either party liquidated damages breach fee upon termination contract termination fee (topic: 15)\n",
            "duration warranty defects errors technology products services provided contract (topic: 0)\n",
            "requirement insurance must maintained one party benefit counterparty (topic: 0)\n",
            "party restricted contesting validity counterparty ownership intellectual property otherwise bringing claim counterparty matters unrelated contract (topic: 15)\n",
            "non contracting party beneficiary clauses contract therefore enforce rights contracting party (topic: 15)\n"
          ],
          "name": "stdout"
        }
      ]
    },
    {
      "cell_type": "code",
      "metadata": {
        "id": "eSOPsOXd3OzH"
      },
      "source": [
        ""
      ],
      "execution_count": null,
      "outputs": []
    }
  ]
}